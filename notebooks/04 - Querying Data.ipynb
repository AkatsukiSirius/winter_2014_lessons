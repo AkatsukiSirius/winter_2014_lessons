{
 "metadata": {
  "name": "",
  "signature": "sha256:ba3477811512789408d719312c58ee37e2c1ef314bfde7769d5d923d2e532f91"
 },
 "nbformat": 3,
 "nbformat_minor": 0,
 "worksheets": [
  {
   "cells": [
    {
     "cell_type": "heading",
     "level": 1,
     "metadata": {},
     "source": [
      "Quick Word on Project Lightning Talks 1/26!"
     ]
    },
    {
     "cell_type": "markdown",
     "metadata": {},
     "source": [
      "A lightning talk is a very short presentation given at a conference or similar forum. Unlike other presentations, lightning talks last only a few minutes and several will usually be delivered in a single period by different speakers."
     ]
    },
    {
     "cell_type": "markdown",
     "metadata": {},
     "source": [
      "# Querying Data"
     ]
    },
    {
     "cell_type": "markdown",
     "metadata": {},
     "source": [
      "![](http://imgs.xkcd.com/comics/exploits_of_a_mom.png)\n",
      "> \n",
      "\n",
      "<footer>~ XKCD</footer>"
     ]
    },
    {
     "cell_type": "markdown",
     "metadata": {},
     "source": [
      "![break](assets/agenda.svg)"
     ]
    },
    {
     "cell_type": "markdown",
     "metadata": {},
     "source": [
      "## Agenda"
     ]
    },
    {
     "cell_type": "markdown",
     "metadata": {},
     "source": [
      "1. [Intro To Databases](#Intro-To-Databases)\n",
      "1. [Relational Databases](#Relational-Databases)\n",
      "\n",
      "**Labs:**\n",
      "1. [SQL Queries](#Lab:-SQL-Queries)\n",
      "1. [Pandas Workshop](#Pandas-Workshop)"
     ]
    },
    {
     "cell_type": "markdown",
     "metadata": {},
     "source": [
      "![break](assets/theory.svg)"
     ]
    },
    {
     "cell_type": "heading",
     "level": 2,
     "metadata": {},
     "source": [
      "Intro To Databases"
     ]
    },
    {
     "cell_type": "markdown",
     "metadata": {},
     "source": [
      "Databases are a **structured** data source optimized for\n",
      "efficient **retrieval and storage**.\n",
      "\n",
      "* **structured**: we have to pre-define organization strategy\n",
      "* **retrieval**: the ability to read data out\n",
      "* **storage**: the ability to write data and save it"
     ]
    },
    {
     "cell_type": "heading",
     "level": 2,
     "metadata": {},
     "source": [
      "Relational Databases"
     ]
    },
    {
     "cell_type": "markdown",
     "metadata": {},
     "source": [
      "Relational databases are traditionally organized in the\n",
      "following manner:\n",
      "    \n",
      "* A database has tables which represent individual entities\n",
      "or objects\n",
      "* Tables have predefined schema \u2013 rules that tell it what\n",
      "the data will look like"
     ]
    },
    {
     "cell_type": "markdown",
     "metadata": {},
     "source": [
      "![](assets/relational-databases_1.png)"
     ]
    },
    {
     "cell_type": "markdown",
     "metadata": {},
     "source": [
      "We could have had a table structure as follows:\n",
      "Why is this different?"
     ]
    },
    {
     "cell_type": "markdown",
     "metadata": {},
     "source": [
      "![](assets/relational-databases_3.png)"
     ]
    },
    {
     "cell_type": "markdown",
     "metadata": {},
     "source": [
      "We would repeat the user information in each row. This is called denormalization."
     ]
    },
    {
     "cell_type": "heading",
     "level": 4,
     "metadata": {},
     "source": [
      "Normalised vs Denormalised"
     ]
    },
    {
     "cell_type": "markdown",
     "metadata": {},
     "source": [
      "**Normalized Data**: Many tables to reduce redundant or\n",
      "repeated data in a table\n",
      "\n",
      "**Denormalized Data**: Wide data with fields often repeated\n",
      "but removes the need to join together multiple tables\n",
      "\n",
      "**This is a trade off of speed vs storage.**"
     ]
    },
    {
     "cell_type": "markdown",
     "metadata": {},
     "source": [
      "![](assets/relational-databases_4.png)"
     ]
    },
    {
     "cell_type": "markdown",
     "metadata": {},
     "source": [
      "**Q: How do we commonly evaluate databases?**\n",
      "    \n",
      "* read-speed vs write-speed\n",
      "* space considerations\n",
      "* (and many, many other criteria)"
     ]
    },
    {
     "cell_type": "markdown",
     "metadata": {},
     "source": [
      "**Q: Why are normalized tables (possibly) slower to read?**\n",
      "    \n",
      "A: We\u2019ll have to get data from multiple tables to answer\n",
      "some questions"
     ]
    },
    {
     "cell_type": "markdown",
     "metadata": {},
     "source": [
      "**Q: Why are denormalized tables (possibly) slower to write?**\n",
      "\n",
      "A: We\u2019ll have to write more information on each write"
     ]
    },
    {
     "cell_type": "heading",
     "level": 4,
     "metadata": {},
     "source": [
      "SQL"
     ]
    },
    {
     "cell_type": "markdown",
     "metadata": {},
     "source": [
      "SQL is a query language to load, retrieve, and update data in relational databases\n",
      "\n",
      "Most commonly known SQL-like Databases include:\n",
      "* Oracle\n",
      "* MySQL\n",
      "* PostgreSQL"
     ]
    },
    {
     "cell_type": "markdown",
     "metadata": {},
     "source": [
      "**SELECT: Allows you to retrieve information from a table**\n",
      "\n",
      "Syntax:\n",
      "\n",
      "```SQL\n",
      "SELECT col1, col2\n",
      "FROM table WHERE [some condition]\n",
      "```\n",
      "\n",
      "Example:\n",
      "\n",
      "```SQL\n",
      "SELECT poll_title, poll_date FROM polls WHERE\n",
      "romney_pct > obama_pct\n",
      "```"
     ]
    },
    {
     "cell_type": "markdown",
     "metadata": {},
     "source": [
      "**GROUP BY: Allows you to aggregate information.**\n",
      "\n",
      "Syntax:\n",
      "\n",
      "    SELECT col1, AVG(col2)\n",
      "    FROM table GROUP BY col1\n",
      "\n",
      "Example:\n",
      "\n",
      "    SELECT poll_date, AVG(obama_pct)\n",
      "    FROM polls GROUP BY poll_date"
     ]
    },
    {
     "cell_type": "markdown",
     "metadata": {},
     "source": [
      "**GROUP BY: Allows you to aggregate information.**\n",
      "\n",
      "Syntax:\n",
      "\n",
      "    SELECT col1, AVG(col2)\n",
      "    FROM table GROUP BY col1\n",
      "\n",
      "There are usually a few common built-in operations:\n",
      "\n",
      "    SUM, AVG, MIN, MAX, COUNT"
     ]
    },
    {
     "cell_type": "markdown",
     "metadata": {},
     "source": [
      "** JOIN: Allows you to combine multiple tables**\n",
      "\n",
      "Syntax:\n",
      "\n",
      "    SELECT t1.c1, t1.c2, t2.c2\n",
      "    FROM t1 JOIN t2 ON t1.c1 = t2.c2"
     ]
    },
    {
     "cell_type": "markdown",
     "metadata": {},
     "source": [
      "**INSERT: Allows you to add data to tables**\n",
      "\n",
      "Syntax:\n",
      "\n",
      "    INSERT INTO table1 (col1, col2)\n",
      "    VALUES (...)\n",
      "    INSERT INTO classroom (first_name, last_name)\n",
      "    VALUES (\u2018John\u2019, \u2018Doe\u2019)"
     ]
    },
    {
     "cell_type": "markdown",
     "metadata": {},
     "source": [
      "![break](assets/code.svg)"
     ]
    },
    {
     "cell_type": "heading",
     "level": 2,
     "metadata": {},
     "source": [
      "Lab: SQL Queries"
     ]
    },
    {
     "cell_type": "markdown",
     "metadata": {},
     "source": [
      "We'll be playing with the live database available at [W3Schools](http://www.w3schools.com/sql/trysql.asp?filename=trysql_select_all)"
     ]
    },
    {
     "cell_type": "heading",
     "level": 3,
     "metadata": {},
     "source": [
      "Questions"
     ]
    },
    {
     "cell_type": "markdown",
     "metadata": {},
     "source": [
      "Let's walk through a few examples:\n",
      "\n",
      "**1) Retrieve all Customers from Madrid**\n",
      "\n",
      "```SQL\n",
      "SELECT * FROM Customers WHERE City='Madrid'\n",
      "```\n",
      "\n",
      "**2) What is the most common city for customers?**\n",
      "\n",
      "```SQL\n",
      "SELECT City, COUNT(*) FROM Customers GROUP BY City\n",
      "```\n",
      "\n",
      "**3) What category has the most products?**\n",
      "\n",
      "```SQL\n",
      "SELECT CategoryName, COUNT(*) FROM Categories\n",
      "JOIN Products on (Categories.CategoryID = Products.CategoryID)\n",
      "GROUP BY CategoryName\n",
      "```"
     ]
    },
    {
     "cell_type": "markdown",
     "metadata": {},
     "source": [
      "### Classwork\n",
      "With your partner work through the following"
     ]
    },
    {
     "cell_type": "markdown",
     "metadata": {},
     "source": [
      "1. What customers are from the UK\n",
      "2. What is the name of the customer who has the most orders?\n",
      "3. What supplier has the highest average product price?\n",
      "4. What category has the most orders?\n",
      "5. What employee made the most sales (by number of sales)?\n",
      "6. What employee made the most sales (by value of sales)?\n",
      "7. What employees have BS degrees? (Hint: Look at LIKE operator)\n",
      "8. What supplier has the highest average product price *assuming they have at least 2 products* (Hint: Look at the HAVING operator)"
     ]
    },
    {
     "cell_type": "markdown",
     "metadata": {},
     "source": [
      "```SQL\n",
      "-- What customers are from the UK?\n",
      "SELECT * FROM Customers WHERE Country = 'UK'\n",
      "\n",
      "-- What is the name of the customer who has the most orders?\n",
      "```"
     ]
    },
    {
     "cell_type": "markdown",
     "metadata": {},
     "source": [
      "![break](assets/code.svg)"
     ]
    },
    {
     "cell_type": "heading",
     "level": 3,
     "metadata": {},
     "source": [
      "Pandas Workshop"
     ]
    },
    {
     "cell_type": "markdown",
     "metadata": {},
     "source": [
      "Now that you've added some SQL to your toolbelt, it would be wonderful if you could also use that knowledge in python. Though there are quite a few advanced libraries to [deal with SQL in python](http://www.sqlalchemy.org/), for most applications where data volumes are managable, _pandas dataframes_ offer functionalities similar to SQL. So let's see how we can use Pandas to splice and dice our data."
     ]
    },
    {
     "cell_type": "markdown",
     "metadata": {},
     "source": [
      "A `DataFrame` is a tabular data structure, encapsulating multiple series like columns in a spreadsheet. Data are stored internally as a 2-dimensional object, but the `DataFrame` allows us to represent and manipulate higher-dimensional data."
     ]
    },
    {
     "cell_type": "code",
     "collapsed": false,
     "input": [
      "%pwd"
     ],
     "language": "python",
     "metadata": {},
     "outputs": [
      {
       "metadata": {},
       "output_type": "pyout",
       "prompt_number": 1,
       "text": [
        "u'/Users/katiebarnwell/Personal/DataScience17/winter_2014_lessons/notebooks'"
       ]
      }
     ],
     "prompt_number": 1
    },
    {
     "cell_type": "code",
     "collapsed": false,
     "input": [
      "%matplotlib inline\n",
      "import pandas as pd\n",
      "import numpy as np\n",
      "\n",
      "# Set some Pandas options\n",
      "pd.set_option('max_columns', 30)\n",
      "pd.set_option('max_rows', 20)\n",
      "\n",
      "# Store data in a consistent place\n",
      "\n",
      "DATA_DIR = '/Users/katiebarnwell/Personal/DataScience17/'"
     ],
     "language": "python",
     "metadata": {},
     "outputs": [],
     "prompt_number": 14
    },
    {
     "cell_type": "markdown",
     "metadata": {},
     "source": [
      "## The NYTimes data is hosted across 30 csv files:\n",
      "    \n",
      "### Replace # with anything between 1 and 30\n",
      "http://stat.columbia.edu/~rachel/datasets/nyt#.csv"
     ]
    },
    {
     "cell_type": "code",
     "collapsed": false,
     "input": [
      "!curl http://stat.columbia.edu/~rachel/datasets/nyt22.csv > /Users/katiebarnwell/Personal/DataScience17/nytimes.csv"
     ],
     "language": "python",
     "metadata": {},
     "outputs": [
      {
       "output_type": "stream",
       "stream": "stdout",
       "text": [
        "  % Total    % Received % Xferd  Average Speed   Time    Time     Time  Current\r\n",
        "                                 Dload  Upload   Total   Spent    Left  Speed\r\n",
        "\r",
        "  0     0    0     0    0     0      0      0 --:--:-- --:--:-- --:--:--     0"
       ]
      },
      {
       "output_type": "stream",
       "stream": "stdout",
       "text": [
        "\r",
        "  7 4527k    7  351k    0     0   748k      0  0:00:06 --:--:--  0:00:06  748k"
       ]
      },
      {
       "output_type": "stream",
       "stream": "stdout",
       "text": [
        "\r",
        " 40 4527k   40 1829k    0     0  1240k      0  0:00:03  0:00:01  0:00:02 1240k"
       ]
      },
      {
       "output_type": "stream",
       "stream": "stdout",
       "text": [
        "\r",
        " 66 4527k   66 3000k    0     0  1175k      0  0:00:03  0:00:02  0:00:01 1174k"
       ]
      },
      {
       "output_type": "stream",
       "stream": "stdout",
       "text": [
        "\r",
        " 81 4527k   81 3698k    0     0   935k      0  0:00:04  0:00:03  0:00:01  935k"
       ]
      },
      {
       "output_type": "stream",
       "stream": "stdout",
       "text": [
        "\r",
        "100 4527k  100 4527k    0     0  1069k      0  0:00:04  0:00:04 --:--:-- 1069k\r\n"
       ]
      }
     ],
     "prompt_number": 18
    },
    {
     "cell_type": "code",
     "collapsed": false,
     "input": [
      "df = pd.read_csv(DATA_DIR + 'nytimes.csv')"
     ],
     "language": "python",
     "metadata": {},
     "outputs": [],
     "prompt_number": 19
    },
    {
     "cell_type": "code",
     "collapsed": false,
     "input": [
      "df[:10]"
     ],
     "language": "python",
     "metadata": {},
     "outputs": [
      {
       "html": [
        "<div style=\"max-height:1000px;max-width:1500px;overflow:auto;\">\n",
        "<table border=\"1\" class=\"dataframe\">\n",
        "  <thead>\n",
        "    <tr style=\"text-align: right;\">\n",
        "      <th></th>\n",
        "      <th>Age</th>\n",
        "      <th>Gender</th>\n",
        "      <th>Impressions</th>\n",
        "      <th>Clicks</th>\n",
        "      <th>Signed_In</th>\n",
        "    </tr>\n",
        "  </thead>\n",
        "  <tbody>\n",
        "    <tr>\n",
        "      <th>0</th>\n",
        "      <td> 43</td>\n",
        "      <td> 0</td>\n",
        "      <td> 2</td>\n",
        "      <td> 0</td>\n",
        "      <td> 1</td>\n",
        "    </tr>\n",
        "    <tr>\n",
        "      <th>1</th>\n",
        "      <td> 52</td>\n",
        "      <td> 1</td>\n",
        "      <td> 2</td>\n",
        "      <td> 0</td>\n",
        "      <td> 1</td>\n",
        "    </tr>\n",
        "    <tr>\n",
        "      <th>2</th>\n",
        "      <td>  0</td>\n",
        "      <td> 0</td>\n",
        "      <td> 8</td>\n",
        "      <td> 0</td>\n",
        "      <td> 0</td>\n",
        "    </tr>\n",
        "    <tr>\n",
        "      <th>3</th>\n",
        "      <td> 56</td>\n",
        "      <td> 0</td>\n",
        "      <td> 2</td>\n",
        "      <td> 0</td>\n",
        "      <td> 1</td>\n",
        "    </tr>\n",
        "    <tr>\n",
        "      <th>4</th>\n",
        "      <td> 15</td>\n",
        "      <td> 1</td>\n",
        "      <td> 6</td>\n",
        "      <td> 0</td>\n",
        "      <td> 1</td>\n",
        "    </tr>\n",
        "    <tr>\n",
        "      <th>5</th>\n",
        "      <td> 19</td>\n",
        "      <td> 0</td>\n",
        "      <td> 3</td>\n",
        "      <td> 0</td>\n",
        "      <td> 1</td>\n",
        "    </tr>\n",
        "    <tr>\n",
        "      <th>6</th>\n",
        "      <td>  0</td>\n",
        "      <td> 0</td>\n",
        "      <td> 3</td>\n",
        "      <td> 0</td>\n",
        "      <td> 0</td>\n",
        "    </tr>\n",
        "    <tr>\n",
        "      <th>7</th>\n",
        "      <td>  0</td>\n",
        "      <td> 0</td>\n",
        "      <td> 3</td>\n",
        "      <td> 0</td>\n",
        "      <td> 0</td>\n",
        "    </tr>\n",
        "    <tr>\n",
        "      <th>8</th>\n",
        "      <td> 47</td>\n",
        "      <td> 1</td>\n",
        "      <td> 3</td>\n",
        "      <td> 0</td>\n",
        "      <td> 1</td>\n",
        "    </tr>\n",
        "    <tr>\n",
        "      <th>9</th>\n",
        "      <td>  0</td>\n",
        "      <td> 0</td>\n",
        "      <td> 8</td>\n",
        "      <td> 2</td>\n",
        "      <td> 0</td>\n",
        "    </tr>\n",
        "  </tbody>\n",
        "</table>\n",
        "</div>"
       ],
       "metadata": {},
       "output_type": "pyout",
       "prompt_number": 20,
       "text": [
        "   Age  Gender  Impressions  Clicks  Signed_In\n",
        "0   43       0            2       0          1\n",
        "1   52       1            2       0          1\n",
        "2    0       0            8       0          0\n",
        "3   56       0            2       0          1\n",
        "4   15       1            6       0          1\n",
        "5   19       0            3       0          1\n",
        "6    0       0            3       0          0\n",
        "7    0       0            3       0          0\n",
        "8   47       1            3       0          1\n",
        "9    0       0            8       2          0"
       ]
      }
     ],
     "prompt_number": 20
    },
    {
     "cell_type": "markdown",
     "metadata": {},
     "source": [
      "The tabular data has both a primary `index` for rows, and a secondary index for `columns`"
     ]
    },
    {
     "cell_type": "code",
     "collapsed": false,
     "input": [
      "df.index"
     ],
     "language": "python",
     "metadata": {},
     "outputs": [
      {
       "metadata": {},
       "output_type": "pyout",
       "prompt_number": 21,
       "text": [
        "Int64Index([0, 1, 2, 3, 4, 5, 6, 7, 8, 9, 10, 11, 12, 13, 14, 15, 16, 17, 18, 19, 20, 21, 22, 23, 24, 25, 26, 27, 28, 29, 30, 31, 32, 33, 34, 35, 36, 37, 38, 39, 40, 41, 42, 43, 44, 45, 46, 47, 48, 49, 50, 51, 52, 53, 54, 55, 56, 57, 58, 59, 60, 61, 62, 63, 64, 65, 66, 67, 68, 69, 70, 71, 72, 73, 74, 75, 76, 77, 78, 79, 80, 81, 82, 83, 84, 85, 86, 87, 88, 89, 90, 91, 92, 93, 94, 95, 96, 97, 98, 99, ...], dtype='int64')"
       ]
      }
     ],
     "prompt_number": 21
    },
    {
     "cell_type": "code",
     "collapsed": false,
     "input": [
      "df.columns"
     ],
     "language": "python",
     "metadata": {},
     "outputs": [
      {
       "metadata": {},
       "output_type": "pyout",
       "prompt_number": 22,
       "text": [
        "Index([u'Age', u'Gender', u'Impressions', u'Clicks', u'Signed_In'], dtype='object')"
       ]
      }
     ],
     "prompt_number": 22
    },
    {
     "cell_type": "markdown",
     "metadata": {},
     "source": [
      "You can rename the columns by either writing directly to the `columns` property or using the built in `rename()` method."
     ]
    },
    {
     "cell_type": "code",
     "collapsed": false,
     "input": [
      "df.columns = [u'ERROR', u'Gender', u'Impressions', u'Clicks', u'Signed_In']\n",
      "df.columns"
     ],
     "language": "python",
     "metadata": {},
     "outputs": [
      {
       "metadata": {},
       "output_type": "pyout",
       "prompt_number": 23,
       "text": [
        "Index([u'ERROR', u'Gender', u'Impressions', u'Clicks', u'Signed_In'], dtype='object')"
       ]
      }
     ],
     "prompt_number": 23
    },
    {
     "cell_type": "code",
     "collapsed": false,
     "input": [
      "df.rename(columns={'ERROR':'Age'}, inplace=True)\n",
      "df.columns"
     ],
     "language": "python",
     "metadata": {},
     "outputs": [
      {
       "metadata": {},
       "output_type": "pyout",
       "prompt_number": 24,
       "text": [
        "Index([u'Age', u'Gender', u'Impressions', u'Clicks', u'Signed_In'], dtype='object')"
       ]
      }
     ],
     "prompt_number": 24
    },
    {
     "cell_type": "markdown",
     "metadata": {},
     "source": [
      "If we wish to access columns, we can do so either by dict-like indexing or by attribute:"
     ]
    },
    {
     "cell_type": "code",
     "collapsed": false,
     "input": [
      "df['Age']"
     ],
     "language": "python",
     "metadata": {},
     "outputs": [
      {
       "metadata": {},
       "output_type": "pyout",
       "prompt_number": 25,
       "text": [
        "0    43\n",
        "1    52\n",
        "2     0\n",
        "3    56\n",
        "4    15\n",
        "5    19\n",
        "6     0\n",
        "7     0\n",
        "...\n",
        "438084     0\n",
        "438085    33\n",
        "438086     0\n",
        "438087    49\n",
        "438088    32\n",
        "438089    38\n",
        "438090    36\n",
        "438091    40\n",
        "Name: Age, Length: 438092, dtype: int64"
       ]
      }
     ],
     "prompt_number": 25
    },
    {
     "cell_type": "code",
     "collapsed": false,
     "input": [
      "df.Age"
     ],
     "language": "python",
     "metadata": {},
     "outputs": [
      {
       "metadata": {},
       "output_type": "pyout",
       "prompt_number": 26,
       "text": [
        "0    43\n",
        "1    52\n",
        "2     0\n",
        "3    56\n",
        "4    15\n",
        "5    19\n",
        "6     0\n",
        "7     0\n",
        "...\n",
        "438084     0\n",
        "438085    33\n",
        "438086     0\n",
        "438087    49\n",
        "438088    32\n",
        "438089    38\n",
        "438090    36\n",
        "438091    40\n",
        "Name: Age, Length: 438092, dtype: int64"
       ]
      }
     ],
     "prompt_number": 26
    },
    {
     "cell_type": "markdown",
     "metadata": {},
     "source": [
      "While these may look the same on the surface, when accessed with the dotnation the columns in Pandas DataFrames returns a Series - another Pandas datatype. When using the bracket notation it will just return another DataFrame."
     ]
    },
    {
     "cell_type": "code",
     "collapsed": false,
     "input": [
      "type(df.Age)"
     ],
     "language": "python",
     "metadata": {},
     "outputs": [
      {
       "metadata": {},
       "output_type": "pyout",
       "prompt_number": 27,
       "text": [
        "pandas.core.series.Series"
       ]
      }
     ],
     "prompt_number": 27
    },
    {
     "cell_type": "code",
     "collapsed": false,
     "input": [
      "type(df[['Age']])"
     ],
     "language": "python",
     "metadata": {},
     "outputs": [
      {
       "metadata": {},
       "output_type": "pyout",
       "prompt_number": 28,
       "text": [
        "pandas.core.frame.DataFrame"
       ]
      }
     ],
     "prompt_number": 28
    },
    {
     "cell_type": "markdown",
     "metadata": {},
     "source": [
      "This difference means that than with `Series`, we can use dict-like indexing to retrieve a particular element (row). But if we want access to a row in a `DataFrame`, we retrieve an index using its `ix` attribute.\n"
     ]
    },
    {
     "cell_type": "code",
     "collapsed": false,
     "input": [
      "df.Age[3]"
     ],
     "language": "python",
     "metadata": {},
     "outputs": [
      {
       "metadata": {},
       "output_type": "pyout",
       "prompt_number": 29,
       "text": [
        "56"
       ]
      }
     ],
     "prompt_number": 29
    },
    {
     "cell_type": "code",
     "collapsed": false,
     "input": [
      "df['Age'].ix[3]"
     ],
     "language": "python",
     "metadata": {},
     "outputs": [
      {
       "metadata": {},
       "output_type": "pyout",
       "prompt_number": 30,
       "text": [
        "56"
       ]
      }
     ],
     "prompt_number": 30
    },
    {
     "cell_type": "code",
     "collapsed": false,
     "input": [
      "# df[3]\n",
      "# This doesn't retrieves the third row, instead it tries to find the column with the label"
     ],
     "language": "python",
     "metadata": {},
     "outputs": [],
     "prompt_number": 31
    },
    {
     "cell_type": "markdown",
     "metadata": {},
     "source": [
      "Its important to note that the Series returned when a DataFrame is indexed is merely a **view** on the DataFrame, and not a copy of the data itself. So you must be cautious when manipulating this data:"
     ]
    },
    {
     "cell_type": "code",
     "collapsed": false,
     "input": [
      "ages = df.Age\n",
      "ages"
     ],
     "language": "python",
     "metadata": {},
     "outputs": [
      {
       "metadata": {},
       "output_type": "pyout",
       "prompt_number": 32,
       "text": [
        "0    43\n",
        "1    52\n",
        "2     0\n",
        "3    56\n",
        "4    15\n",
        "5    19\n",
        "6     0\n",
        "7     0\n",
        "...\n",
        "438084     0\n",
        "438085    33\n",
        "438086     0\n",
        "438087    49\n",
        "438088    32\n",
        "438089    38\n",
        "438090    36\n",
        "438091    40\n",
        "Name: Age, Length: 438092, dtype: int64"
       ]
      }
     ],
     "prompt_number": 32
    },
    {
     "cell_type": "code",
     "collapsed": false,
     "input": [
      "ages[:10] = 0\n",
      "ages"
     ],
     "language": "python",
     "metadata": {},
     "outputs": [
      {
       "metadata": {},
       "output_type": "pyout",
       "prompt_number": 33,
       "text": [
        "0    0\n",
        "1    0\n",
        "2    0\n",
        "3    0\n",
        "4    0\n",
        "5    0\n",
        "6    0\n",
        "7    0\n",
        "...\n",
        "438084     0\n",
        "438085    33\n",
        "438086     0\n",
        "438087    49\n",
        "438088    32\n",
        "438089    38\n",
        "438090    36\n",
        "438091    40\n",
        "Name: Age, Length: 438092, dtype: int64"
       ]
      }
     ],
     "prompt_number": 33
    },
    {
     "cell_type": "code",
     "collapsed": false,
     "input": [
      "df.Age"
     ],
     "language": "python",
     "metadata": {},
     "outputs": [
      {
       "metadata": {},
       "output_type": "pyout",
       "prompt_number": 34,
       "text": [
        "0    0\n",
        "1    0\n",
        "2    0\n",
        "3    0\n",
        "4    0\n",
        "5    0\n",
        "6    0\n",
        "7    0\n",
        "...\n",
        "438084     0\n",
        "438085    33\n",
        "438086     0\n",
        "438087    49\n",
        "438088    32\n",
        "438089    38\n",
        "438090    36\n",
        "438091    40\n",
        "Name: Age, Length: 438092, dtype: int64"
       ]
      }
     ],
     "prompt_number": 34
    },
    {
     "cell_type": "markdown",
     "metadata": {},
     "source": [
      "If you wanted to avoid creating a view and would instead prefer to **copy** the data out, the `copy()` method is your friend."
     ]
    },
    {
     "cell_type": "code",
     "collapsed": false,
     "input": [
      "ages = df.Age.copy()\n",
      "ages[:10] = range(10)\n",
      "ages"
     ],
     "language": "python",
     "metadata": {},
     "outputs": [
      {
       "metadata": {},
       "output_type": "pyout",
       "prompt_number": 35,
       "text": [
        "0    0\n",
        "1    1\n",
        "2    2\n",
        "3    3\n",
        "4    4\n",
        "5    5\n",
        "6    6\n",
        "7    7\n",
        "...\n",
        "438084     0\n",
        "438085    33\n",
        "438086     0\n",
        "438087    49\n",
        "438088    32\n",
        "438089    38\n",
        "438090    36\n",
        "438091    40\n",
        "Name: Age, Length: 438092, dtype: int64"
       ]
      }
     ],
     "prompt_number": 35
    },
    {
     "cell_type": "code",
     "collapsed": false,
     "input": [
      "df.Age"
     ],
     "language": "python",
     "metadata": {},
     "outputs": [
      {
       "metadata": {},
       "output_type": "pyout",
       "prompt_number": 36,
       "text": [
        "0    0\n",
        "1    0\n",
        "2    0\n",
        "3    0\n",
        "4    0\n",
        "5    0\n",
        "6    0\n",
        "7    0\n",
        "...\n",
        "438084     0\n",
        "438085    33\n",
        "438086     0\n",
        "438087    49\n",
        "438088    32\n",
        "438089    38\n",
        "438090    36\n",
        "438091    40\n",
        "Name: Age, Length: 438092, dtype: int64"
       ]
      }
     ],
     "prompt_number": 36
    },
    {
     "cell_type": "markdown",
     "metadata": {},
     "source": [
      "We can create or modify columns by assignment"
     ]
    },
    {
     "cell_type": "code",
     "collapsed": false,
     "input": [
      "df['Age'][0] = 49\n",
      "ages"
     ],
     "language": "python",
     "metadata": {},
     "outputs": [
      {
       "metadata": {},
       "output_type": "pyout",
       "prompt_number": 37,
       "text": [
        "0    0\n",
        "1    1\n",
        "2    2\n",
        "3    3\n",
        "4    4\n",
        "5    5\n",
        "6    6\n",
        "7    7\n",
        "...\n",
        "438084     0\n",
        "438085    33\n",
        "438086     0\n",
        "438087    49\n",
        "438088    32\n",
        "438089    38\n",
        "438090    36\n",
        "438091    40\n",
        "Name: Age, Length: 438092, dtype: int64"
       ]
      }
     ],
     "prompt_number": 37
    },
    {
     "cell_type": "code",
     "collapsed": false,
     "input": [
      "df['site'] = 'NYT'\n",
      "df"
     ],
     "language": "python",
     "metadata": {},
     "outputs": [
      {
       "html": [
        "<div style=\"max-height:1000px;max-width:1500px;overflow:auto;\">\n",
        "<table border=\"1\" class=\"dataframe\">\n",
        "  <thead>\n",
        "    <tr style=\"text-align: right;\">\n",
        "      <th></th>\n",
        "      <th>Age</th>\n",
        "      <th>Gender</th>\n",
        "      <th>Impressions</th>\n",
        "      <th>Clicks</th>\n",
        "      <th>Signed_In</th>\n",
        "      <th>site</th>\n",
        "    </tr>\n",
        "  </thead>\n",
        "  <tbody>\n",
        "    <tr>\n",
        "      <th>0     </th>\n",
        "      <td> 49</td>\n",
        "      <td> 0</td>\n",
        "      <td>  2</td>\n",
        "      <td> 0</td>\n",
        "      <td> 1</td>\n",
        "      <td> NYT</td>\n",
        "    </tr>\n",
        "    <tr>\n",
        "      <th>1     </th>\n",
        "      <td>  0</td>\n",
        "      <td> 1</td>\n",
        "      <td>  2</td>\n",
        "      <td> 0</td>\n",
        "      <td> 1</td>\n",
        "      <td> NYT</td>\n",
        "    </tr>\n",
        "    <tr>\n",
        "      <th>2     </th>\n",
        "      <td>  0</td>\n",
        "      <td> 0</td>\n",
        "      <td>  8</td>\n",
        "      <td> 0</td>\n",
        "      <td> 0</td>\n",
        "      <td> NYT</td>\n",
        "    </tr>\n",
        "    <tr>\n",
        "      <th>3     </th>\n",
        "      <td>  0</td>\n",
        "      <td> 0</td>\n",
        "      <td>  2</td>\n",
        "      <td> 0</td>\n",
        "      <td> 1</td>\n",
        "      <td> NYT</td>\n",
        "    </tr>\n",
        "    <tr>\n",
        "      <th>4     </th>\n",
        "      <td>  0</td>\n",
        "      <td> 1</td>\n",
        "      <td>  6</td>\n",
        "      <td> 0</td>\n",
        "      <td> 1</td>\n",
        "      <td> NYT</td>\n",
        "    </tr>\n",
        "    <tr>\n",
        "      <th>5     </th>\n",
        "      <td>  0</td>\n",
        "      <td> 0</td>\n",
        "      <td>  3</td>\n",
        "      <td> 0</td>\n",
        "      <td> 1</td>\n",
        "      <td> NYT</td>\n",
        "    </tr>\n",
        "    <tr>\n",
        "      <th>6     </th>\n",
        "      <td>  0</td>\n",
        "      <td> 0</td>\n",
        "      <td>  3</td>\n",
        "      <td> 0</td>\n",
        "      <td> 0</td>\n",
        "      <td> NYT</td>\n",
        "    </tr>\n",
        "    <tr>\n",
        "      <th>7     </th>\n",
        "      <td>  0</td>\n",
        "      <td> 0</td>\n",
        "      <td>  3</td>\n",
        "      <td> 0</td>\n",
        "      <td> 0</td>\n",
        "      <td> NYT</td>\n",
        "    </tr>\n",
        "    <tr>\n",
        "      <th>8     </th>\n",
        "      <td>  0</td>\n",
        "      <td> 1</td>\n",
        "      <td>  3</td>\n",
        "      <td> 0</td>\n",
        "      <td> 1</td>\n",
        "      <td> NYT</td>\n",
        "    </tr>\n",
        "    <tr>\n",
        "      <th>9     </th>\n",
        "      <td>  0</td>\n",
        "      <td> 0</td>\n",
        "      <td>  8</td>\n",
        "      <td> 2</td>\n",
        "      <td> 0</td>\n",
        "      <td> NYT</td>\n",
        "    </tr>\n",
        "    <tr>\n",
        "      <th>...</th>\n",
        "      <td>...</td>\n",
        "      <td>...</td>\n",
        "      <td>...</td>\n",
        "      <td>...</td>\n",
        "      <td>...</td>\n",
        "      <td>...</td>\n",
        "    </tr>\n",
        "    <tr>\n",
        "      <th>438082</th>\n",
        "      <td> 45</td>\n",
        "      <td> 0</td>\n",
        "      <td>  3</td>\n",
        "      <td> 0</td>\n",
        "      <td> 1</td>\n",
        "      <td> NYT</td>\n",
        "    </tr>\n",
        "    <tr>\n",
        "      <th>438083</th>\n",
        "      <td> 64</td>\n",
        "      <td> 1</td>\n",
        "      <td>  3</td>\n",
        "      <td> 0</td>\n",
        "      <td> 1</td>\n",
        "      <td> NYT</td>\n",
        "    </tr>\n",
        "    <tr>\n",
        "      <th>438084</th>\n",
        "      <td>  0</td>\n",
        "      <td> 0</td>\n",
        "      <td>  5</td>\n",
        "      <td> 0</td>\n",
        "      <td> 0</td>\n",
        "      <td> NYT</td>\n",
        "    </tr>\n",
        "    <tr>\n",
        "      <th>438085</th>\n",
        "      <td> 33</td>\n",
        "      <td> 0</td>\n",
        "      <td>  4</td>\n",
        "      <td> 0</td>\n",
        "      <td> 1</td>\n",
        "      <td> NYT</td>\n",
        "    </tr>\n",
        "    <tr>\n",
        "      <th>438086</th>\n",
        "      <td>  0</td>\n",
        "      <td> 0</td>\n",
        "      <td>  9</td>\n",
        "      <td> 0</td>\n",
        "      <td> 0</td>\n",
        "      <td> NYT</td>\n",
        "    </tr>\n",
        "    <tr>\n",
        "      <th>438087</th>\n",
        "      <td> 49</td>\n",
        "      <td> 1</td>\n",
        "      <td> 10</td>\n",
        "      <td> 0</td>\n",
        "      <td> 1</td>\n",
        "      <td> NYT</td>\n",
        "    </tr>\n",
        "    <tr>\n",
        "      <th>438088</th>\n",
        "      <td> 32</td>\n",
        "      <td> 0</td>\n",
        "      <td>  4</td>\n",
        "      <td> 1</td>\n",
        "      <td> 1</td>\n",
        "      <td> NYT</td>\n",
        "    </tr>\n",
        "    <tr>\n",
        "      <th>438089</th>\n",
        "      <td> 38</td>\n",
        "      <td> 1</td>\n",
        "      <td>  3</td>\n",
        "      <td> 0</td>\n",
        "      <td> 1</td>\n",
        "      <td> NYT</td>\n",
        "    </tr>\n",
        "    <tr>\n",
        "      <th>438090</th>\n",
        "      <td> 36</td>\n",
        "      <td> 0</td>\n",
        "      <td>  1</td>\n",
        "      <td> 0</td>\n",
        "      <td> 1</td>\n",
        "      <td> NYT</td>\n",
        "    </tr>\n",
        "    <tr>\n",
        "      <th>438091</th>\n",
        "      <td> 40</td>\n",
        "      <td> 0</td>\n",
        "      <td>  4</td>\n",
        "      <td> 0</td>\n",
        "      <td> 1</td>\n",
        "      <td> NYT</td>\n",
        "    </tr>\n",
        "  </tbody>\n",
        "</table>\n",
        "<p>438092 rows \u00d7 6 columns</p>\n",
        "</div>"
       ],
       "metadata": {},
       "output_type": "pyout",
       "prompt_number": 38,
       "text": [
        "        Age  Gender  Impressions  Clicks  Signed_In site\n",
        "0        49       0            2       0          1  NYT\n",
        "1         0       1            2       0          1  NYT\n",
        "2         0       0            8       0          0  NYT\n",
        "3         0       0            2       0          1  NYT\n",
        "4         0       1            6       0          1  NYT\n",
        "5         0       0            3       0          1  NYT\n",
        "6         0       0            3       0          0  NYT\n",
        "7         0       0            3       0          0  NYT\n",
        "8         0       1            3       0          1  NYT\n",
        "9         0       0            8       2          0  NYT\n",
        "...     ...     ...          ...     ...        ...  ...\n",
        "438082   45       0            3       0          1  NYT\n",
        "438083   64       1            3       0          1  NYT\n",
        "438084    0       0            5       0          0  NYT\n",
        "438085   33       0            4       0          1  NYT\n",
        "438086    0       0            9       0          0  NYT\n",
        "438087   49       1           10       0          1  NYT\n",
        "438088   32       0            4       1          1  NYT\n",
        "438089   38       1            3       0          1  NYT\n",
        "438090   36       0            1       0          1  NYT\n",
        "438091   40       0            4       0          1  NYT\n",
        "\n",
        "[438092 rows x 6 columns]"
       ]
      }
     ],
     "prompt_number": 38
    },
    {
     "cell_type": "markdown",
     "metadata": {},
     "source": [
      "But note, we cannot use the attribute indexing method to add a new column:"
     ]
    },
    {
     "cell_type": "code",
     "collapsed": false,
     "input": [
      "df.month = 'may'\n",
      "df.month"
     ],
     "language": "python",
     "metadata": {},
     "outputs": [
      {
       "metadata": {},
       "output_type": "pyout",
       "prompt_number": 39,
       "text": [
        "'may'"
       ]
      }
     ],
     "prompt_number": 39
    },
    {
     "cell_type": "code",
     "collapsed": false,
     "input": [
      "df"
     ],
     "language": "python",
     "metadata": {},
     "outputs": [
      {
       "html": [
        "<div style=\"max-height:1000px;max-width:1500px;overflow:auto;\">\n",
        "<table border=\"1\" class=\"dataframe\">\n",
        "  <thead>\n",
        "    <tr style=\"text-align: right;\">\n",
        "      <th></th>\n",
        "      <th>Age</th>\n",
        "      <th>Gender</th>\n",
        "      <th>Impressions</th>\n",
        "      <th>Clicks</th>\n",
        "      <th>Signed_In</th>\n",
        "      <th>site</th>\n",
        "    </tr>\n",
        "  </thead>\n",
        "  <tbody>\n",
        "    <tr>\n",
        "      <th>0     </th>\n",
        "      <td> 49</td>\n",
        "      <td> 0</td>\n",
        "      <td>  2</td>\n",
        "      <td> 0</td>\n",
        "      <td> 1</td>\n",
        "      <td> NYT</td>\n",
        "    </tr>\n",
        "    <tr>\n",
        "      <th>1     </th>\n",
        "      <td>  0</td>\n",
        "      <td> 1</td>\n",
        "      <td>  2</td>\n",
        "      <td> 0</td>\n",
        "      <td> 1</td>\n",
        "      <td> NYT</td>\n",
        "    </tr>\n",
        "    <tr>\n",
        "      <th>2     </th>\n",
        "      <td>  0</td>\n",
        "      <td> 0</td>\n",
        "      <td>  8</td>\n",
        "      <td> 0</td>\n",
        "      <td> 0</td>\n",
        "      <td> NYT</td>\n",
        "    </tr>\n",
        "    <tr>\n",
        "      <th>3     </th>\n",
        "      <td>  0</td>\n",
        "      <td> 0</td>\n",
        "      <td>  2</td>\n",
        "      <td> 0</td>\n",
        "      <td> 1</td>\n",
        "      <td> NYT</td>\n",
        "    </tr>\n",
        "    <tr>\n",
        "      <th>4     </th>\n",
        "      <td>  0</td>\n",
        "      <td> 1</td>\n",
        "      <td>  6</td>\n",
        "      <td> 0</td>\n",
        "      <td> 1</td>\n",
        "      <td> NYT</td>\n",
        "    </tr>\n",
        "    <tr>\n",
        "      <th>5     </th>\n",
        "      <td>  0</td>\n",
        "      <td> 0</td>\n",
        "      <td>  3</td>\n",
        "      <td> 0</td>\n",
        "      <td> 1</td>\n",
        "      <td> NYT</td>\n",
        "    </tr>\n",
        "    <tr>\n",
        "      <th>6     </th>\n",
        "      <td>  0</td>\n",
        "      <td> 0</td>\n",
        "      <td>  3</td>\n",
        "      <td> 0</td>\n",
        "      <td> 0</td>\n",
        "      <td> NYT</td>\n",
        "    </tr>\n",
        "    <tr>\n",
        "      <th>7     </th>\n",
        "      <td>  0</td>\n",
        "      <td> 0</td>\n",
        "      <td>  3</td>\n",
        "      <td> 0</td>\n",
        "      <td> 0</td>\n",
        "      <td> NYT</td>\n",
        "    </tr>\n",
        "    <tr>\n",
        "      <th>8     </th>\n",
        "      <td>  0</td>\n",
        "      <td> 1</td>\n",
        "      <td>  3</td>\n",
        "      <td> 0</td>\n",
        "      <td> 1</td>\n",
        "      <td> NYT</td>\n",
        "    </tr>\n",
        "    <tr>\n",
        "      <th>9     </th>\n",
        "      <td>  0</td>\n",
        "      <td> 0</td>\n",
        "      <td>  8</td>\n",
        "      <td> 2</td>\n",
        "      <td> 0</td>\n",
        "      <td> NYT</td>\n",
        "    </tr>\n",
        "    <tr>\n",
        "      <th>...</th>\n",
        "      <td>...</td>\n",
        "      <td>...</td>\n",
        "      <td>...</td>\n",
        "      <td>...</td>\n",
        "      <td>...</td>\n",
        "      <td>...</td>\n",
        "    </tr>\n",
        "    <tr>\n",
        "      <th>438082</th>\n",
        "      <td> 45</td>\n",
        "      <td> 0</td>\n",
        "      <td>  3</td>\n",
        "      <td> 0</td>\n",
        "      <td> 1</td>\n",
        "      <td> NYT</td>\n",
        "    </tr>\n",
        "    <tr>\n",
        "      <th>438083</th>\n",
        "      <td> 64</td>\n",
        "      <td> 1</td>\n",
        "      <td>  3</td>\n",
        "      <td> 0</td>\n",
        "      <td> 1</td>\n",
        "      <td> NYT</td>\n",
        "    </tr>\n",
        "    <tr>\n",
        "      <th>438084</th>\n",
        "      <td>  0</td>\n",
        "      <td> 0</td>\n",
        "      <td>  5</td>\n",
        "      <td> 0</td>\n",
        "      <td> 0</td>\n",
        "      <td> NYT</td>\n",
        "    </tr>\n",
        "    <tr>\n",
        "      <th>438085</th>\n",
        "      <td> 33</td>\n",
        "      <td> 0</td>\n",
        "      <td>  4</td>\n",
        "      <td> 0</td>\n",
        "      <td> 1</td>\n",
        "      <td> NYT</td>\n",
        "    </tr>\n",
        "    <tr>\n",
        "      <th>438086</th>\n",
        "      <td>  0</td>\n",
        "      <td> 0</td>\n",
        "      <td>  9</td>\n",
        "      <td> 0</td>\n",
        "      <td> 0</td>\n",
        "      <td> NYT</td>\n",
        "    </tr>\n",
        "    <tr>\n",
        "      <th>438087</th>\n",
        "      <td> 49</td>\n",
        "      <td> 1</td>\n",
        "      <td> 10</td>\n",
        "      <td> 0</td>\n",
        "      <td> 1</td>\n",
        "      <td> NYT</td>\n",
        "    </tr>\n",
        "    <tr>\n",
        "      <th>438088</th>\n",
        "      <td> 32</td>\n",
        "      <td> 0</td>\n",
        "      <td>  4</td>\n",
        "      <td> 1</td>\n",
        "      <td> 1</td>\n",
        "      <td> NYT</td>\n",
        "    </tr>\n",
        "    <tr>\n",
        "      <th>438089</th>\n",
        "      <td> 38</td>\n",
        "      <td> 1</td>\n",
        "      <td>  3</td>\n",
        "      <td> 0</td>\n",
        "      <td> 1</td>\n",
        "      <td> NYT</td>\n",
        "    </tr>\n",
        "    <tr>\n",
        "      <th>438090</th>\n",
        "      <td> 36</td>\n",
        "      <td> 0</td>\n",
        "      <td>  1</td>\n",
        "      <td> 0</td>\n",
        "      <td> 1</td>\n",
        "      <td> NYT</td>\n",
        "    </tr>\n",
        "    <tr>\n",
        "      <th>438091</th>\n",
        "      <td> 40</td>\n",
        "      <td> 0</td>\n",
        "      <td>  4</td>\n",
        "      <td> 0</td>\n",
        "      <td> 1</td>\n",
        "      <td> NYT</td>\n",
        "    </tr>\n",
        "  </tbody>\n",
        "</table>\n",
        "<p>438092 rows \u00d7 6 columns</p>\n",
        "</div>"
       ],
       "metadata": {},
       "output_type": "pyout",
       "prompt_number": 40,
       "text": [
        "        Age  Gender  Impressions  Clicks  Signed_In site\n",
        "0        49       0            2       0          1  NYT\n",
        "1         0       1            2       0          1  NYT\n",
        "2         0       0            8       0          0  NYT\n",
        "3         0       0            2       0          1  NYT\n",
        "4         0       1            6       0          1  NYT\n",
        "5         0       0            3       0          1  NYT\n",
        "6         0       0            3       0          0  NYT\n",
        "7         0       0            3       0          0  NYT\n",
        "8         0       1            3       0          1  NYT\n",
        "9         0       0            8       2          0  NYT\n",
        "...     ...     ...          ...     ...        ...  ...\n",
        "438082   45       0            3       0          1  NYT\n",
        "438083   64       1            3       0          1  NYT\n",
        "438084    0       0            5       0          0  NYT\n",
        "438085   33       0            4       0          1  NYT\n",
        "438086    0       0            9       0          0  NYT\n",
        "438087   49       1           10       0          1  NYT\n",
        "438088   32       0            4       1          1  NYT\n",
        "438089   38       1            3       0          1  NYT\n",
        "438090   36       0            1       0          1  NYT\n",
        "438091   40       0            4       0          1  NYT\n",
        "\n",
        "[438092 rows x 6 columns]"
       ]
      }
     ],
     "prompt_number": 40
    },
    {
     "cell_type": "markdown",
     "metadata": {},
     "source": [
      "Other Python data structures (ones without an index) need to be the same length as the `DataFrame`:"
     ]
    },
    {
     "cell_type": "code",
     "collapsed": false,
     "input": [
      "month = ['Jan', 'Feb', 'Mar', 'Apr']\n",
      "df['month'] = month"
     ],
     "language": "python",
     "metadata": {},
     "outputs": [
      {
       "ename": "ValueError",
       "evalue": "Length of values does not match length of index",
       "output_type": "pyerr",
       "traceback": [
        "\u001b[0;31m---------------------------------------------------------------------------\u001b[0m\n\u001b[0;31mValueError\u001b[0m                                Traceback (most recent call last)",
        "\u001b[0;32m<ipython-input-42-a103245ed62b>\u001b[0m in \u001b[0;36m<module>\u001b[0;34m()\u001b[0m\n\u001b[1;32m      1\u001b[0m \u001b[0mmonth\u001b[0m \u001b[0;34m=\u001b[0m \u001b[0;34m[\u001b[0m\u001b[0;34m'Jan'\u001b[0m\u001b[0;34m,\u001b[0m \u001b[0;34m'Feb'\u001b[0m\u001b[0;34m,\u001b[0m \u001b[0;34m'Mar'\u001b[0m\u001b[0;34m,\u001b[0m \u001b[0;34m'Apr'\u001b[0m\u001b[0;34m]\u001b[0m\u001b[0;34m\u001b[0m\u001b[0m\n\u001b[0;32m----> 2\u001b[0;31m \u001b[0mdf\u001b[0m\u001b[0;34m[\u001b[0m\u001b[0;34m'month'\u001b[0m\u001b[0;34m]\u001b[0m \u001b[0;34m=\u001b[0m \u001b[0mmonth\u001b[0m\u001b[0;34m\u001b[0m\u001b[0m\n\u001b[0m",
        "\u001b[0;32m/Users/katiebarnwell/Library/Enthought/Canopy_64bit/User/lib/python2.7/site-packages/pandas/core/frame.pyc\u001b[0m in \u001b[0;36m__setitem__\u001b[0;34m(self, key, value)\u001b[0m\n\u001b[1;32m   2005\u001b[0m         \u001b[0;32melse\u001b[0m\u001b[0;34m:\u001b[0m\u001b[0;34m\u001b[0m\u001b[0m\n\u001b[1;32m   2006\u001b[0m             \u001b[0;31m# set column\u001b[0m\u001b[0;34m\u001b[0m\u001b[0;34m\u001b[0m\u001b[0m\n\u001b[0;32m-> 2007\u001b[0;31m             \u001b[0mself\u001b[0m\u001b[0;34m.\u001b[0m\u001b[0m_set_item\u001b[0m\u001b[0;34m(\u001b[0m\u001b[0mkey\u001b[0m\u001b[0;34m,\u001b[0m \u001b[0mvalue\u001b[0m\u001b[0;34m)\u001b[0m\u001b[0;34m\u001b[0m\u001b[0m\n\u001b[0m\u001b[1;32m   2008\u001b[0m \u001b[0;34m\u001b[0m\u001b[0m\n\u001b[1;32m   2009\u001b[0m     \u001b[0;32mdef\u001b[0m \u001b[0m_setitem_slice\u001b[0m\u001b[0;34m(\u001b[0m\u001b[0mself\u001b[0m\u001b[0;34m,\u001b[0m \u001b[0mkey\u001b[0m\u001b[0;34m,\u001b[0m \u001b[0mvalue\u001b[0m\u001b[0;34m)\u001b[0m\u001b[0;34m:\u001b[0m\u001b[0;34m\u001b[0m\u001b[0m\n",
        "\u001b[0;32m/Users/katiebarnwell/Library/Enthought/Canopy_64bit/User/lib/python2.7/site-packages/pandas/core/frame.pyc\u001b[0m in \u001b[0;36m_set_item\u001b[0;34m(self, key, value)\u001b[0m\n\u001b[1;32m   2083\u001b[0m         \u001b[0mis_existing\u001b[0m \u001b[0;34m=\u001b[0m \u001b[0mkey\u001b[0m \u001b[0;32min\u001b[0m \u001b[0mself\u001b[0m\u001b[0;34m.\u001b[0m\u001b[0mcolumns\u001b[0m\u001b[0;34m\u001b[0m\u001b[0m\n\u001b[1;32m   2084\u001b[0m         \u001b[0mself\u001b[0m\u001b[0;34m.\u001b[0m\u001b[0m_ensure_valid_index\u001b[0m\u001b[0;34m(\u001b[0m\u001b[0mvalue\u001b[0m\u001b[0;34m)\u001b[0m\u001b[0;34m\u001b[0m\u001b[0m\n\u001b[0;32m-> 2085\u001b[0;31m         \u001b[0mvalue\u001b[0m \u001b[0;34m=\u001b[0m \u001b[0mself\u001b[0m\u001b[0;34m.\u001b[0m\u001b[0m_sanitize_column\u001b[0m\u001b[0;34m(\u001b[0m\u001b[0mkey\u001b[0m\u001b[0;34m,\u001b[0m \u001b[0mvalue\u001b[0m\u001b[0;34m)\u001b[0m\u001b[0;34m\u001b[0m\u001b[0m\n\u001b[0m\u001b[1;32m   2086\u001b[0m         \u001b[0mNDFrame\u001b[0m\u001b[0;34m.\u001b[0m\u001b[0m_set_item\u001b[0m\u001b[0;34m(\u001b[0m\u001b[0mself\u001b[0m\u001b[0;34m,\u001b[0m \u001b[0mkey\u001b[0m\u001b[0;34m,\u001b[0m \u001b[0mvalue\u001b[0m\u001b[0;34m)\u001b[0m\u001b[0;34m\u001b[0m\u001b[0m\n\u001b[1;32m   2087\u001b[0m \u001b[0;34m\u001b[0m\u001b[0m\n",
        "\u001b[0;32m/Users/katiebarnwell/Library/Enthought/Canopy_64bit/User/lib/python2.7/site-packages/pandas/core/frame.pyc\u001b[0m in \u001b[0;36m_sanitize_column\u001b[0;34m(self, key, value)\u001b[0m\n\u001b[1;32m   2139\u001b[0m         \u001b[0;32melif\u001b[0m \u001b[0misinstance\u001b[0m\u001b[0;34m(\u001b[0m\u001b[0mvalue\u001b[0m\u001b[0;34m,\u001b[0m \u001b[0mIndex\u001b[0m\u001b[0;34m)\u001b[0m \u001b[0;32mor\u001b[0m \u001b[0m_is_sequence\u001b[0m\u001b[0;34m(\u001b[0m\u001b[0mvalue\u001b[0m\u001b[0;34m)\u001b[0m\u001b[0;34m:\u001b[0m\u001b[0;34m\u001b[0m\u001b[0m\n\u001b[1;32m   2140\u001b[0m             \u001b[0;32mif\u001b[0m \u001b[0mlen\u001b[0m\u001b[0;34m(\u001b[0m\u001b[0mvalue\u001b[0m\u001b[0;34m)\u001b[0m \u001b[0;34m!=\u001b[0m \u001b[0mlen\u001b[0m\u001b[0;34m(\u001b[0m\u001b[0mself\u001b[0m\u001b[0;34m.\u001b[0m\u001b[0mindex\u001b[0m\u001b[0;34m)\u001b[0m\u001b[0;34m:\u001b[0m\u001b[0;34m\u001b[0m\u001b[0m\n\u001b[0;32m-> 2141\u001b[0;31m                 raise ValueError('Length of values does not match length of '\n\u001b[0m\u001b[1;32m   2142\u001b[0m                                  'index')\n\u001b[1;32m   2143\u001b[0m \u001b[0;34m\u001b[0m\u001b[0m\n",
        "\u001b[0;31mValueError\u001b[0m: Length of values does not match length of index"
       ]
      }
     ],
     "prompt_number": 42
    },
    {
     "cell_type": "markdown",
     "metadata": {},
     "source": [
      "We can extract the underlying data as a simple `ndarray` by accessing the `values` attribute:"
     ]
    },
    {
     "cell_type": "code",
     "collapsed": false,
     "input": [
      "df.values"
     ],
     "language": "python",
     "metadata": {},
     "outputs": [
      {
       "metadata": {},
       "output_type": "pyout",
       "prompt_number": 43,
       "text": [
        "array([[49, 0, 2, 0, 1, 'NYT'],\n",
        "       [0, 1, 2, 0, 1, 'NYT'],\n",
        "       [0, 0, 8, 0, 0, 'NYT'],\n",
        "       ..., \n",
        "       [38, 1, 3, 0, 1, 'NYT'],\n",
        "       [36, 0, 1, 0, 1, 'NYT'],\n",
        "       [40, 0, 4, 0, 1, 'NYT']], dtype=object)"
       ]
      }
     ],
     "prompt_number": 43
    },
    {
     "cell_type": "markdown",
     "metadata": {},
     "source": [
      "Notice that because of the mix of strings and integer values, the dtype of the array is object. The dtype will automatically be chosen to be as general as needed to accomodate all the columns."
     ]
    },
    {
     "cell_type": "code",
     "collapsed": false,
     "input": [
      "df.values.dtype"
     ],
     "language": "python",
     "metadata": {},
     "outputs": [
      {
       "metadata": {},
       "output_type": "pyout",
       "prompt_number": 44,
       "text": [
        "dtype('O')"
       ]
      }
     ],
     "prompt_number": 44
    },
    {
     "cell_type": "markdown",
     "metadata": {},
     "source": [
      "### Indexing and Selection\n",
      "\n",
      "Indexing works analogously to indexing in NumPy arrays, except we can use the labels in the `Index` object to extract values in addition to arrays of integers. Let's use some baseball data to exemplify."
     ]
    },
    {
     "cell_type": "code",
     "collapsed": false,
     "input": [
      "!curl https://raw.githubusercontent.com/fonnesbeck/pytenn2014_tutorial/master/data/baseball.csv > /Users/katiebarnwell/Personal/DataScience17/baseball.csv"
     ],
     "language": "python",
     "metadata": {},
     "outputs": [
      {
       "output_type": "stream",
       "stream": "stdout",
       "text": [
        "  % Total    % Received % Xferd  Average Speed   Time    Time     Time  Current\r\n",
        "                                 Dload  Upload   Total   Spent    Left  Speed\r\n",
        "\r",
        "  0     0    0     0    0     0      0      0 --:--:-- --:--:-- --:--:--     0"
       ]
      },
      {
       "output_type": "stream",
       "stream": "stdout",
       "text": [
        "\r",
        "100  8767  100  8767    0     0  55357      0 --:--:-- --:--:-- --:--:-- 55487\r\n"
       ]
      }
     ],
     "prompt_number": 47
    },
    {
     "cell_type": "code",
     "collapsed": false,
     "input": [
      "baseball = pd.read_csv(DATA_DIR + 'baseball.csv', index_col='id')\n",
      "baseball"
     ],
     "language": "python",
     "metadata": {},
     "outputs": [
      {
       "html": [
        "<div style=\"max-height:1000px;max-width:1500px;overflow:auto;\">\n",
        "<table border=\"1\" class=\"dataframe\">\n",
        "  <thead>\n",
        "    <tr style=\"text-align: right;\">\n",
        "      <th></th>\n",
        "      <th>player</th>\n",
        "      <th>year</th>\n",
        "      <th>stint</th>\n",
        "      <th>team</th>\n",
        "      <th>lg</th>\n",
        "      <th>g</th>\n",
        "      <th>ab</th>\n",
        "      <th>r</th>\n",
        "      <th>h</th>\n",
        "      <th>X2b</th>\n",
        "      <th>X3b</th>\n",
        "      <th>hr</th>\n",
        "      <th>rbi</th>\n",
        "      <th>sb</th>\n",
        "      <th>cs</th>\n",
        "      <th>bb</th>\n",
        "      <th>so</th>\n",
        "      <th>ibb</th>\n",
        "      <th>hbp</th>\n",
        "      <th>sh</th>\n",
        "      <th>sf</th>\n",
        "      <th>gidp</th>\n",
        "    </tr>\n",
        "    <tr>\n",
        "      <th>id</th>\n",
        "      <th></th>\n",
        "      <th></th>\n",
        "      <th></th>\n",
        "      <th></th>\n",
        "      <th></th>\n",
        "      <th></th>\n",
        "      <th></th>\n",
        "      <th></th>\n",
        "      <th></th>\n",
        "      <th></th>\n",
        "      <th></th>\n",
        "      <th></th>\n",
        "      <th></th>\n",
        "      <th></th>\n",
        "      <th></th>\n",
        "      <th></th>\n",
        "      <th></th>\n",
        "      <th></th>\n",
        "      <th></th>\n",
        "      <th></th>\n",
        "      <th></th>\n",
        "      <th></th>\n",
        "    </tr>\n",
        "  </thead>\n",
        "  <tbody>\n",
        "    <tr>\n",
        "      <th>88641</th>\n",
        "      <td> womacto01</td>\n",
        "      <td> 2006</td>\n",
        "      <td> 2</td>\n",
        "      <td> CHN</td>\n",
        "      <td> NL</td>\n",
        "      <td>  19</td>\n",
        "      <td>  50</td>\n",
        "      <td>  6</td>\n",
        "      <td>  14</td>\n",
        "      <td>  1</td>\n",
        "      <td>  0</td>\n",
        "      <td>  1</td>\n",
        "      <td>  2</td>\n",
        "      <td> 1</td>\n",
        "      <td> 1</td>\n",
        "      <td>   4</td>\n",
        "      <td>   4</td>\n",
        "      <td>  0</td>\n",
        "      <td> 0</td>\n",
        "      <td> 3</td>\n",
        "      <td> 0</td>\n",
        "      <td>  0</td>\n",
        "    </tr>\n",
        "    <tr>\n",
        "      <th>88643</th>\n",
        "      <td> schilcu01</td>\n",
        "      <td> 2006</td>\n",
        "      <td> 1</td>\n",
        "      <td> BOS</td>\n",
        "      <td> AL</td>\n",
        "      <td>  31</td>\n",
        "      <td>   2</td>\n",
        "      <td>  0</td>\n",
        "      <td>   1</td>\n",
        "      <td>  0</td>\n",
        "      <td>  0</td>\n",
        "      <td>  0</td>\n",
        "      <td>  0</td>\n",
        "      <td> 0</td>\n",
        "      <td> 0</td>\n",
        "      <td>   0</td>\n",
        "      <td>   1</td>\n",
        "      <td>  0</td>\n",
        "      <td> 0</td>\n",
        "      <td> 0</td>\n",
        "      <td> 0</td>\n",
        "      <td>  0</td>\n",
        "    </tr>\n",
        "    <tr>\n",
        "      <th>88645</th>\n",
        "      <td> myersmi01</td>\n",
        "      <td> 2006</td>\n",
        "      <td> 1</td>\n",
        "      <td> NYA</td>\n",
        "      <td> AL</td>\n",
        "      <td>  62</td>\n",
        "      <td>   0</td>\n",
        "      <td>  0</td>\n",
        "      <td>   0</td>\n",
        "      <td>  0</td>\n",
        "      <td>  0</td>\n",
        "      <td>  0</td>\n",
        "      <td>  0</td>\n",
        "      <td> 0</td>\n",
        "      <td> 0</td>\n",
        "      <td>   0</td>\n",
        "      <td>   0</td>\n",
        "      <td>  0</td>\n",
        "      <td> 0</td>\n",
        "      <td> 0</td>\n",
        "      <td> 0</td>\n",
        "      <td>  0</td>\n",
        "    </tr>\n",
        "    <tr>\n",
        "      <th>88649</th>\n",
        "      <td> helliri01</td>\n",
        "      <td> 2006</td>\n",
        "      <td> 1</td>\n",
        "      <td> MIL</td>\n",
        "      <td> NL</td>\n",
        "      <td>  20</td>\n",
        "      <td>   3</td>\n",
        "      <td>  0</td>\n",
        "      <td>   0</td>\n",
        "      <td>  0</td>\n",
        "      <td>  0</td>\n",
        "      <td>  0</td>\n",
        "      <td>  0</td>\n",
        "      <td> 0</td>\n",
        "      <td> 0</td>\n",
        "      <td>   0</td>\n",
        "      <td>   2</td>\n",
        "      <td>  0</td>\n",
        "      <td> 0</td>\n",
        "      <td> 0</td>\n",
        "      <td> 0</td>\n",
        "      <td>  0</td>\n",
        "    </tr>\n",
        "    <tr>\n",
        "      <th>88650</th>\n",
        "      <td> johnsra05</td>\n",
        "      <td> 2006</td>\n",
        "      <td> 1</td>\n",
        "      <td> NYA</td>\n",
        "      <td> AL</td>\n",
        "      <td>  33</td>\n",
        "      <td>   6</td>\n",
        "      <td>  0</td>\n",
        "      <td>   1</td>\n",
        "      <td>  0</td>\n",
        "      <td>  0</td>\n",
        "      <td>  0</td>\n",
        "      <td>  0</td>\n",
        "      <td> 0</td>\n",
        "      <td> 0</td>\n",
        "      <td>   0</td>\n",
        "      <td>   4</td>\n",
        "      <td>  0</td>\n",
        "      <td> 0</td>\n",
        "      <td> 0</td>\n",
        "      <td> 0</td>\n",
        "      <td>  0</td>\n",
        "    </tr>\n",
        "    <tr>\n",
        "      <th>88652</th>\n",
        "      <td> finlest01</td>\n",
        "      <td> 2006</td>\n",
        "      <td> 1</td>\n",
        "      <td> SFN</td>\n",
        "      <td> NL</td>\n",
        "      <td> 139</td>\n",
        "      <td> 426</td>\n",
        "      <td> 66</td>\n",
        "      <td> 105</td>\n",
        "      <td> 21</td>\n",
        "      <td> 12</td>\n",
        "      <td>  6</td>\n",
        "      <td> 40</td>\n",
        "      <td> 7</td>\n",
        "      <td> 0</td>\n",
        "      <td>  46</td>\n",
        "      <td>  55</td>\n",
        "      <td>  2</td>\n",
        "      <td> 2</td>\n",
        "      <td> 3</td>\n",
        "      <td> 4</td>\n",
        "      <td>  6</td>\n",
        "    </tr>\n",
        "    <tr>\n",
        "      <th>88653</th>\n",
        "      <td> gonzalu01</td>\n",
        "      <td> 2006</td>\n",
        "      <td> 1</td>\n",
        "      <td> ARI</td>\n",
        "      <td> NL</td>\n",
        "      <td> 153</td>\n",
        "      <td> 586</td>\n",
        "      <td> 93</td>\n",
        "      <td> 159</td>\n",
        "      <td> 52</td>\n",
        "      <td>  2</td>\n",
        "      <td> 15</td>\n",
        "      <td> 73</td>\n",
        "      <td> 0</td>\n",
        "      <td> 1</td>\n",
        "      <td>  69</td>\n",
        "      <td>  58</td>\n",
        "      <td> 10</td>\n",
        "      <td> 7</td>\n",
        "      <td> 0</td>\n",
        "      <td> 6</td>\n",
        "      <td> 14</td>\n",
        "    </tr>\n",
        "    <tr>\n",
        "      <th>88662</th>\n",
        "      <td>  seleaa01</td>\n",
        "      <td> 2006</td>\n",
        "      <td> 1</td>\n",
        "      <td> LAN</td>\n",
        "      <td> NL</td>\n",
        "      <td>  28</td>\n",
        "      <td>  26</td>\n",
        "      <td>  2</td>\n",
        "      <td>   5</td>\n",
        "      <td>  1</td>\n",
        "      <td>  0</td>\n",
        "      <td>  0</td>\n",
        "      <td>  0</td>\n",
        "      <td> 0</td>\n",
        "      <td> 0</td>\n",
        "      <td>   1</td>\n",
        "      <td>   7</td>\n",
        "      <td>  0</td>\n",
        "      <td> 0</td>\n",
        "      <td> 6</td>\n",
        "      <td> 0</td>\n",
        "      <td>  1</td>\n",
        "    </tr>\n",
        "    <tr>\n",
        "      <th>89177</th>\n",
        "      <td> francju01</td>\n",
        "      <td> 2007</td>\n",
        "      <td> 2</td>\n",
        "      <td> ATL</td>\n",
        "      <td> NL</td>\n",
        "      <td>  15</td>\n",
        "      <td>  40</td>\n",
        "      <td>  1</td>\n",
        "      <td>  10</td>\n",
        "      <td>  3</td>\n",
        "      <td>  0</td>\n",
        "      <td>  0</td>\n",
        "      <td>  8</td>\n",
        "      <td> 0</td>\n",
        "      <td> 0</td>\n",
        "      <td>   4</td>\n",
        "      <td>  10</td>\n",
        "      <td>  1</td>\n",
        "      <td> 0</td>\n",
        "      <td> 0</td>\n",
        "      <td> 1</td>\n",
        "      <td>  1</td>\n",
        "    </tr>\n",
        "    <tr>\n",
        "      <th>89178</th>\n",
        "      <td> francju01</td>\n",
        "      <td> 2007</td>\n",
        "      <td> 1</td>\n",
        "      <td> NYN</td>\n",
        "      <td> NL</td>\n",
        "      <td>  40</td>\n",
        "      <td>  50</td>\n",
        "      <td>  7</td>\n",
        "      <td>  10</td>\n",
        "      <td>  0</td>\n",
        "      <td>  0</td>\n",
        "      <td>  1</td>\n",
        "      <td>  8</td>\n",
        "      <td> 2</td>\n",
        "      <td> 1</td>\n",
        "      <td>  10</td>\n",
        "      <td>  13</td>\n",
        "      <td>  0</td>\n",
        "      <td> 0</td>\n",
        "      <td> 0</td>\n",
        "      <td> 1</td>\n",
        "      <td>  1</td>\n",
        "    </tr>\n",
        "    <tr>\n",
        "      <th>...</th>\n",
        "      <td>...</td>\n",
        "      <td>...</td>\n",
        "      <td>...</td>\n",
        "      <td>...</td>\n",
        "      <td>...</td>\n",
        "      <td>...</td>\n",
        "      <td>...</td>\n",
        "      <td>...</td>\n",
        "      <td>...</td>\n",
        "      <td>...</td>\n",
        "      <td>...</td>\n",
        "      <td>...</td>\n",
        "      <td>...</td>\n",
        "      <td>...</td>\n",
        "      <td>...</td>\n",
        "      <td>...</td>\n",
        "      <td>...</td>\n",
        "      <td>...</td>\n",
        "      <td>...</td>\n",
        "      <td>...</td>\n",
        "      <td>...</td>\n",
        "      <td>...</td>\n",
        "    </tr>\n",
        "    <tr>\n",
        "      <th>89499</th>\n",
        "      <td> claytro01</td>\n",
        "      <td> 2007</td>\n",
        "      <td> 1</td>\n",
        "      <td> TOR</td>\n",
        "      <td> AL</td>\n",
        "      <td>  69</td>\n",
        "      <td> 189</td>\n",
        "      <td> 23</td>\n",
        "      <td>  48</td>\n",
        "      <td> 14</td>\n",
        "      <td>  0</td>\n",
        "      <td>  1</td>\n",
        "      <td> 12</td>\n",
        "      <td> 2</td>\n",
        "      <td> 1</td>\n",
        "      <td>  14</td>\n",
        "      <td>  50</td>\n",
        "      <td>  0</td>\n",
        "      <td> 1</td>\n",
        "      <td> 3</td>\n",
        "      <td> 3</td>\n",
        "      <td>  8</td>\n",
        "    </tr>\n",
        "    <tr>\n",
        "      <th>89501</th>\n",
        "      <td> cirilje01</td>\n",
        "      <td> 2007</td>\n",
        "      <td> 2</td>\n",
        "      <td> ARI</td>\n",
        "      <td> NL</td>\n",
        "      <td>  28</td>\n",
        "      <td>  40</td>\n",
        "      <td>  6</td>\n",
        "      <td>   8</td>\n",
        "      <td>  4</td>\n",
        "      <td>  0</td>\n",
        "      <td>  0</td>\n",
        "      <td>  6</td>\n",
        "      <td> 0</td>\n",
        "      <td> 0</td>\n",
        "      <td>   4</td>\n",
        "      <td>   6</td>\n",
        "      <td>  0</td>\n",
        "      <td> 0</td>\n",
        "      <td> 0</td>\n",
        "      <td> 0</td>\n",
        "      <td>  1</td>\n",
        "    </tr>\n",
        "    <tr>\n",
        "      <th>89502</th>\n",
        "      <td> cirilje01</td>\n",
        "      <td> 2007</td>\n",
        "      <td> 1</td>\n",
        "      <td> MIN</td>\n",
        "      <td> AL</td>\n",
        "      <td>  50</td>\n",
        "      <td> 153</td>\n",
        "      <td> 18</td>\n",
        "      <td>  40</td>\n",
        "      <td>  9</td>\n",
        "      <td>  2</td>\n",
        "      <td>  2</td>\n",
        "      <td> 21</td>\n",
        "      <td> 2</td>\n",
        "      <td> 0</td>\n",
        "      <td>  15</td>\n",
        "      <td>  13</td>\n",
        "      <td>  0</td>\n",
        "      <td> 1</td>\n",
        "      <td> 3</td>\n",
        "      <td> 2</td>\n",
        "      <td>  9</td>\n",
        "    </tr>\n",
        "    <tr>\n",
        "      <th>89521</th>\n",
        "      <td> bondsba01</td>\n",
        "      <td> 2007</td>\n",
        "      <td> 1</td>\n",
        "      <td> SFN</td>\n",
        "      <td> NL</td>\n",
        "      <td> 126</td>\n",
        "      <td> 340</td>\n",
        "      <td> 75</td>\n",
        "      <td>  94</td>\n",
        "      <td> 14</td>\n",
        "      <td>  0</td>\n",
        "      <td> 28</td>\n",
        "      <td> 66</td>\n",
        "      <td> 5</td>\n",
        "      <td> 0</td>\n",
        "      <td> 132</td>\n",
        "      <td>  54</td>\n",
        "      <td> 43</td>\n",
        "      <td> 3</td>\n",
        "      <td> 0</td>\n",
        "      <td> 2</td>\n",
        "      <td> 13</td>\n",
        "    </tr>\n",
        "    <tr>\n",
        "      <th>89523</th>\n",
        "      <td> biggicr01</td>\n",
        "      <td> 2007</td>\n",
        "      <td> 1</td>\n",
        "      <td> HOU</td>\n",
        "      <td> NL</td>\n",
        "      <td> 141</td>\n",
        "      <td> 517</td>\n",
        "      <td> 68</td>\n",
        "      <td> 130</td>\n",
        "      <td> 31</td>\n",
        "      <td>  3</td>\n",
        "      <td> 10</td>\n",
        "      <td> 50</td>\n",
        "      <td> 4</td>\n",
        "      <td> 3</td>\n",
        "      <td>  23</td>\n",
        "      <td> 112</td>\n",
        "      <td>  0</td>\n",
        "      <td> 3</td>\n",
        "      <td> 7</td>\n",
        "      <td> 5</td>\n",
        "      <td>  5</td>\n",
        "    </tr>\n",
        "    <tr>\n",
        "      <th>89525</th>\n",
        "      <td> benitar01</td>\n",
        "      <td> 2007</td>\n",
        "      <td> 2</td>\n",
        "      <td> FLO</td>\n",
        "      <td> NL</td>\n",
        "      <td>  34</td>\n",
        "      <td>   0</td>\n",
        "      <td>  0</td>\n",
        "      <td>   0</td>\n",
        "      <td>  0</td>\n",
        "      <td>  0</td>\n",
        "      <td>  0</td>\n",
        "      <td>  0</td>\n",
        "      <td> 0</td>\n",
        "      <td> 0</td>\n",
        "      <td>   0</td>\n",
        "      <td>   0</td>\n",
        "      <td>  0</td>\n",
        "      <td> 0</td>\n",
        "      <td> 0</td>\n",
        "      <td> 0</td>\n",
        "      <td>  0</td>\n",
        "    </tr>\n",
        "    <tr>\n",
        "      <th>89526</th>\n",
        "      <td> benitar01</td>\n",
        "      <td> 2007</td>\n",
        "      <td> 1</td>\n",
        "      <td> SFN</td>\n",
        "      <td> NL</td>\n",
        "      <td>  19</td>\n",
        "      <td>   0</td>\n",
        "      <td>  0</td>\n",
        "      <td>   0</td>\n",
        "      <td>  0</td>\n",
        "      <td>  0</td>\n",
        "      <td>  0</td>\n",
        "      <td>  0</td>\n",
        "      <td> 0</td>\n",
        "      <td> 0</td>\n",
        "      <td>   0</td>\n",
        "      <td>   0</td>\n",
        "      <td>  0</td>\n",
        "      <td> 0</td>\n",
        "      <td> 0</td>\n",
        "      <td> 0</td>\n",
        "      <td>  0</td>\n",
        "    </tr>\n",
        "    <tr>\n",
        "      <th>89530</th>\n",
        "      <td> ausmubr01</td>\n",
        "      <td> 2007</td>\n",
        "      <td> 1</td>\n",
        "      <td> HOU</td>\n",
        "      <td> NL</td>\n",
        "      <td> 117</td>\n",
        "      <td> 349</td>\n",
        "      <td> 38</td>\n",
        "      <td>  82</td>\n",
        "      <td> 16</td>\n",
        "      <td>  3</td>\n",
        "      <td>  3</td>\n",
        "      <td> 25</td>\n",
        "      <td> 6</td>\n",
        "      <td> 1</td>\n",
        "      <td>  37</td>\n",
        "      <td>  74</td>\n",
        "      <td>  3</td>\n",
        "      <td> 6</td>\n",
        "      <td> 4</td>\n",
        "      <td> 1</td>\n",
        "      <td> 11</td>\n",
        "    </tr>\n",
        "    <tr>\n",
        "      <th>89533</th>\n",
        "      <td>  aloumo01</td>\n",
        "      <td> 2007</td>\n",
        "      <td> 1</td>\n",
        "      <td> NYN</td>\n",
        "      <td> NL</td>\n",
        "      <td>  87</td>\n",
        "      <td> 328</td>\n",
        "      <td> 51</td>\n",
        "      <td> 112</td>\n",
        "      <td> 19</td>\n",
        "      <td>  1</td>\n",
        "      <td> 13</td>\n",
        "      <td> 49</td>\n",
        "      <td> 3</td>\n",
        "      <td> 0</td>\n",
        "      <td>  27</td>\n",
        "      <td>  30</td>\n",
        "      <td>  5</td>\n",
        "      <td> 2</td>\n",
        "      <td> 0</td>\n",
        "      <td> 3</td>\n",
        "      <td> 13</td>\n",
        "    </tr>\n",
        "    <tr>\n",
        "      <th>89534</th>\n",
        "      <td> alomasa02</td>\n",
        "      <td> 2007</td>\n",
        "      <td> 1</td>\n",
        "      <td> NYN</td>\n",
        "      <td> NL</td>\n",
        "      <td>   8</td>\n",
        "      <td>  22</td>\n",
        "      <td>  1</td>\n",
        "      <td>   3</td>\n",
        "      <td>  1</td>\n",
        "      <td>  0</td>\n",
        "      <td>  0</td>\n",
        "      <td>  0</td>\n",
        "      <td> 0</td>\n",
        "      <td> 0</td>\n",
        "      <td>   0</td>\n",
        "      <td>   3</td>\n",
        "      <td>  0</td>\n",
        "      <td> 0</td>\n",
        "      <td> 0</td>\n",
        "      <td> 0</td>\n",
        "      <td>  0</td>\n",
        "    </tr>\n",
        "  </tbody>\n",
        "</table>\n",
        "<p>100 rows \u00d7 22 columns</p>\n",
        "</div>"
       ],
       "metadata": {},
       "output_type": "pyout",
       "prompt_number": 48,
       "text": [
        "          player  year  stint team  lg    g   ab   r    h  X2b  X3b  hr  rbi  \\\n",
        "id                                                                             \n",
        "88641  womacto01  2006      2  CHN  NL   19   50   6   14    1    0   1    2   \n",
        "88643  schilcu01  2006      1  BOS  AL   31    2   0    1    0    0   0    0   \n",
        "88645  myersmi01  2006      1  NYA  AL   62    0   0    0    0    0   0    0   \n",
        "88649  helliri01  2006      1  MIL  NL   20    3   0    0    0    0   0    0   \n",
        "88650  johnsra05  2006      1  NYA  AL   33    6   0    1    0    0   0    0   \n",
        "88652  finlest01  2006      1  SFN  NL  139  426  66  105   21   12   6   40   \n",
        "88653  gonzalu01  2006      1  ARI  NL  153  586  93  159   52    2  15   73   \n",
        "88662   seleaa01  2006      1  LAN  NL   28   26   2    5    1    0   0    0   \n",
        "89177  francju01  2007      2  ATL  NL   15   40   1   10    3    0   0    8   \n",
        "89178  francju01  2007      1  NYN  NL   40   50   7   10    0    0   1    8   \n",
        "...          ...   ...    ...  ...  ..  ...  ...  ..  ...  ...  ...  ..  ...   \n",
        "89499  claytro01  2007      1  TOR  AL   69  189  23   48   14    0   1   12   \n",
        "89501  cirilje01  2007      2  ARI  NL   28   40   6    8    4    0   0    6   \n",
        "89502  cirilje01  2007      1  MIN  AL   50  153  18   40    9    2   2   21   \n",
        "89521  bondsba01  2007      1  SFN  NL  126  340  75   94   14    0  28   66   \n",
        "89523  biggicr01  2007      1  HOU  NL  141  517  68  130   31    3  10   50   \n",
        "89525  benitar01  2007      2  FLO  NL   34    0   0    0    0    0   0    0   \n",
        "89526  benitar01  2007      1  SFN  NL   19    0   0    0    0    0   0    0   \n",
        "89530  ausmubr01  2007      1  HOU  NL  117  349  38   82   16    3   3   25   \n",
        "89533   aloumo01  2007      1  NYN  NL   87  328  51  112   19    1  13   49   \n",
        "89534  alomasa02  2007      1  NYN  NL    8   22   1    3    1    0   0    0   \n",
        "\n",
        "       sb  cs   bb   so  ibb  hbp  sh  sf  gidp  \n",
        "id                                               \n",
        "88641   1   1    4    4    0    0   3   0     0  \n",
        "88643   0   0    0    1    0    0   0   0     0  \n",
        "88645   0   0    0    0    0    0   0   0     0  \n",
        "88649   0   0    0    2    0    0   0   0     0  \n",
        "88650   0   0    0    4    0    0   0   0     0  \n",
        "88652   7   0   46   55    2    2   3   4     6  \n",
        "88653   0   1   69   58   10    7   0   6    14  \n",
        "88662   0   0    1    7    0    0   6   0     1  \n",
        "89177   0   0    4   10    1    0   0   1     1  \n",
        "89178   2   1   10   13    0    0   0   1     1  \n",
        "...    ..  ..  ...  ...  ...  ...  ..  ..   ...  \n",
        "89499   2   1   14   50    0    1   3   3     8  \n",
        "89501   0   0    4    6    0    0   0   0     1  \n",
        "89502   2   0   15   13    0    1   3   2     9  \n",
        "89521   5   0  132   54   43    3   0   2    13  \n",
        "89523   4   3   23  112    0    3   7   5     5  \n",
        "89525   0   0    0    0    0    0   0   0     0  \n",
        "89526   0   0    0    0    0    0   0   0     0  \n",
        "89530   6   1   37   74    3    6   4   1    11  \n",
        "89533   3   0   27   30    5    2   0   3    13  \n",
        "89534   0   0    0    3    0    0   0   0     0  \n",
        "\n",
        "[100 rows x 22 columns]"
       ]
      }
     ],
     "prompt_number": 48
    },
    {
     "cell_type": "markdown",
     "metadata": {},
     "source": [
      "We could have easily chosen our own index label, by combining the playerID with the year they were active in"
     ]
    },
    {
     "cell_type": "code",
     "collapsed": false,
     "input": [
      "baseball.player"
     ],
     "language": "python",
     "metadata": {},
     "outputs": [
      {
       "metadata": {},
       "output_type": "pyout",
       "prompt_number": 49,
       "text": [
        "id\n",
        "88641    womacto01\n",
        "88643    schilcu01\n",
        "88645    myersmi01\n",
        "88649    helliri01\n",
        "88650    johnsra05\n",
        "88652    finlest01\n",
        "88653    gonzalu01\n",
        "88662     seleaa01\n",
        "...\n",
        "89502    cirilje01\n",
        "89521    bondsba01\n",
        "89523    biggicr01\n",
        "89525    benitar01\n",
        "89526    benitar01\n",
        "89530    ausmubr01\n",
        "89533     aloumo01\n",
        "89534    alomasa02\n",
        "Name: player, Length: 100, dtype: object"
       ]
      }
     ],
     "prompt_number": 49
    },
    {
     "cell_type": "code",
     "collapsed": false,
     "input": [
      "baseball.player + baseball.year.astype(str)"
     ],
     "language": "python",
     "metadata": {},
     "outputs": [
      {
       "metadata": {},
       "output_type": "pyout",
       "prompt_number": 50,
       "text": [
        "id\n",
        "88641    womacto012006\n",
        "88643    schilcu012006\n",
        "88645    myersmi012006\n",
        "88649    helliri012006\n",
        "88650    johnsra052006\n",
        "88652    finlest012006\n",
        "88653    gonzalu012006\n",
        "88662     seleaa012006\n",
        "...\n",
        "89502    cirilje012007\n",
        "89521    bondsba012007\n",
        "89523    biggicr012007\n",
        "89525    benitar012007\n",
        "89526    benitar012007\n",
        "89530    ausmubr012007\n",
        "89533     aloumo012007\n",
        "89534    alomasa022007\n",
        "Length: 100, dtype: object"
       ]
      }
     ],
     "prompt_number": 50
    },
    {
     "cell_type": "code",
     "collapsed": false,
     "input": [
      "baseball.head()"
     ],
     "language": "python",
     "metadata": {},
     "outputs": [
      {
       "html": [
        "<div style=\"max-height:1000px;max-width:1500px;overflow:auto;\">\n",
        "<table border=\"1\" class=\"dataframe\">\n",
        "  <thead>\n",
        "    <tr style=\"text-align: right;\">\n",
        "      <th></th>\n",
        "      <th>player</th>\n",
        "      <th>year</th>\n",
        "      <th>stint</th>\n",
        "      <th>team</th>\n",
        "      <th>lg</th>\n",
        "      <th>g</th>\n",
        "      <th>ab</th>\n",
        "      <th>r</th>\n",
        "      <th>h</th>\n",
        "      <th>X2b</th>\n",
        "      <th>X3b</th>\n",
        "      <th>hr</th>\n",
        "      <th>rbi</th>\n",
        "      <th>sb</th>\n",
        "      <th>cs</th>\n",
        "      <th>bb</th>\n",
        "      <th>so</th>\n",
        "      <th>ibb</th>\n",
        "      <th>hbp</th>\n",
        "      <th>sh</th>\n",
        "      <th>sf</th>\n",
        "      <th>gidp</th>\n",
        "    </tr>\n",
        "    <tr>\n",
        "      <th>id</th>\n",
        "      <th></th>\n",
        "      <th></th>\n",
        "      <th></th>\n",
        "      <th></th>\n",
        "      <th></th>\n",
        "      <th></th>\n",
        "      <th></th>\n",
        "      <th></th>\n",
        "      <th></th>\n",
        "      <th></th>\n",
        "      <th></th>\n",
        "      <th></th>\n",
        "      <th></th>\n",
        "      <th></th>\n",
        "      <th></th>\n",
        "      <th></th>\n",
        "      <th></th>\n",
        "      <th></th>\n",
        "      <th></th>\n",
        "      <th></th>\n",
        "      <th></th>\n",
        "      <th></th>\n",
        "    </tr>\n",
        "  </thead>\n",
        "  <tbody>\n",
        "    <tr>\n",
        "      <th>88641</th>\n",
        "      <td> womacto01</td>\n",
        "      <td> 2006</td>\n",
        "      <td> 2</td>\n",
        "      <td> CHN</td>\n",
        "      <td> NL</td>\n",
        "      <td> 19</td>\n",
        "      <td> 50</td>\n",
        "      <td> 6</td>\n",
        "      <td> 14</td>\n",
        "      <td> 1</td>\n",
        "      <td> 0</td>\n",
        "      <td> 1</td>\n",
        "      <td> 2</td>\n",
        "      <td> 1</td>\n",
        "      <td> 1</td>\n",
        "      <td> 4</td>\n",
        "      <td> 4</td>\n",
        "      <td> 0</td>\n",
        "      <td> 0</td>\n",
        "      <td> 3</td>\n",
        "      <td> 0</td>\n",
        "      <td> 0</td>\n",
        "    </tr>\n",
        "    <tr>\n",
        "      <th>88643</th>\n",
        "      <td> schilcu01</td>\n",
        "      <td> 2006</td>\n",
        "      <td> 1</td>\n",
        "      <td> BOS</td>\n",
        "      <td> AL</td>\n",
        "      <td> 31</td>\n",
        "      <td>  2</td>\n",
        "      <td> 0</td>\n",
        "      <td>  1</td>\n",
        "      <td> 0</td>\n",
        "      <td> 0</td>\n",
        "      <td> 0</td>\n",
        "      <td> 0</td>\n",
        "      <td> 0</td>\n",
        "      <td> 0</td>\n",
        "      <td> 0</td>\n",
        "      <td> 1</td>\n",
        "      <td> 0</td>\n",
        "      <td> 0</td>\n",
        "      <td> 0</td>\n",
        "      <td> 0</td>\n",
        "      <td> 0</td>\n",
        "    </tr>\n",
        "    <tr>\n",
        "      <th>88645</th>\n",
        "      <td> myersmi01</td>\n",
        "      <td> 2006</td>\n",
        "      <td> 1</td>\n",
        "      <td> NYA</td>\n",
        "      <td> AL</td>\n",
        "      <td> 62</td>\n",
        "      <td>  0</td>\n",
        "      <td> 0</td>\n",
        "      <td>  0</td>\n",
        "      <td> 0</td>\n",
        "      <td> 0</td>\n",
        "      <td> 0</td>\n",
        "      <td> 0</td>\n",
        "      <td> 0</td>\n",
        "      <td> 0</td>\n",
        "      <td> 0</td>\n",
        "      <td> 0</td>\n",
        "      <td> 0</td>\n",
        "      <td> 0</td>\n",
        "      <td> 0</td>\n",
        "      <td> 0</td>\n",
        "      <td> 0</td>\n",
        "    </tr>\n",
        "    <tr>\n",
        "      <th>88649</th>\n",
        "      <td> helliri01</td>\n",
        "      <td> 2006</td>\n",
        "      <td> 1</td>\n",
        "      <td> MIL</td>\n",
        "      <td> NL</td>\n",
        "      <td> 20</td>\n",
        "      <td>  3</td>\n",
        "      <td> 0</td>\n",
        "      <td>  0</td>\n",
        "      <td> 0</td>\n",
        "      <td> 0</td>\n",
        "      <td> 0</td>\n",
        "      <td> 0</td>\n",
        "      <td> 0</td>\n",
        "      <td> 0</td>\n",
        "      <td> 0</td>\n",
        "      <td> 2</td>\n",
        "      <td> 0</td>\n",
        "      <td> 0</td>\n",
        "      <td> 0</td>\n",
        "      <td> 0</td>\n",
        "      <td> 0</td>\n",
        "    </tr>\n",
        "    <tr>\n",
        "      <th>88650</th>\n",
        "      <td> johnsra05</td>\n",
        "      <td> 2006</td>\n",
        "      <td> 1</td>\n",
        "      <td> NYA</td>\n",
        "      <td> AL</td>\n",
        "      <td> 33</td>\n",
        "      <td>  6</td>\n",
        "      <td> 0</td>\n",
        "      <td>  1</td>\n",
        "      <td> 0</td>\n",
        "      <td> 0</td>\n",
        "      <td> 0</td>\n",
        "      <td> 0</td>\n",
        "      <td> 0</td>\n",
        "      <td> 0</td>\n",
        "      <td> 0</td>\n",
        "      <td> 4</td>\n",
        "      <td> 0</td>\n",
        "      <td> 0</td>\n",
        "      <td> 0</td>\n",
        "      <td> 0</td>\n",
        "      <td> 0</td>\n",
        "    </tr>\n",
        "  </tbody>\n",
        "</table>\n",
        "</div>"
       ],
       "metadata": {},
       "output_type": "pyout",
       "prompt_number": 51,
       "text": [
        "          player  year  stint team  lg   g  ab  r   h  X2b  X3b  hr  rbi  sb  \\\n",
        "id                                                                             \n",
        "88641  womacto01  2006      2  CHN  NL  19  50  6  14    1    0   1    2   1   \n",
        "88643  schilcu01  2006      1  BOS  AL  31   2  0   1    0    0   0    0   0   \n",
        "88645  myersmi01  2006      1  NYA  AL  62   0  0   0    0    0   0    0   0   \n",
        "88649  helliri01  2006      1  MIL  NL  20   3  0   0    0    0   0    0   0   \n",
        "88650  johnsra05  2006      1  NYA  AL  33   6  0   1    0    0   0    0   0   \n",
        "\n",
        "       cs  bb  so  ibb  hbp  sh  sf  gidp  \n",
        "id                                         \n",
        "88641   1   4   4    0    0   3   0     0  \n",
        "88643   0   0   1    0    0   0   0     0  \n",
        "88645   0   0   0    0    0   0   0     0  \n",
        "88649   0   0   2    0    0   0   0     0  \n",
        "88650   0   0   4    0    0   0   0     0  "
       ]
      }
     ],
     "prompt_number": 51
    },
    {
     "cell_type": "code",
     "collapsed": false,
     "input": [
      "player_id = baseball.player + baseball.year.astype(str)\n",
      "baseball_x = baseball.copy()\n",
      "baseball_x.index = player_id\n",
      "baseball_x.head()"
     ],
     "language": "python",
     "metadata": {},
     "outputs": [
      {
       "html": [
        "<div style=\"max-height:1000px;max-width:1500px;overflow:auto;\">\n",
        "<table border=\"1\" class=\"dataframe\">\n",
        "  <thead>\n",
        "    <tr style=\"text-align: right;\">\n",
        "      <th></th>\n",
        "      <th>player</th>\n",
        "      <th>year</th>\n",
        "      <th>stint</th>\n",
        "      <th>team</th>\n",
        "      <th>lg</th>\n",
        "      <th>g</th>\n",
        "      <th>ab</th>\n",
        "      <th>r</th>\n",
        "      <th>h</th>\n",
        "      <th>X2b</th>\n",
        "      <th>X3b</th>\n",
        "      <th>hr</th>\n",
        "      <th>rbi</th>\n",
        "      <th>sb</th>\n",
        "      <th>cs</th>\n",
        "      <th>bb</th>\n",
        "      <th>so</th>\n",
        "      <th>ibb</th>\n",
        "      <th>hbp</th>\n",
        "      <th>sh</th>\n",
        "      <th>sf</th>\n",
        "      <th>gidp</th>\n",
        "    </tr>\n",
        "  </thead>\n",
        "  <tbody>\n",
        "    <tr>\n",
        "      <th>womacto012006</th>\n",
        "      <td> womacto01</td>\n",
        "      <td> 2006</td>\n",
        "      <td> 2</td>\n",
        "      <td> CHN</td>\n",
        "      <td> NL</td>\n",
        "      <td> 19</td>\n",
        "      <td> 50</td>\n",
        "      <td> 6</td>\n",
        "      <td> 14</td>\n",
        "      <td> 1</td>\n",
        "      <td> 0</td>\n",
        "      <td> 1</td>\n",
        "      <td> 2</td>\n",
        "      <td> 1</td>\n",
        "      <td> 1</td>\n",
        "      <td> 4</td>\n",
        "      <td> 4</td>\n",
        "      <td> 0</td>\n",
        "      <td> 0</td>\n",
        "      <td> 3</td>\n",
        "      <td> 0</td>\n",
        "      <td> 0</td>\n",
        "    </tr>\n",
        "    <tr>\n",
        "      <th>schilcu012006</th>\n",
        "      <td> schilcu01</td>\n",
        "      <td> 2006</td>\n",
        "      <td> 1</td>\n",
        "      <td> BOS</td>\n",
        "      <td> AL</td>\n",
        "      <td> 31</td>\n",
        "      <td>  2</td>\n",
        "      <td> 0</td>\n",
        "      <td>  1</td>\n",
        "      <td> 0</td>\n",
        "      <td> 0</td>\n",
        "      <td> 0</td>\n",
        "      <td> 0</td>\n",
        "      <td> 0</td>\n",
        "      <td> 0</td>\n",
        "      <td> 0</td>\n",
        "      <td> 1</td>\n",
        "      <td> 0</td>\n",
        "      <td> 0</td>\n",
        "      <td> 0</td>\n",
        "      <td> 0</td>\n",
        "      <td> 0</td>\n",
        "    </tr>\n",
        "    <tr>\n",
        "      <th>myersmi012006</th>\n",
        "      <td> myersmi01</td>\n",
        "      <td> 2006</td>\n",
        "      <td> 1</td>\n",
        "      <td> NYA</td>\n",
        "      <td> AL</td>\n",
        "      <td> 62</td>\n",
        "      <td>  0</td>\n",
        "      <td> 0</td>\n",
        "      <td>  0</td>\n",
        "      <td> 0</td>\n",
        "      <td> 0</td>\n",
        "      <td> 0</td>\n",
        "      <td> 0</td>\n",
        "      <td> 0</td>\n",
        "      <td> 0</td>\n",
        "      <td> 0</td>\n",
        "      <td> 0</td>\n",
        "      <td> 0</td>\n",
        "      <td> 0</td>\n",
        "      <td> 0</td>\n",
        "      <td> 0</td>\n",
        "      <td> 0</td>\n",
        "    </tr>\n",
        "    <tr>\n",
        "      <th>helliri012006</th>\n",
        "      <td> helliri01</td>\n",
        "      <td> 2006</td>\n",
        "      <td> 1</td>\n",
        "      <td> MIL</td>\n",
        "      <td> NL</td>\n",
        "      <td> 20</td>\n",
        "      <td>  3</td>\n",
        "      <td> 0</td>\n",
        "      <td>  0</td>\n",
        "      <td> 0</td>\n",
        "      <td> 0</td>\n",
        "      <td> 0</td>\n",
        "      <td> 0</td>\n",
        "      <td> 0</td>\n",
        "      <td> 0</td>\n",
        "      <td> 0</td>\n",
        "      <td> 2</td>\n",
        "      <td> 0</td>\n",
        "      <td> 0</td>\n",
        "      <td> 0</td>\n",
        "      <td> 0</td>\n",
        "      <td> 0</td>\n",
        "    </tr>\n",
        "    <tr>\n",
        "      <th>johnsra052006</th>\n",
        "      <td> johnsra05</td>\n",
        "      <td> 2006</td>\n",
        "      <td> 1</td>\n",
        "      <td> NYA</td>\n",
        "      <td> AL</td>\n",
        "      <td> 33</td>\n",
        "      <td>  6</td>\n",
        "      <td> 0</td>\n",
        "      <td>  1</td>\n",
        "      <td> 0</td>\n",
        "      <td> 0</td>\n",
        "      <td> 0</td>\n",
        "      <td> 0</td>\n",
        "      <td> 0</td>\n",
        "      <td> 0</td>\n",
        "      <td> 0</td>\n",
        "      <td> 4</td>\n",
        "      <td> 0</td>\n",
        "      <td> 0</td>\n",
        "      <td> 0</td>\n",
        "      <td> 0</td>\n",
        "      <td> 0</td>\n",
        "    </tr>\n",
        "  </tbody>\n",
        "</table>\n",
        "</div>"
       ],
       "metadata": {},
       "output_type": "pyout",
       "prompt_number": 52,
       "text": [
        "                  player  year  stint team  lg   g  ab  r   h  X2b  X3b  hr  \\\n",
        "womacto012006  womacto01  2006      2  CHN  NL  19  50  6  14    1    0   1   \n",
        "schilcu012006  schilcu01  2006      1  BOS  AL  31   2  0   1    0    0   0   \n",
        "myersmi012006  myersmi01  2006      1  NYA  AL  62   0  0   0    0    0   0   \n",
        "helliri012006  helliri01  2006      1  MIL  NL  20   3  0   0    0    0   0   \n",
        "johnsra052006  johnsra05  2006      1  NYA  AL  33   6  0   1    0    0   0   \n",
        "\n",
        "               rbi  sb  cs  bb  so  ibb  hbp  sh  sf  gidp  \n",
        "womacto012006    2   1   1   4   4    0    0   3   0     0  \n",
        "schilcu012006    0   0   0   0   1    0    0   0   0     0  \n",
        "myersmi012006    0   0   0   0   0    0    0   0   0     0  \n",
        "helliri012006    0   0   0   0   2    0    0   0   0     0  \n",
        "johnsra052006    0   0   0   0   4    0    0   0   0     0  "
       ]
      }
     ],
     "prompt_number": 52
    },
    {
     "cell_type": "code",
     "collapsed": false,
     "input": [
      "# We can then use the label to access a record\n",
      "baseball_x.ix['aloumo012007']"
     ],
     "language": "python",
     "metadata": {},
     "outputs": [
      {
       "metadata": {},
       "output_type": "pyout",
       "prompt_number": 53,
       "text": [
        "player    aloumo01\n",
        "year          2007\n",
        "stint            1\n",
        "team           NYN\n",
        "lg              NL\n",
        "g               87\n",
        "ab             328\n",
        "r               51\n",
        "...\n",
        "cs       0\n",
        "bb      27\n",
        "so      30\n",
        "ibb      5\n",
        "hbp      2\n",
        "sh       0\n",
        "sf       3\n",
        "gidp    13\n",
        "Name: aloumo012007, Length: 22, dtype: object"
       ]
      }
     ],
     "prompt_number": 53
    },
    {
     "cell_type": "code",
     "collapsed": false,
     "input": [
      "# Let's focus on one feature, and sample a Series object\n",
      "hits = baseball_x.h\n",
      "hits"
     ],
     "language": "python",
     "metadata": {},
     "outputs": [
      {
       "metadata": {},
       "output_type": "pyout",
       "prompt_number": 54,
       "text": [
        "womacto012006     14\n",
        "schilcu012006      1\n",
        "myersmi012006      0\n",
        "helliri012006      0\n",
        "johnsra052006      1\n",
        "finlest012006    105\n",
        "gonzalu012006    159\n",
        "seleaa012006       5\n",
        "...\n",
        "cirilje012007     40\n",
        "bondsba012007     94\n",
        "biggicr012007    130\n",
        "benitar012007      0\n",
        "benitar012007      0\n",
        "ausmubr012007     82\n",
        "aloumo012007     112\n",
        "alomasa022007      3\n",
        "Name: h, Length: 100, dtype: int64"
       ]
      }
     ],
     "prompt_number": 54
    },
    {
     "cell_type": "code",
     "collapsed": false,
     "input": [
      "# Numpy-style indexing\n",
      "hits[0]"
     ],
     "language": "python",
     "metadata": {},
     "outputs": [
      {
       "metadata": {},
       "output_type": "pyout",
       "prompt_number": 55,
       "text": [
        "14"
       ]
      }
     ],
     "prompt_number": 55
    },
    {
     "cell_type": "code",
     "collapsed": false,
     "input": [
      "# Numpy-style slice indexing\n",
      "hits[:3]"
     ],
     "language": "python",
     "metadata": {},
     "outputs": [
      {
       "metadata": {},
       "output_type": "pyout",
       "prompt_number": 56,
       "text": [
        "womacto012006    14\n",
        "schilcu012006     1\n",
        "myersmi012006     0\n",
        "Name: h, dtype: int64"
       ]
      }
     ],
     "prompt_number": 56
    },
    {
     "cell_type": "code",
     "collapsed": false,
     "input": [
      "# Indexing by label\n",
      "hits[['womacto012006','schilcu012006']]"
     ],
     "language": "python",
     "metadata": {},
     "outputs": [
      {
       "metadata": {},
       "output_type": "pyout",
       "prompt_number": 57,
       "text": [
        "womacto012006    14\n",
        "schilcu012006     1\n",
        "Name: h, dtype: int64"
       ]
      }
     ],
     "prompt_number": 57
    },
    {
     "cell_type": "markdown",
     "metadata": {},
     "source": [
      "We can also slice with data labels, since they have an intrinsic order within the Index:"
     ]
    },
    {
     "cell_type": "code",
     "collapsed": false,
     "input": [
      "hits.ix['womacto012006':'gonzalu012006']"
     ],
     "language": "python",
     "metadata": {},
     "outputs": [
      {
       "metadata": {},
       "output_type": "pyout",
       "prompt_number": 58,
       "text": [
        "womacto012006     14\n",
        "schilcu012006      1\n",
        "myersmi012006      0\n",
        "helliri012006      0\n",
        "johnsra052006      1\n",
        "finlest012006    105\n",
        "gonzalu012006    159\n",
        "Name: h, dtype: int64"
       ]
      }
     ],
     "prompt_number": 58
    },
    {
     "cell_type": "markdown",
     "metadata": {},
     "source": [
      "In a `DataFrame` we can slice along either or both axes:"
     ]
    },
    {
     "cell_type": "code",
     "collapsed": false,
     "input": [
      "features = ['h','ab']\n",
      "baseball_x[features]"
     ],
     "language": "python",
     "metadata": {},
     "outputs": [
      {
       "html": [
        "<div style=\"max-height:1000px;max-width:1500px;overflow:auto;\">\n",
        "<table border=\"1\" class=\"dataframe\">\n",
        "  <thead>\n",
        "    <tr style=\"text-align: right;\">\n",
        "      <th></th>\n",
        "      <th>h</th>\n",
        "      <th>ab</th>\n",
        "    </tr>\n",
        "  </thead>\n",
        "  <tbody>\n",
        "    <tr>\n",
        "      <th>womacto012006</th>\n",
        "      <td>  14</td>\n",
        "      <td>  50</td>\n",
        "    </tr>\n",
        "    <tr>\n",
        "      <th>schilcu012006</th>\n",
        "      <td>   1</td>\n",
        "      <td>   2</td>\n",
        "    </tr>\n",
        "    <tr>\n",
        "      <th>myersmi012006</th>\n",
        "      <td>   0</td>\n",
        "      <td>   0</td>\n",
        "    </tr>\n",
        "    <tr>\n",
        "      <th>helliri012006</th>\n",
        "      <td>   0</td>\n",
        "      <td>   3</td>\n",
        "    </tr>\n",
        "    <tr>\n",
        "      <th>johnsra052006</th>\n",
        "      <td>   1</td>\n",
        "      <td>   6</td>\n",
        "    </tr>\n",
        "    <tr>\n",
        "      <th>finlest012006</th>\n",
        "      <td> 105</td>\n",
        "      <td> 426</td>\n",
        "    </tr>\n",
        "    <tr>\n",
        "      <th>gonzalu012006</th>\n",
        "      <td> 159</td>\n",
        "      <td> 586</td>\n",
        "    </tr>\n",
        "    <tr>\n",
        "      <th>seleaa012006</th>\n",
        "      <td>   5</td>\n",
        "      <td>  26</td>\n",
        "    </tr>\n",
        "    <tr>\n",
        "      <th>francju012007</th>\n",
        "      <td>  10</td>\n",
        "      <td>  40</td>\n",
        "    </tr>\n",
        "    <tr>\n",
        "      <th>francju012007</th>\n",
        "      <td>  10</td>\n",
        "      <td>  50</td>\n",
        "    </tr>\n",
        "    <tr>\n",
        "      <th>...</th>\n",
        "      <td>...</td>\n",
        "      <td>...</td>\n",
        "    </tr>\n",
        "    <tr>\n",
        "      <th>claytro012007</th>\n",
        "      <td>  48</td>\n",
        "      <td> 189</td>\n",
        "    </tr>\n",
        "    <tr>\n",
        "      <th>cirilje012007</th>\n",
        "      <td>   8</td>\n",
        "      <td>  40</td>\n",
        "    </tr>\n",
        "    <tr>\n",
        "      <th>cirilje012007</th>\n",
        "      <td>  40</td>\n",
        "      <td> 153</td>\n",
        "    </tr>\n",
        "    <tr>\n",
        "      <th>bondsba012007</th>\n",
        "      <td>  94</td>\n",
        "      <td> 340</td>\n",
        "    </tr>\n",
        "    <tr>\n",
        "      <th>biggicr012007</th>\n",
        "      <td> 130</td>\n",
        "      <td> 517</td>\n",
        "    </tr>\n",
        "    <tr>\n",
        "      <th>benitar012007</th>\n",
        "      <td>   0</td>\n",
        "      <td>   0</td>\n",
        "    </tr>\n",
        "    <tr>\n",
        "      <th>benitar012007</th>\n",
        "      <td>   0</td>\n",
        "      <td>   0</td>\n",
        "    </tr>\n",
        "    <tr>\n",
        "      <th>ausmubr012007</th>\n",
        "      <td>  82</td>\n",
        "      <td> 349</td>\n",
        "    </tr>\n",
        "    <tr>\n",
        "      <th>aloumo012007</th>\n",
        "      <td> 112</td>\n",
        "      <td> 328</td>\n",
        "    </tr>\n",
        "    <tr>\n",
        "      <th>alomasa022007</th>\n",
        "      <td>   3</td>\n",
        "      <td>  22</td>\n",
        "    </tr>\n",
        "  </tbody>\n",
        "</table>\n",
        "<p>100 rows \u00d7 2 columns</p>\n",
        "</div>"
       ],
       "metadata": {},
       "output_type": "pyout",
       "prompt_number": 59,
       "text": [
        "                 h   ab\n",
        "womacto012006   14   50\n",
        "schilcu012006    1    2\n",
        "myersmi012006    0    0\n",
        "helliri012006    0    3\n",
        "johnsra052006    1    6\n",
        "finlest012006  105  426\n",
        "gonzalu012006  159  586\n",
        "seleaa012006     5   26\n",
        "francju012007   10   40\n",
        "francju012007   10   50\n",
        "...            ...  ...\n",
        "claytro012007   48  189\n",
        "cirilje012007    8   40\n",
        "cirilje012007   40  153\n",
        "bondsba012007   94  340\n",
        "biggicr012007  130  517\n",
        "benitar012007    0    0\n",
        "benitar012007    0    0\n",
        "ausmubr012007   82  349\n",
        "aloumo012007   112  328\n",
        "alomasa022007    3   22\n",
        "\n",
        "[100 rows x 2 columns]"
       ]
      }
     ],
     "prompt_number": 59
    },
    {
     "cell_type": "markdown",
     "metadata": {},
     "source": [
      "The indexing field `ix` allows us to select subsets of rows and columns in an intuitive way:"
     ]
    },
    {
     "cell_type": "code",
     "collapsed": false,
     "input": [
      "baseball_x.ix['gonzalu012006', ['h','X2b', 'X3b', 'hr']]"
     ],
     "language": "python",
     "metadata": {},
     "outputs": [
      {
       "metadata": {},
       "output_type": "pyout",
       "prompt_number": 60,
       "text": [
        "h      159\n",
        "X2b     52\n",
        "X3b      2\n",
        "hr      15\n",
        "Name: gonzalu012006, dtype: object"
       ]
      }
     ],
     "prompt_number": 60
    },
    {
     "cell_type": "code",
     "collapsed": false,
     "input": [
      "baseball_x.ix[['gonzalu012006','finlest012006'], 5:8]"
     ],
     "language": "python",
     "metadata": {},
     "outputs": [
      {
       "html": [
        "<div style=\"max-height:1000px;max-width:1500px;overflow:auto;\">\n",
        "<table border=\"1\" class=\"dataframe\">\n",
        "  <thead>\n",
        "    <tr style=\"text-align: right;\">\n",
        "      <th></th>\n",
        "      <th>g</th>\n",
        "      <th>ab</th>\n",
        "      <th>r</th>\n",
        "    </tr>\n",
        "  </thead>\n",
        "  <tbody>\n",
        "    <tr>\n",
        "      <th>gonzalu012006</th>\n",
        "      <td> 153</td>\n",
        "      <td> 586</td>\n",
        "      <td> 93</td>\n",
        "    </tr>\n",
        "    <tr>\n",
        "      <th>finlest012006</th>\n",
        "      <td> 139</td>\n",
        "      <td> 426</td>\n",
        "      <td> 66</td>\n",
        "    </tr>\n",
        "  </tbody>\n",
        "</table>\n",
        "</div>"
       ],
       "metadata": {},
       "output_type": "pyout",
       "prompt_number": 61,
       "text": [
        "                 g   ab   r\n",
        "gonzalu012006  153  586  93\n",
        "finlest012006  139  426  66"
       ]
      }
     ],
     "prompt_number": 61
    },
    {
     "cell_type": "code",
     "collapsed": false,
     "input": [
      "baseball_x.ix[:'myersmi012006', 'hr']"
     ],
     "language": "python",
     "metadata": {},
     "outputs": [
      {
       "metadata": {},
       "output_type": "pyout",
       "prompt_number": 62,
       "text": [
        "womacto012006    1\n",
        "schilcu012006    0\n",
        "myersmi012006    0\n",
        "Name: hr, dtype: int64"
       ]
      }
     ],
     "prompt_number": 62
    },
    {
     "cell_type": "markdown",
     "metadata": {},
     "source": [
      "![break](assets/voronoi.svg)"
     ]
    },
    {
     "cell_type": "heading",
     "level": 3,
     "metadata": {},
     "source": [
      "Classwork"
     ]
    },
    {
     "cell_type": "markdown",
     "metadata": {},
     "source": [
      "* With your partner create an index for the baseball data set which incoporates the team name."
     ]
    },
    {
     "cell_type": "markdown",
     "metadata": {},
     "source": [
      "![break](assets/code.svg)"
     ]
    },
    {
     "cell_type": "heading",
     "level": 3,
     "metadata": {},
     "source": [
      "Operations"
     ]
    },
    {
     "cell_type": "markdown",
     "metadata": {},
     "source": [
      "`DataFrame` and `Series` objects allow for several operations to take place either on a single object, or between two or more objects.\n",
      "\n",
      "For example, we can perform arithmetic on the elements of two objects, such as combining baseball statistics across years. Let's try and see which players appeared in both 2006 and 2007 seasons (in this limited dataset)."
     ]
    },
    {
     "cell_type": "code",
     "collapsed": false,
     "input": [
      "y2006 = baseball.year==2006"
     ],
     "language": "python",
     "metadata": {},
     "outputs": [],
     "prompt_number": 63
    },
    {
     "cell_type": "code",
     "collapsed": false,
     "input": [
      "# use the baseball.year==2006 as a selection mask, xs to select one column\n",
      "hr2006 = baseball[baseball.year==2006].xs('hr', axis=1)\n",
      "# or\n",
      "hr2006 = baseball[baseball.year==2006]['hr']\n",
      "\n",
      "# by creating our own index so we can compare it with data from 2007\n",
      "hr2006.index = baseball.player[baseball.year==2006]\n",
      "\n",
      "# or all in one statement\n",
      "\n",
      "hr2006 = pd.Series(baseball.hr[y2006].values, \n",
      "                   index=baseball.player[y2006])\n",
      "\n",
      "hr2006"
     ],
     "language": "python",
     "metadata": {},
     "outputs": [
      {
       "metadata": {},
       "output_type": "pyout",
       "prompt_number": 64,
       "text": [
        "player\n",
        "womacto01     1\n",
        "schilcu01     0\n",
        "myersmi01     0\n",
        "helliri01     0\n",
        "johnsra05     0\n",
        "finlest01     6\n",
        "gonzalu01    15\n",
        "seleaa01      0\n",
        "dtype: int64"
       ]
      }
     ],
     "prompt_number": 64
    },
    {
     "cell_type": "code",
     "collapsed": false,
     "input": [
      "y2007 = baseball.year==2007\n",
      "hr2007 = baseball[y2007].xs('hr', axis=1)\n",
      "hr2007.index = baseball.player[y2007]\n",
      "hr2007"
     ],
     "language": "python",
     "metadata": {},
     "outputs": [
      {
       "metadata": {},
       "output_type": "pyout",
       "prompt_number": 65,
       "text": [
        "player\n",
        "francju01     0\n",
        "francju01     1\n",
        "zaungr01     10\n",
        "witasja01     0\n",
        "williwo02     1\n",
        "wickmbo01     0\n",
        "wickmbo01     0\n",
        "whitero02     4\n",
        "...\n",
        "cirilje01     2\n",
        "bondsba01    28\n",
        "biggicr01    10\n",
        "benitar01     0\n",
        "benitar01     0\n",
        "ausmubr01     3\n",
        "aloumo01     13\n",
        "alomasa02     0\n",
        "Name: hr, Length: 92, dtype: int64"
       ]
      }
     ],
     "prompt_number": 65
    },
    {
     "cell_type": "code",
     "collapsed": false,
     "input": [
      "# hr2006 = pd.Series(baseball.hr[baseball.year==2006].values, index=baseball.player[baseball.year==2006])\n",
      "type(hr2006)"
     ],
     "language": "python",
     "metadata": {},
     "outputs": [
      {
       "metadata": {},
       "output_type": "pyout",
       "prompt_number": 66,
       "text": [
        "pandas.core.series.Series"
       ]
      }
     ],
     "prompt_number": 66
    },
    {
     "cell_type": "code",
     "collapsed": false,
     "input": [
      "hr_total = hr2006 + hr2007\n",
      "hr_total"
     ],
     "language": "python",
     "metadata": {},
     "outputs": [
      {
       "metadata": {},
       "output_type": "pyout",
       "prompt_number": 67,
       "text": [
        "player\n",
        "alomasa02   NaN\n",
        "aloumo01    NaN\n",
        "ausmubr01   NaN\n",
        "benitar01   NaN\n",
        "benitar01   NaN\n",
        "biggicr01   NaN\n",
        "bondsba01   NaN\n",
        "cirilje01   NaN\n",
        "...\n",
        "whiteri01   NaN\n",
        "whitero02   NaN\n",
        "wickmbo01   NaN\n",
        "wickmbo01   NaN\n",
        "williwo02   NaN\n",
        "witasja01   NaN\n",
        "womacto01   NaN\n",
        "zaungr01    NaN\n",
        "Length: 94, dtype: float64"
       ]
      }
     ],
     "prompt_number": 67
    },
    {
     "cell_type": "markdown",
     "metadata": {},
     "source": [
      "Pandas' data alignment places `NaN` values for labels that do not overlap in the two Series. In fact, there are only 6 players that occur in both years."
     ]
    },
    {
     "cell_type": "code",
     "collapsed": false,
     "input": [
      "hr_total[hr_total.notnull()]"
     ],
     "language": "python",
     "metadata": {},
     "outputs": [
      {
       "metadata": {},
       "output_type": "pyout",
       "prompt_number": 68,
       "text": [
        "player\n",
        "finlest01     7\n",
        "gonzalu01    30\n",
        "johnsra05     0\n",
        "myersmi01     0\n",
        "schilcu01     0\n",
        "seleaa01      0\n",
        "dtype: float64"
       ]
      }
     ],
     "prompt_number": 68
    },
    {
     "cell_type": "markdown",
     "metadata": {},
     "source": [
      "\n",
      "While we do want the operation to honor the data labels in this way, we probably do not want the missing values to be filled with `NaN`. We can use the `add` method to calculate player home run totals by using the `fill_value` argument to insert a zero for home runs where labels do not overlap:"
     ]
    },
    {
     "cell_type": "code",
     "collapsed": false,
     "input": [
      "hr2007.add(hr2006, fill_value=0)"
     ],
     "language": "python",
     "metadata": {},
     "outputs": [
      {
       "metadata": {},
       "output_type": "pyout",
       "prompt_number": 69,
       "text": [
        "player\n",
        "alomasa02     0\n",
        "aloumo01     13\n",
        "ausmubr01     3\n",
        "benitar01     0\n",
        "benitar01     0\n",
        "biggicr01    10\n",
        "bondsba01    28\n",
        "cirilje01     0\n",
        "...\n",
        "whiteri01     0\n",
        "whitero02     4\n",
        "wickmbo01     0\n",
        "wickmbo01     0\n",
        "williwo02     1\n",
        "witasja01     0\n",
        "womacto01     1\n",
        "zaungr01     10\n",
        "Name: hr, Length: 94, dtype: float64"
       ]
      }
     ],
     "prompt_number": 69
    },
    {
     "cell_type": "heading",
     "level": 4,
     "metadata": {},
     "source": [
      "broadcasting"
     ]
    },
    {
     "cell_type": "markdown",
     "metadata": {},
     "source": [
      "Operations can also be **broadcast** between rows or columns.\n",
      "\n",
      "For example, if we subtract the maximum number of home runs hit from the `hr` column, we get how many fewer than the maximum were hit by each player:"
     ]
    },
    {
     "cell_type": "code",
     "collapsed": false,
     "input": [
      "baseball.hr - baseball.hr.max()"
     ],
     "language": "python",
     "metadata": {},
     "outputs": [
      {
       "metadata": {},
       "output_type": "pyout",
       "prompt_number": 70,
       "text": [
        "id\n",
        "88641   -34\n",
        "88643   -35\n",
        "88645   -35\n",
        "88649   -35\n",
        "88650   -35\n",
        "88652   -29\n",
        "88653   -20\n",
        "88662   -35\n",
        "...\n",
        "89502   -33\n",
        "89521    -7\n",
        "89523   -25\n",
        "89525   -35\n",
        "89526   -35\n",
        "89530   -32\n",
        "89533   -22\n",
        "89534   -35\n",
        "Name: hr, Length: 100, dtype: int64"
       ]
      }
     ],
     "prompt_number": 70
    },
    {
     "cell_type": "markdown",
     "metadata": {},
     "source": [
      "Or, looking at things row-wise, we can see how a particular player compares with the rest of the group with respect to important statistics"
     ]
    },
    {
     "cell_type": "code",
     "collapsed": false,
     "input": [
      "baseball.sort('hr', ascending=False)"
     ],
     "language": "python",
     "metadata": {},
     "outputs": [
      {
       "html": [
        "<div style=\"max-height:1000px;max-width:1500px;overflow:auto;\">\n",
        "<table border=\"1\" class=\"dataframe\">\n",
        "  <thead>\n",
        "    <tr style=\"text-align: right;\">\n",
        "      <th></th>\n",
        "      <th>player</th>\n",
        "      <th>year</th>\n",
        "      <th>stint</th>\n",
        "      <th>team</th>\n",
        "      <th>lg</th>\n",
        "      <th>g</th>\n",
        "      <th>ab</th>\n",
        "      <th>r</th>\n",
        "      <th>h</th>\n",
        "      <th>X2b</th>\n",
        "      <th>X3b</th>\n",
        "      <th>hr</th>\n",
        "      <th>rbi</th>\n",
        "      <th>sb</th>\n",
        "      <th>cs</th>\n",
        "      <th>bb</th>\n",
        "      <th>so</th>\n",
        "      <th>ibb</th>\n",
        "      <th>hbp</th>\n",
        "      <th>sh</th>\n",
        "      <th>sf</th>\n",
        "      <th>gidp</th>\n",
        "    </tr>\n",
        "    <tr>\n",
        "      <th>id</th>\n",
        "      <th></th>\n",
        "      <th></th>\n",
        "      <th></th>\n",
        "      <th></th>\n",
        "      <th></th>\n",
        "      <th></th>\n",
        "      <th></th>\n",
        "      <th></th>\n",
        "      <th></th>\n",
        "      <th></th>\n",
        "      <th></th>\n",
        "      <th></th>\n",
        "      <th></th>\n",
        "      <th></th>\n",
        "      <th></th>\n",
        "      <th></th>\n",
        "      <th></th>\n",
        "      <th></th>\n",
        "      <th></th>\n",
        "      <th></th>\n",
        "      <th></th>\n",
        "      <th></th>\n",
        "    </tr>\n",
        "  </thead>\n",
        "  <tbody>\n",
        "    <tr>\n",
        "      <th>89360</th>\n",
        "      <td> thomeji01</td>\n",
        "      <td> 2007</td>\n",
        "      <td> 1</td>\n",
        "      <td> CHA</td>\n",
        "      <td> AL</td>\n",
        "      <td> 130</td>\n",
        "      <td> 432</td>\n",
        "      <td>  79</td>\n",
        "      <td> 119</td>\n",
        "      <td> 19</td>\n",
        "      <td> 0</td>\n",
        "      <td> 35</td>\n",
        "      <td> 96</td>\n",
        "      <td>  0</td>\n",
        "      <td> 1</td>\n",
        "      <td>  95</td>\n",
        "      <td> 134</td>\n",
        "      <td> 11</td>\n",
        "      <td>  6</td>\n",
        "      <td> 0</td>\n",
        "      <td> 3</td>\n",
        "      <td> 10</td>\n",
        "    </tr>\n",
        "    <tr>\n",
        "      <th>89462</th>\n",
        "      <td> griffke02</td>\n",
        "      <td> 2007</td>\n",
        "      <td> 1</td>\n",
        "      <td> CIN</td>\n",
        "      <td> NL</td>\n",
        "      <td> 144</td>\n",
        "      <td> 528</td>\n",
        "      <td>  78</td>\n",
        "      <td> 146</td>\n",
        "      <td> 24</td>\n",
        "      <td> 1</td>\n",
        "      <td> 30</td>\n",
        "      <td> 93</td>\n",
        "      <td>  6</td>\n",
        "      <td> 1</td>\n",
        "      <td>  85</td>\n",
        "      <td>  99</td>\n",
        "      <td> 14</td>\n",
        "      <td>  1</td>\n",
        "      <td> 0</td>\n",
        "      <td> 9</td>\n",
        "      <td> 14</td>\n",
        "    </tr>\n",
        "    <tr>\n",
        "      <th>89521</th>\n",
        "      <td> bondsba01</td>\n",
        "      <td> 2007</td>\n",
        "      <td> 1</td>\n",
        "      <td> SFN</td>\n",
        "      <td> NL</td>\n",
        "      <td> 126</td>\n",
        "      <td> 340</td>\n",
        "      <td>  75</td>\n",
        "      <td>  94</td>\n",
        "      <td> 14</td>\n",
        "      <td> 0</td>\n",
        "      <td> 28</td>\n",
        "      <td> 66</td>\n",
        "      <td>  5</td>\n",
        "      <td> 0</td>\n",
        "      <td> 132</td>\n",
        "      <td>  54</td>\n",
        "      <td> 43</td>\n",
        "      <td>  3</td>\n",
        "      <td> 0</td>\n",
        "      <td> 2</td>\n",
        "      <td> 13</td>\n",
        "    </tr>\n",
        "    <tr>\n",
        "      <th>89361</th>\n",
        "      <td> thomafr04</td>\n",
        "      <td> 2007</td>\n",
        "      <td> 1</td>\n",
        "      <td> TOR</td>\n",
        "      <td> AL</td>\n",
        "      <td> 155</td>\n",
        "      <td> 531</td>\n",
        "      <td>  63</td>\n",
        "      <td> 147</td>\n",
        "      <td> 30</td>\n",
        "      <td> 0</td>\n",
        "      <td> 26</td>\n",
        "      <td> 95</td>\n",
        "      <td>  0</td>\n",
        "      <td> 0</td>\n",
        "      <td>  81</td>\n",
        "      <td>  94</td>\n",
        "      <td>  3</td>\n",
        "      <td>  7</td>\n",
        "      <td> 0</td>\n",
        "      <td> 5</td>\n",
        "      <td> 14</td>\n",
        "    </tr>\n",
        "    <tr>\n",
        "      <th>89378</th>\n",
        "      <td> sheffga01</td>\n",
        "      <td> 2007</td>\n",
        "      <td> 1</td>\n",
        "      <td> DET</td>\n",
        "      <td> AL</td>\n",
        "      <td> 133</td>\n",
        "      <td> 494</td>\n",
        "      <td> 107</td>\n",
        "      <td> 131</td>\n",
        "      <td> 20</td>\n",
        "      <td> 1</td>\n",
        "      <td> 25</td>\n",
        "      <td> 75</td>\n",
        "      <td> 22</td>\n",
        "      <td> 5</td>\n",
        "      <td>  84</td>\n",
        "      <td>  71</td>\n",
        "      <td>  2</td>\n",
        "      <td>  9</td>\n",
        "      <td> 0</td>\n",
        "      <td> 6</td>\n",
        "      <td> 10</td>\n",
        "    </tr>\n",
        "    <tr>\n",
        "      <th>89489</th>\n",
        "      <td> delgaca01</td>\n",
        "      <td> 2007</td>\n",
        "      <td> 1</td>\n",
        "      <td> NYN</td>\n",
        "      <td> NL</td>\n",
        "      <td> 139</td>\n",
        "      <td> 538</td>\n",
        "      <td>  71</td>\n",
        "      <td> 139</td>\n",
        "      <td> 30</td>\n",
        "      <td> 0</td>\n",
        "      <td> 24</td>\n",
        "      <td> 87</td>\n",
        "      <td>  4</td>\n",
        "      <td> 0</td>\n",
        "      <td>  52</td>\n",
        "      <td> 118</td>\n",
        "      <td>  8</td>\n",
        "      <td> 11</td>\n",
        "      <td> 0</td>\n",
        "      <td> 6</td>\n",
        "      <td> 12</td>\n",
        "    </tr>\n",
        "    <tr>\n",
        "      <th>89374</th>\n",
        "      <td>  sosasa01</td>\n",
        "      <td> 2007</td>\n",
        "      <td> 1</td>\n",
        "      <td> TEX</td>\n",
        "      <td> AL</td>\n",
        "      <td> 114</td>\n",
        "      <td> 412</td>\n",
        "      <td>  53</td>\n",
        "      <td> 104</td>\n",
        "      <td> 24</td>\n",
        "      <td> 1</td>\n",
        "      <td> 21</td>\n",
        "      <td> 92</td>\n",
        "      <td>  0</td>\n",
        "      <td> 0</td>\n",
        "      <td>  34</td>\n",
        "      <td> 112</td>\n",
        "      <td>  3</td>\n",
        "      <td>  3</td>\n",
        "      <td> 0</td>\n",
        "      <td> 5</td>\n",
        "      <td> 11</td>\n",
        "    </tr>\n",
        "    <tr>\n",
        "      <th>89371</th>\n",
        "      <td> stairma01</td>\n",
        "      <td> 2007</td>\n",
        "      <td> 1</td>\n",
        "      <td> TOR</td>\n",
        "      <td> AL</td>\n",
        "      <td> 125</td>\n",
        "      <td> 357</td>\n",
        "      <td>  58</td>\n",
        "      <td> 103</td>\n",
        "      <td> 28</td>\n",
        "      <td> 1</td>\n",
        "      <td> 21</td>\n",
        "      <td> 64</td>\n",
        "      <td>  2</td>\n",
        "      <td> 1</td>\n",
        "      <td>  44</td>\n",
        "      <td>  66</td>\n",
        "      <td>  5</td>\n",
        "      <td>  2</td>\n",
        "      <td> 0</td>\n",
        "      <td> 2</td>\n",
        "      <td>  7</td>\n",
        "    </tr>\n",
        "    <tr>\n",
        "      <th>89396</th>\n",
        "      <td> ramirma02</td>\n",
        "      <td> 2007</td>\n",
        "      <td> 1</td>\n",
        "      <td> BOS</td>\n",
        "      <td> AL</td>\n",
        "      <td> 133</td>\n",
        "      <td> 483</td>\n",
        "      <td>  84</td>\n",
        "      <td> 143</td>\n",
        "      <td> 33</td>\n",
        "      <td> 1</td>\n",
        "      <td> 20</td>\n",
        "      <td> 88</td>\n",
        "      <td>  0</td>\n",
        "      <td> 0</td>\n",
        "      <td>  71</td>\n",
        "      <td>  92</td>\n",
        "      <td> 13</td>\n",
        "      <td>  7</td>\n",
        "      <td> 0</td>\n",
        "      <td> 8</td>\n",
        "      <td> 21</td>\n",
        "    </tr>\n",
        "    <tr>\n",
        "      <th>89439</th>\n",
        "      <td>  kentje01</td>\n",
        "      <td> 2007</td>\n",
        "      <td> 1</td>\n",
        "      <td> LAN</td>\n",
        "      <td> NL</td>\n",
        "      <td> 136</td>\n",
        "      <td> 494</td>\n",
        "      <td>  78</td>\n",
        "      <td> 149</td>\n",
        "      <td> 36</td>\n",
        "      <td> 1</td>\n",
        "      <td> 20</td>\n",
        "      <td> 79</td>\n",
        "      <td>  1</td>\n",
        "      <td> 3</td>\n",
        "      <td>  57</td>\n",
        "      <td>  61</td>\n",
        "      <td>  4</td>\n",
        "      <td>  5</td>\n",
        "      <td> 0</td>\n",
        "      <td> 6</td>\n",
        "      <td> 17</td>\n",
        "    </tr>\n",
        "    <tr>\n",
        "      <th>...</th>\n",
        "      <td>...</td>\n",
        "      <td>...</td>\n",
        "      <td>...</td>\n",
        "      <td>...</td>\n",
        "      <td>...</td>\n",
        "      <td>...</td>\n",
        "      <td>...</td>\n",
        "      <td>...</td>\n",
        "      <td>...</td>\n",
        "      <td>...</td>\n",
        "      <td>...</td>\n",
        "      <td>...</td>\n",
        "      <td>...</td>\n",
        "      <td>...</td>\n",
        "      <td>...</td>\n",
        "      <td>...</td>\n",
        "      <td>...</td>\n",
        "      <td>...</td>\n",
        "      <td>...</td>\n",
        "      <td>...</td>\n",
        "      <td>...</td>\n",
        "      <td>...</td>\n",
        "    </tr>\n",
        "    <tr>\n",
        "      <th>89429</th>\n",
        "      <td> loftoke01</td>\n",
        "      <td> 2007</td>\n",
        "      <td> 2</td>\n",
        "      <td> CLE</td>\n",
        "      <td> AL</td>\n",
        "      <td>  52</td>\n",
        "      <td> 173</td>\n",
        "      <td>  24</td>\n",
        "      <td>  49</td>\n",
        "      <td>  9</td>\n",
        "      <td> 3</td>\n",
        "      <td>  0</td>\n",
        "      <td> 15</td>\n",
        "      <td>  2</td>\n",
        "      <td> 3</td>\n",
        "      <td>  17</td>\n",
        "      <td>  23</td>\n",
        "      <td>  0</td>\n",
        "      <td>  0</td>\n",
        "      <td> 4</td>\n",
        "      <td> 2</td>\n",
        "      <td>  1</td>\n",
        "    </tr>\n",
        "    <tr>\n",
        "      <th>89359</th>\n",
        "      <td> timlimi01</td>\n",
        "      <td> 2007</td>\n",
        "      <td> 1</td>\n",
        "      <td> BOS</td>\n",
        "      <td> AL</td>\n",
        "      <td>   4</td>\n",
        "      <td>   0</td>\n",
        "      <td>   0</td>\n",
        "      <td>   0</td>\n",
        "      <td>  0</td>\n",
        "      <td> 0</td>\n",
        "      <td>  0</td>\n",
        "      <td>  0</td>\n",
        "      <td>  0</td>\n",
        "      <td> 0</td>\n",
        "      <td>   0</td>\n",
        "      <td>   0</td>\n",
        "      <td>  0</td>\n",
        "      <td>  0</td>\n",
        "      <td> 0</td>\n",
        "      <td> 0</td>\n",
        "      <td>  0</td>\n",
        "    </tr>\n",
        "    <tr>\n",
        "      <th>89431</th>\n",
        "      <td> loaizes01</td>\n",
        "      <td> 2007</td>\n",
        "      <td> 1</td>\n",
        "      <td> LAN</td>\n",
        "      <td> NL</td>\n",
        "      <td>   5</td>\n",
        "      <td>   7</td>\n",
        "      <td>   0</td>\n",
        "      <td>   1</td>\n",
        "      <td>  0</td>\n",
        "      <td> 0</td>\n",
        "      <td>  0</td>\n",
        "      <td>  2</td>\n",
        "      <td>  0</td>\n",
        "      <td> 0</td>\n",
        "      <td>   0</td>\n",
        "      <td>   2</td>\n",
        "      <td>  0</td>\n",
        "      <td>  0</td>\n",
        "      <td> 2</td>\n",
        "      <td> 0</td>\n",
        "      <td>  1</td>\n",
        "    </tr>\n",
        "    <tr>\n",
        "      <th>89355</th>\n",
        "      <td> trachst01</td>\n",
        "      <td> 2007</td>\n",
        "      <td> 1</td>\n",
        "      <td> BAL</td>\n",
        "      <td> AL</td>\n",
        "      <td>   3</td>\n",
        "      <td>   5</td>\n",
        "      <td>   0</td>\n",
        "      <td>   0</td>\n",
        "      <td>  0</td>\n",
        "      <td> 0</td>\n",
        "      <td>  0</td>\n",
        "      <td>  0</td>\n",
        "      <td>  0</td>\n",
        "      <td> 0</td>\n",
        "      <td>   0</td>\n",
        "      <td>   3</td>\n",
        "      <td>  0</td>\n",
        "      <td>  0</td>\n",
        "      <td> 0</td>\n",
        "      <td> 0</td>\n",
        "      <td>  0</td>\n",
        "    </tr>\n",
        "    <tr>\n",
        "      <th>89354</th>\n",
        "      <td> trachst01</td>\n",
        "      <td> 2007</td>\n",
        "      <td> 2</td>\n",
        "      <td> CHN</td>\n",
        "      <td> NL</td>\n",
        "      <td>   4</td>\n",
        "      <td>   7</td>\n",
        "      <td>   0</td>\n",
        "      <td>   1</td>\n",
        "      <td>  0</td>\n",
        "      <td> 0</td>\n",
        "      <td>  0</td>\n",
        "      <td>  0</td>\n",
        "      <td>  0</td>\n",
        "      <td> 0</td>\n",
        "      <td>   0</td>\n",
        "      <td>   1</td>\n",
        "      <td>  0</td>\n",
        "      <td>  0</td>\n",
        "      <td> 0</td>\n",
        "      <td> 0</td>\n",
        "      <td>  0</td>\n",
        "    </tr>\n",
        "    <tr>\n",
        "      <th>89442</th>\n",
        "      <td> jonesto02</td>\n",
        "      <td> 2007</td>\n",
        "      <td> 1</td>\n",
        "      <td> DET</td>\n",
        "      <td> AL</td>\n",
        "      <td>   5</td>\n",
        "      <td>   0</td>\n",
        "      <td>   0</td>\n",
        "      <td>   0</td>\n",
        "      <td>  0</td>\n",
        "      <td> 0</td>\n",
        "      <td>  0</td>\n",
        "      <td>  0</td>\n",
        "      <td>  0</td>\n",
        "      <td> 0</td>\n",
        "      <td>   0</td>\n",
        "      <td>   0</td>\n",
        "      <td>  0</td>\n",
        "      <td>  0</td>\n",
        "      <td> 0</td>\n",
        "      <td> 0</td>\n",
        "      <td>  0</td>\n",
        "    </tr>\n",
        "    <tr>\n",
        "      <th>89445</th>\n",
        "      <td> johnsra05</td>\n",
        "      <td> 2007</td>\n",
        "      <td> 1</td>\n",
        "      <td> ARI</td>\n",
        "      <td> NL</td>\n",
        "      <td>  10</td>\n",
        "      <td>  15</td>\n",
        "      <td>   0</td>\n",
        "      <td>   1</td>\n",
        "      <td>  0</td>\n",
        "      <td> 0</td>\n",
        "      <td>  0</td>\n",
        "      <td>  0</td>\n",
        "      <td>  0</td>\n",
        "      <td> 0</td>\n",
        "      <td>   1</td>\n",
        "      <td>   7</td>\n",
        "      <td>  0</td>\n",
        "      <td>  0</td>\n",
        "      <td> 2</td>\n",
        "      <td> 0</td>\n",
        "      <td>  0</td>\n",
        "    </tr>\n",
        "    <tr>\n",
        "      <th>89450</th>\n",
        "      <td> hoffmtr01</td>\n",
        "      <td> 2007</td>\n",
        "      <td> 1</td>\n",
        "      <td> SDN</td>\n",
        "      <td> NL</td>\n",
        "      <td>  60</td>\n",
        "      <td>   0</td>\n",
        "      <td>   0</td>\n",
        "      <td>   0</td>\n",
        "      <td>  0</td>\n",
        "      <td> 0</td>\n",
        "      <td>  0</td>\n",
        "      <td>  0</td>\n",
        "      <td>  0</td>\n",
        "      <td> 0</td>\n",
        "      <td>   0</td>\n",
        "      <td>   0</td>\n",
        "      <td>  0</td>\n",
        "      <td>  0</td>\n",
        "      <td> 0</td>\n",
        "      <td> 0</td>\n",
        "      <td>  0</td>\n",
        "    </tr>\n",
        "    <tr>\n",
        "      <th>89451</th>\n",
        "      <td> hernaro01</td>\n",
        "      <td> 2007</td>\n",
        "      <td> 2</td>\n",
        "      <td> LAN</td>\n",
        "      <td> NL</td>\n",
        "      <td>  22</td>\n",
        "      <td>   0</td>\n",
        "      <td>   0</td>\n",
        "      <td>   0</td>\n",
        "      <td>  0</td>\n",
        "      <td> 0</td>\n",
        "      <td>  0</td>\n",
        "      <td>  0</td>\n",
        "      <td>  0</td>\n",
        "      <td> 0</td>\n",
        "      <td>   0</td>\n",
        "      <td>   0</td>\n",
        "      <td>  0</td>\n",
        "      <td>  0</td>\n",
        "      <td> 0</td>\n",
        "      <td> 0</td>\n",
        "      <td>  0</td>\n",
        "    </tr>\n",
        "    <tr>\n",
        "      <th>89534</th>\n",
        "      <td> alomasa02</td>\n",
        "      <td> 2007</td>\n",
        "      <td> 1</td>\n",
        "      <td> NYN</td>\n",
        "      <td> NL</td>\n",
        "      <td>   8</td>\n",
        "      <td>  22</td>\n",
        "      <td>   1</td>\n",
        "      <td>   3</td>\n",
        "      <td>  1</td>\n",
        "      <td> 0</td>\n",
        "      <td>  0</td>\n",
        "      <td>  0</td>\n",
        "      <td>  0</td>\n",
        "      <td> 0</td>\n",
        "      <td>   0</td>\n",
        "      <td>   3</td>\n",
        "      <td>  0</td>\n",
        "      <td>  0</td>\n",
        "      <td> 0</td>\n",
        "      <td> 0</td>\n",
        "      <td>  0</td>\n",
        "    </tr>\n",
        "  </tbody>\n",
        "</table>\n",
        "<p>100 rows \u00d7 22 columns</p>\n",
        "</div>"
       ],
       "metadata": {},
       "output_type": "pyout",
       "prompt_number": 71,
       "text": [
        "          player  year  stint team  lg    g   ab    r    h  X2b  X3b  hr  rbi  \\\n",
        "id                                                                              \n",
        "89360  thomeji01  2007      1  CHA  AL  130  432   79  119   19    0  35   96   \n",
        "89462  griffke02  2007      1  CIN  NL  144  528   78  146   24    1  30   93   \n",
        "89521  bondsba01  2007      1  SFN  NL  126  340   75   94   14    0  28   66   \n",
        "89361  thomafr04  2007      1  TOR  AL  155  531   63  147   30    0  26   95   \n",
        "89378  sheffga01  2007      1  DET  AL  133  494  107  131   20    1  25   75   \n",
        "89489  delgaca01  2007      1  NYN  NL  139  538   71  139   30    0  24   87   \n",
        "89374   sosasa01  2007      1  TEX  AL  114  412   53  104   24    1  21   92   \n",
        "89371  stairma01  2007      1  TOR  AL  125  357   58  103   28    1  21   64   \n",
        "89396  ramirma02  2007      1  BOS  AL  133  483   84  143   33    1  20   88   \n",
        "89439   kentje01  2007      1  LAN  NL  136  494   78  149   36    1  20   79   \n",
        "...          ...   ...    ...  ...  ..  ...  ...  ...  ...  ...  ...  ..  ...   \n",
        "89429  loftoke01  2007      2  CLE  AL   52  173   24   49    9    3   0   15   \n",
        "89359  timlimi01  2007      1  BOS  AL    4    0    0    0    0    0   0    0   \n",
        "89431  loaizes01  2007      1  LAN  NL    5    7    0    1    0    0   0    2   \n",
        "89355  trachst01  2007      1  BAL  AL    3    5    0    0    0    0   0    0   \n",
        "89354  trachst01  2007      2  CHN  NL    4    7    0    1    0    0   0    0   \n",
        "89442  jonesto02  2007      1  DET  AL    5    0    0    0    0    0   0    0   \n",
        "89445  johnsra05  2007      1  ARI  NL   10   15    0    1    0    0   0    0   \n",
        "89450  hoffmtr01  2007      1  SDN  NL   60    0    0    0    0    0   0    0   \n",
        "89451  hernaro01  2007      2  LAN  NL   22    0    0    0    0    0   0    0   \n",
        "89534  alomasa02  2007      1  NYN  NL    8   22    1    3    1    0   0    0   \n",
        "\n",
        "       sb  cs   bb   so  ibb  hbp  sh  sf  gidp  \n",
        "id                                               \n",
        "89360   0   1   95  134   11    6   0   3    10  \n",
        "89462   6   1   85   99   14    1   0   9    14  \n",
        "89521   5   0  132   54   43    3   0   2    13  \n",
        "89361   0   0   81   94    3    7   0   5    14  \n",
        "89378  22   5   84   71    2    9   0   6    10  \n",
        "89489   4   0   52  118    8   11   0   6    12  \n",
        "89374   0   0   34  112    3    3   0   5    11  \n",
        "89371   2   1   44   66    5    2   0   2     7  \n",
        "89396   0   0   71   92   13    7   0   8    21  \n",
        "89439   1   3   57   61    4    5   0   6    17  \n",
        "...    ..  ..  ...  ...  ...  ...  ..  ..   ...  \n",
        "89429   2   3   17   23    0    0   4   2     1  \n",
        "89359   0   0    0    0    0    0   0   0     0  \n",
        "89431   0   0    0    2    0    0   2   0     1  \n",
        "89355   0   0    0    3    0    0   0   0     0  \n",
        "89354   0   0    0    1    0    0   0   0     0  \n",
        "89442   0   0    0    0    0    0   0   0     0  \n",
        "89445   0   0    1    7    0    0   2   0     0  \n",
        "89450   0   0    0    0    0    0   0   0     0  \n",
        "89451   0   0    0    0    0    0   0   0     0  \n",
        "89534   0   0    0    3    0    0   0   0     0  \n",
        "\n",
        "[100 rows x 22 columns]"
       ]
      }
     ],
     "prompt_number": 71
    },
    {
     "cell_type": "code",
     "collapsed": false,
     "input": [
      "stats = baseball[['h','X2b', 'X3b', 'hr']]"
     ],
     "language": "python",
     "metadata": {},
     "outputs": [],
     "prompt_number": 74
    },
    {
     "cell_type": "code",
     "collapsed": false,
     "input": [
      "baseball.ix[89360][\"player\"]\n",
      "stats = baseball[['h','X2b', 'X3b', 'hr']]\n",
      "diff = stats - stats.xs(89360)\n",
      "diff[:10]"
     ],
     "language": "python",
     "metadata": {},
     "outputs": [
      {
       "html": [
        "<div style=\"max-height:1000px;max-width:1500px;overflow:auto;\">\n",
        "<table border=\"1\" class=\"dataframe\">\n",
        "  <thead>\n",
        "    <tr style=\"text-align: right;\">\n",
        "      <th></th>\n",
        "      <th>h</th>\n",
        "      <th>X2b</th>\n",
        "      <th>X3b</th>\n",
        "      <th>hr</th>\n",
        "    </tr>\n",
        "    <tr>\n",
        "      <th>id</th>\n",
        "      <th></th>\n",
        "      <th></th>\n",
        "      <th></th>\n",
        "      <th></th>\n",
        "    </tr>\n",
        "  </thead>\n",
        "  <tbody>\n",
        "    <tr>\n",
        "      <th>88641</th>\n",
        "      <td>-105</td>\n",
        "      <td>-18</td>\n",
        "      <td>  0</td>\n",
        "      <td>-34</td>\n",
        "    </tr>\n",
        "    <tr>\n",
        "      <th>88643</th>\n",
        "      <td>-118</td>\n",
        "      <td>-19</td>\n",
        "      <td>  0</td>\n",
        "      <td>-35</td>\n",
        "    </tr>\n",
        "    <tr>\n",
        "      <th>88645</th>\n",
        "      <td>-119</td>\n",
        "      <td>-19</td>\n",
        "      <td>  0</td>\n",
        "      <td>-35</td>\n",
        "    </tr>\n",
        "    <tr>\n",
        "      <th>88649</th>\n",
        "      <td>-119</td>\n",
        "      <td>-19</td>\n",
        "      <td>  0</td>\n",
        "      <td>-35</td>\n",
        "    </tr>\n",
        "    <tr>\n",
        "      <th>88650</th>\n",
        "      <td>-118</td>\n",
        "      <td>-19</td>\n",
        "      <td>  0</td>\n",
        "      <td>-35</td>\n",
        "    </tr>\n",
        "    <tr>\n",
        "      <th>88652</th>\n",
        "      <td> -14</td>\n",
        "      <td>  2</td>\n",
        "      <td> 12</td>\n",
        "      <td>-29</td>\n",
        "    </tr>\n",
        "    <tr>\n",
        "      <th>88653</th>\n",
        "      <td>  40</td>\n",
        "      <td> 33</td>\n",
        "      <td>  2</td>\n",
        "      <td>-20</td>\n",
        "    </tr>\n",
        "    <tr>\n",
        "      <th>88662</th>\n",
        "      <td>-114</td>\n",
        "      <td>-18</td>\n",
        "      <td>  0</td>\n",
        "      <td>-35</td>\n",
        "    </tr>\n",
        "    <tr>\n",
        "      <th>89177</th>\n",
        "      <td>-109</td>\n",
        "      <td>-16</td>\n",
        "      <td>  0</td>\n",
        "      <td>-35</td>\n",
        "    </tr>\n",
        "    <tr>\n",
        "      <th>89178</th>\n",
        "      <td>-109</td>\n",
        "      <td>-19</td>\n",
        "      <td>  0</td>\n",
        "      <td>-34</td>\n",
        "    </tr>\n",
        "  </tbody>\n",
        "</table>\n",
        "</div>"
       ],
       "metadata": {},
       "output_type": "pyout",
       "prompt_number": 73,
       "text": [
        "         h  X2b  X3b  hr\n",
        "id                      \n",
        "88641 -105  -18    0 -34\n",
        "88643 -118  -19    0 -35\n",
        "88645 -119  -19    0 -35\n",
        "88649 -119  -19    0 -35\n",
        "88650 -118  -19    0 -35\n",
        "88652  -14    2   12 -29\n",
        "88653   40   33    2 -20\n",
        "88662 -114  -18    0 -35\n",
        "89177 -109  -16    0 -35\n",
        "89178 -109  -19    0 -34"
       ]
      }
     ],
     "prompt_number": 73
    },
    {
     "cell_type": "markdown",
     "metadata": {},
     "source": [
      "We can also apply functions to each column or row of a `DataFrame`"
     ]
    },
    {
     "cell_type": "markdown",
     "metadata": {},
     "source": [
      "![break](assets/voronoi.svg)"
     ]
    },
    {
     "cell_type": "heading",
     "level": 3,
     "metadata": {},
     "source": [
      "Classwork"
     ]
    },
    {
     "cell_type": "markdown",
     "metadata": {},
     "source": [
      "Lets use `apply` to calculate a meaningful baseball statistics, slugging percentage:\n",
      "\n",
      "$$SLG = \\frac{1B + (2 \\times 2B) + (3 \\times 3B) + (4 \\times HR)}{AB}$$"
     ]
    },
    {
     "cell_type": "code",
     "collapsed": false,
     "input": [],
     "language": "python",
     "metadata": {},
     "outputs": [],
     "prompt_number": 74
    },
    {
     "cell_type": "code",
     "collapsed": false,
     "input": [],
     "language": "python",
     "metadata": {},
     "outputs": []
    },
    {
     "cell_type": "markdown",
     "metadata": {},
     "source": [
      "And just for fun, we will format the resulting estimate. to have 3 decimals of precision, append another apply to your function, i.e.\n",
      "`.apply(lambda x: '%.3f' % x)`"
     ]
    },
    {
     "cell_type": "markdown",
     "metadata": {},
     "source": [
      "**Tip:** apply takes an 'axis' parameter which allows you to specify whether the application is row- or column-wise."
     ]
    },
    {
     "cell_type": "markdown",
     "metadata": {},
     "source": [
      "![break](assets/code.svg)"
     ]
    },
    {
     "cell_type": "heading",
     "level": 3,
     "metadata": {},
     "source": [
      "Sorting and Ranking"
     ]
    },
    {
     "cell_type": "markdown",
     "metadata": {},
     "source": [
      "Pandas objects include methods for re-ordering data.\n"
     ]
    },
    {
     "cell_type": "code",
     "collapsed": false,
     "input": [
      "baseball.apply?"
     ],
     "language": "python",
     "metadata": {},
     "outputs": []
    },
    {
     "cell_type": "code",
     "collapsed": false,
     "input": [
      "baseball_x.sort_index().head()"
     ],
     "language": "python",
     "metadata": {},
     "outputs": []
    },
    {
     "cell_type": "code",
     "collapsed": false,
     "input": [
      "baseball_x.sort_index(ascending=False).head()"
     ],
     "language": "python",
     "metadata": {},
     "outputs": []
    },
    {
     "cell_type": "code",
     "collapsed": false,
     "input": [
      "baseball_x.sort_index(axis=1).head(20)"
     ],
     "language": "python",
     "metadata": {},
     "outputs": []
    },
    {
     "cell_type": "markdown",
     "metadata": {},
     "source": [
      "We can also use `order` to sort a `Series` by value, rather than by label."
     ]
    },
    {
     "cell_type": "code",
     "collapsed": false,
     "input": [
      "baseball.hr.order(ascending=False)"
     ],
     "language": "python",
     "metadata": {},
     "outputs": []
    },
    {
     "cell_type": "markdown",
     "metadata": {},
     "source": [
      "For a `DataFrame`, we can sort according to the values of one or more columns using the `by` argument of `sort_index`:"
     ]
    },
    {
     "cell_type": "code",
     "collapsed": false,
     "input": [
      "baseball[['player','sb','cs']].sort_index(ascending=[False,True], by=['sb', 'cs']).head(10)"
     ],
     "language": "python",
     "metadata": {},
     "outputs": []
    },
    {
     "cell_type": "heading",
     "level": 4,
     "metadata": {},
     "source": [
      "Ranking"
     ]
    },
    {
     "cell_type": "markdown",
     "metadata": {},
     "source": [
      "**Ranking** does not re-arrange data, but instead returns an index that ranks each value relative to others in the Series."
     ]
    },
    {
     "cell_type": "code",
     "collapsed": false,
     "input": [
      "baseball.hr.rank()"
     ],
     "language": "python",
     "metadata": {},
     "outputs": []
    },
    {
     "cell_type": "markdown",
     "metadata": {},
     "source": [
      "Ties are assigned the mean value of the tied ranks, which may result in decimal values."
     ]
    },
    {
     "cell_type": "code",
     "collapsed": false,
     "input": [
      "pd.Series([100,100]).rank()"
     ],
     "language": "python",
     "metadata": {},
     "outputs": []
    },
    {
     "cell_type": "markdown",
     "metadata": {},
     "source": [
      "Alternatively, you can break ties via one of several methods, such as by the order in which they occur in the dataset:"
     ]
    },
    {
     "cell_type": "code",
     "collapsed": false,
     "input": [
      "baseball.hr.rank(method='first')"
     ],
     "language": "python",
     "metadata": {},
     "outputs": []
    },
    {
     "cell_type": "markdown",
     "metadata": {},
     "source": [
      "Calling the `DataFrame`'s `rank` method results in the ranks of all columns:"
     ]
    },
    {
     "cell_type": "code",
     "collapsed": false,
     "input": [
      "baseball.rank(ascending=False).head()"
     ],
     "language": "python",
     "metadata": {},
     "outputs": []
    },
    {
     "cell_type": "code",
     "collapsed": false,
     "input": [
      "baseball[['r','h','hr']].rank(ascending=False).head(20)"
     ],
     "language": "python",
     "metadata": {},
     "outputs": []
    },
    {
     "cell_type": "heading",
     "level": 3,
     "metadata": {},
     "source": [
      "Missing data"
     ]
    },
    {
     "cell_type": "markdown",
     "metadata": {},
     "source": [
      "The occurence of missing data is so prevalent that it pays to use tools like Pandas, which seamlessly integrates missing data handling so that it can be dealt with easily, and in the manner required by the analysis at hand.\n",
      "\n",
      "Missing data are represented in `Series` and `DataFrame` objects by the `NaN` floating point value. However, `None` is also treated as missing, since it is commonly used as such in other contexts (*e.g.* NumPy)."
     ]
    },
    {
     "cell_type": "code",
     "collapsed": false,
     "input": [
      "foo = pd.Series([np.nan, -3, None, 'foobar'])\n",
      "foo"
     ],
     "language": "python",
     "metadata": {},
     "outputs": []
    },
    {
     "cell_type": "code",
     "collapsed": false,
     "input": [
      "foo.isnull()"
     ],
     "language": "python",
     "metadata": {},
     "outputs": []
    },
    {
     "cell_type": "markdown",
     "metadata": {},
     "source": [
      "Missing values may be dropped or indexed out:"
     ]
    },
    {
     "cell_type": "code",
     "collapsed": false,
     "input": [
      "data = pd.DataFrame({'value':[632, 1638, 569, 115, None, 1130, 754, 555],\n",
      "                     'patient':[1, 1, np.nan, 1, 2, 2, 2, 2],\n",
      "                     'treatment' : [0,0,0,0,1,1,np.nan,np.nan],\n",
      "                     'phylum':['Firmicutes', 'Proteobacteria', 'Actinobacteria', \n",
      "    'Bacteroidetes', 'Firmicutes', 'Proteobacteria', 'Actinobacteria', 'Bacteroidetes']})\n",
      "data['year'] = 2013\n",
      "data"
     ],
     "language": "python",
     "metadata": {},
     "outputs": []
    },
    {
     "cell_type": "code",
     "collapsed": false,
     "input": [
      "data.dropna()"
     ],
     "language": "python",
     "metadata": {},
     "outputs": []
    },
    {
     "cell_type": "code",
     "collapsed": false,
     "input": [
      "data[data['patient'].notnull()]"
     ],
     "language": "python",
     "metadata": {},
     "outputs": []
    },
    {
     "cell_type": "markdown",
     "metadata": {},
     "source": [
      "By default, `dropna` drops entire rows in which one or more values are missing. This can be overridden by passing the `how='all'` argument, which only drops a row when every field is a missing value."
     ]
    },
    {
     "cell_type": "code",
     "collapsed": false,
     "input": [
      "data.dropna(how='all')"
     ],
     "language": "python",
     "metadata": {},
     "outputs": []
    },
    {
     "cell_type": "markdown",
     "metadata": {},
     "source": [
      "This can be customized further by specifying how many values need to be present before a row is dropped via the `thresh` argument."
     ]
    },
    {
     "cell_type": "code",
     "collapsed": false,
     "input": [
      "data.ix[7, 'year'] = np.nan\n",
      "data"
     ],
     "language": "python",
     "metadata": {},
     "outputs": []
    },
    {
     "cell_type": "code",
     "collapsed": false,
     "input": [
      "data.dropna(thresh=4)"
     ],
     "language": "python",
     "metadata": {},
     "outputs": []
    },
    {
     "cell_type": "markdown",
     "metadata": {},
     "source": [
      "This is typically used in time series applications, where there are repeated measurements that are incomplete for some subjects."
     ]
    },
    {
     "cell_type": "markdown",
     "metadata": {},
     "source": [
      "If we want to drop missing values column-wise instead of row-wise, we use `axis=1`."
     ]
    },
    {
     "cell_type": "code",
     "collapsed": false,
     "input": [
      "data.dropna(axis=1)"
     ],
     "language": "python",
     "metadata": {},
     "outputs": []
    },
    {
     "cell_type": "markdown",
     "metadata": {},
     "source": [
      "Rather than omitting missing data from an analysis, in some cases it may be suitable to fill the missing value in, either with a default value (such as zero) or a value that is either imputed or carried forward/backward from similar data points. We can do this programmatically in Pandas with the `fillna` argument."
     ]
    },
    {
     "cell_type": "code",
     "collapsed": false,
     "input": [
      "data.fillna(0)"
     ],
     "language": "python",
     "metadata": {},
     "outputs": []
    },
    {
     "cell_type": "code",
     "collapsed": false,
     "input": [
      "data.fillna({'patient': 0, 'year': 2013, 'treatment':2})"
     ],
     "language": "python",
     "metadata": {},
     "outputs": []
    },
    {
     "cell_type": "markdown",
     "metadata": {},
     "source": [
      "Notice that `fillna` by default returns a new object with the desired filling behavior, rather than changing the `Series` or  `DataFrame` in place (**in general, we like to do this, by the way!**)."
     ]
    },
    {
     "cell_type": "markdown",
     "metadata": {},
     "source": [
      "Missing values can also be interpolated, using any one of a variety of methods:"
     ]
    },
    {
     "cell_type": "code",
     "collapsed": false,
     "input": [
      "data['patient'] = data['patient'].fillna(method='bfill')\n",
      "data"
     ],
     "language": "python",
     "metadata": {},
     "outputs": []
    },
    {
     "cell_type": "code",
     "collapsed": false,
     "input": [
      "data['value'] = data['value'].fillna(data['value'].mean())\n",
      "data"
     ],
     "language": "python",
     "metadata": {},
     "outputs": []
    },
    {
     "cell_type": "heading",
     "level": 3,
     "metadata": {},
     "source": [
      "Merging and joining DataFrame objects"
     ]
    },
    {
     "cell_type": "markdown",
     "metadata": {},
     "source": [
      "In this section, we will manipulate data collected from ocean-going vessels on the eastern seaboard. Vessel operations are monitored using the Automatic Identification System (AIS), a safety at sea navigation technology which vessels are required to maintain and that uses transponders to transmit very high frequency (VHF) radio signals containing static information including ship name, call sign, and country of origin, as well as dynamic information unique to a particular voyage such as vessel location, heading, and speed. \n",
      "\n",
      "The International Maritime Organization\u2019s (IMO) International Convention for the Safety of Life at Sea requires functioning AIS capabilities on all vessels 300 gross tons or greater and the US Coast Guard requires AIS on nearly all vessels sailing in U.S. waters. The Coast Guard has established a national network of AIS receivers that provides coverage of nearly all U.S. waters. AIS signals are transmitted several times each minute and the network is capable of handling thousands of reports per minute and updates as often as every two seconds. Therefore, a typical voyage in our study might include the transmission of hundreds or thousands of AIS encoded signals. This provides a rich source of spatial data that includes both spatial and temporal information.\n",
      "\n",
      "For our purposes, we will use summarized data that describes the transit of a given vessel through a particular administrative area. The data includes the start and end time of the transit segment, as well as information about the speed of the vessel, how far it travelled, etc."
     ]
    },
    {
     "cell_type": "code",
     "collapsed": false,
     "input": [
      "!curl https://raw.githubusercontent.com/fonnesbeck/pytenn2014_tutorial/master/data/AIS/transit_segments.csv > ../data/transit_segments.csv\n",
      "segments = pd.read_csv(DATA_DIR + 'transit_segments.csv')"
     ],
     "language": "python",
     "metadata": {},
     "outputs": []
    },
    {
     "cell_type": "code",
     "collapsed": false,
     "input": [
      "segments.head()"
     ],
     "language": "python",
     "metadata": {},
     "outputs": []
    },
    {
     "cell_type": "markdown",
     "metadata": {},
     "source": [
      "In addition to the behavior of each vessel, we may want a little more information regarding the vessels themselves. In the `data/AIS` folder there is a second table that contains information about each of the ships that traveled the segments in the `segments` table."
     ]
    },
    {
     "cell_type": "code",
     "collapsed": false,
     "input": [
      "!curl https://raw.githubusercontent.com/fonnesbeck/pytenn2014_tutorial/master/data/AIS/vessel_information.csv > ../data/vessel_information.csv\n",
      "vessels = pd.read_csv(DATA_DIR + \"vessel_information.csv\", index_col='mmsi')\n"
     ],
     "language": "python",
     "metadata": {},
     "outputs": []
    },
    {
     "cell_type": "code",
     "collapsed": false,
     "input": [
      "vessels.head()"
     ],
     "language": "python",
     "metadata": {},
     "outputs": []
    },
    {
     "cell_type": "code",
     "collapsed": false,
     "input": [
      "vessels.type.value_counts()"
     ],
     "language": "python",
     "metadata": {},
     "outputs": []
    },
    {
     "cell_type": "markdown",
     "metadata": {},
     "source": [
      "The challenge, however, is that several ships have travelled multiple segments, so there is not a one-to-one relationship between the rows of the two tables. The table of vessel information has a *one-to-many* relationship with the segments.\n",
      "\n",
      "In Pandas, we can combine tables according to the value of one or more *keys* that are used to identify rows, much like an index. Using a trivial example:"
     ]
    },
    {
     "cell_type": "code",
     "collapsed": false,
     "input": [
      "df1 = pd.DataFrame(dict(id=range(4), age=np.random.randint(18, 31, size=4)))\n",
      "df2 = pd.DataFrame(dict(id=range(3)+range(3), score=np.random.random(size=6)))"
     ],
     "language": "python",
     "metadata": {},
     "outputs": []
    },
    {
     "cell_type": "code",
     "collapsed": false,
     "input": [
      "print df1.describe()\n",
      "print df2.describe()"
     ],
     "language": "python",
     "metadata": {},
     "outputs": []
    },
    {
     "cell_type": "code",
     "collapsed": false,
     "input": [
      "pd.merge(df1, df2)"
     ],
     "language": "python",
     "metadata": {},
     "outputs": []
    },
    {
     "cell_type": "markdown",
     "metadata": {},
     "source": [
      "Notice that without any information about which column to use as a key, Pandas did the right thing and used the `id` column in both tables. Unless specified otherwise, `merge` will used any common column names as keys for merging the tables. \n",
      "\n",
      "Notice also that `id=3` from `df1` was omitted from the merged table. This is because, by default, `merge` performs an **inner join** on the tables, meaning that the merged table represents an intersection of the two tables."
     ]
    },
    {
     "cell_type": "code",
     "collapsed": false,
     "input": [
      "pd.merge?\n",
      "pd.merge(df1, df2, how='outer')\n"
     ],
     "language": "python",
     "metadata": {},
     "outputs": []
    },
    {
     "cell_type": "markdown",
     "metadata": {},
     "source": [
      "The **outer join** above yields the union of the two tables, so all rows are represented, with missing values inserted as appropriate. One can also perform **right** and **left** joins to include all rows of the right or left table (*i.e.* first or second argument to `merge`), but not necessarily the other.\n",
      "\n",
      "Looking at the two datasets that we wish to merge:"
     ]
    },
    {
     "cell_type": "code",
     "collapsed": false,
     "input": [
      "segments.head(1)"
     ],
     "language": "python",
     "metadata": {},
     "outputs": []
    },
    {
     "cell_type": "code",
     "collapsed": false,
     "input": [
      "vessels.head(1)"
     ],
     "language": "python",
     "metadata": {},
     "outputs": []
    },
    {
     "cell_type": "markdown",
     "metadata": {},
     "source": [
      "we see that there is a `mmsi` value (a vessel identifier) in each table, but it is used as an index for the `vessels` table. In this case, we have to specify to join on the index for this table, and on the `mmsi` column for the other."
     ]
    },
    {
     "cell_type": "code",
     "collapsed": false,
     "input": [
      "segments_m = pd.merge(vessels, segments, left_index=True, right_on='mmsi')\n",
      "segments_m"
     ],
     "language": "python",
     "metadata": {},
     "outputs": []
    },
    {
     "cell_type": "code",
     "collapsed": false,
     "input": [
      "segments_m.head()"
     ],
     "language": "python",
     "metadata": {},
     "outputs": []
    },
    {
     "cell_type": "markdown",
     "metadata": {},
     "source": [
      "In this case, the default inner join is suitable; we are not interested in observations from either table that do not have corresponding entries in the other. \n",
      "\n",
      "Notice that `mmsi` field that was an index on the `vessels` table is no longer an index on the merged table.\n",
      "\n",
      "Here, we used the `merge` function to perform the merge; we could also have used the `merge` method for either of the tables:"
     ]
    },
    {
     "cell_type": "code",
     "collapsed": false,
     "input": [
      "vessels.merge(segments, left_index=True, right_on='mmsi').head()"
     ],
     "language": "python",
     "metadata": {},
     "outputs": []
    },
    {
     "cell_type": "markdown",
     "metadata": {},
     "source": [
      "Occasionally, there will be fields with the same in both tables that we do not wish to use to join the tables; they may contain different information, despite having the same name. In this case, Pandas will by default append suffixes `_x` and `_y` to the columns to uniquely identify them."
     ]
    },
    {
     "cell_type": "code",
     "collapsed": false,
     "input": [
      "segments['type'] = 'foo'\n",
      "pd.merge(vessels, segments, left_index=True, right_on='mmsi').head()"
     ],
     "language": "python",
     "metadata": {},
     "outputs": []
    },
    {
     "cell_type": "markdown",
     "metadata": {},
     "source": [
      "This behavior can be overridden by specifying a `suffixes` argument, containing a list of the suffixes to be used for the columns of the left and right columns, respectively."
     ]
    },
    {
     "cell_type": "heading",
     "level": 3,
     "metadata": {},
     "source": [
      "Concatenation"
     ]
    },
    {
     "cell_type": "markdown",
     "metadata": {},
     "source": [
      "A common data manipulation is appending rows or columns to a dataset that already conform to the dimensions of the exsiting rows or colums, respectively. In NumPy, this is done either with concatenate or the convenience functions c_ and r_:"
     ]
    },
    {
     "cell_type": "code",
     "collapsed": false,
     "input": [
      "np.concatenate([np.random.random(5), np.random.random(5)])"
     ],
     "language": "python",
     "metadata": {},
     "outputs": []
    },
    {
     "cell_type": "code",
     "collapsed": false,
     "input": [
      "np.r_[np.random.random(5), np.random.random(5)]"
     ],
     "language": "python",
     "metadata": {},
     "outputs": []
    },
    {
     "cell_type": "code",
     "collapsed": false,
     "input": [
      "np.c_[np.random.random(5), np.random.random(5)]"
     ],
     "language": "python",
     "metadata": {},
     "outputs": []
    },
    {
     "cell_type": "markdown",
     "metadata": {},
     "source": [
      "This operation is also called **binding** or **stacking**.\n",
      "\n",
      "With Pandas' indexed data structures, there are additional considerations as the overlap in index values between two data structures affects how they are concatenate.\n",
      "\n",
      "Lets import two microbiome datasets, each consisting of counts of microorganiams from a particular patient. We will use the first column of each dataset as the index."
     ]
    },
    {
     "cell_type": "code",
     "collapsed": false,
     "input": [
      "!curl https://raw.githubusercontent.com/fonnesbeck/pytenn2014_tutorial/master/data/microbiome/MID1.xls > ../data/MID1.xls\n",
      "mb1 = pd.read_excel(DATA_DIR + 'MID1.xls', 'Sheet 1', index_col=0, header=None)"
     ],
     "language": "python",
     "metadata": {},
     "outputs": []
    },
    {
     "cell_type": "code",
     "collapsed": false,
     "input": [
      "!curl https://raw.githubusercontent.com/fonnesbeck/pytenn2014_tutorial/master/data/microbiome/MID2.xls > ../data/MID2.xls\n",
      "mb2 = pd.read_excel(DATA_DIR + 'MID2.xls', 'Sheet 1', index_col=0, header=None)"
     ],
     "language": "python",
     "metadata": {},
     "outputs": []
    },
    {
     "cell_type": "code",
     "collapsed": false,
     "input": [
      "mb1.shape, mb2.shape"
     ],
     "language": "python",
     "metadata": {},
     "outputs": []
    },
    {
     "cell_type": "code",
     "collapsed": false,
     "input": [
      "mb1.head()"
     ],
     "language": "python",
     "metadata": {},
     "outputs": []
    },
    {
     "cell_type": "code",
     "collapsed": false,
     "input": [
      "mb1.columns = mb2.columns = ['Count']"
     ],
     "language": "python",
     "metadata": {},
     "outputs": []
    },
    {
     "cell_type": "code",
     "collapsed": false,
     "input": [
      "mb1.index.name = mb2.index.name = 'Taxon'"
     ],
     "language": "python",
     "metadata": {},
     "outputs": []
    },
    {
     "cell_type": "code",
     "collapsed": false,
     "input": [
      "mb1.head()\n"
     ],
     "language": "python",
     "metadata": {},
     "outputs": []
    },
    {
     "cell_type": "markdown",
     "metadata": {},
     "source": [
      "The index of these data is the unique biological classification of each organism, beginning with domain, phylum, class, and for some organisms, going all the way down to the genus level."
     ]
    },
    {
     "cell_type": "markdown",
     "metadata": {},
     "source": [
      "![](http://4.bp.blogspot.com/-mxgTyt7mjqk/T727bsIiomI/AAAAAAAAAKU/Z89lPUkhPfU/s1600/200px-Biological_classification_L_Pengo_vflip.svg.png)"
     ]
    },
    {
     "cell_type": "code",
     "collapsed": false,
     "input": [
      "mb1.index[:3]"
     ],
     "language": "python",
     "metadata": {},
     "outputs": []
    },
    {
     "cell_type": "code",
     "collapsed": false,
     "input": [
      "mb1.index.is_unique"
     ],
     "language": "python",
     "metadata": {},
     "outputs": []
    },
    {
     "cell_type": "code",
     "collapsed": false,
     "input": [
      "pd.concat([mb1, mb2], axis=0).shape"
     ],
     "language": "python",
     "metadata": {},
     "outputs": []
    },
    {
     "cell_type": "markdown",
     "metadata": {},
     "source": [
      "However, the index is no longer unique, due to overlap between the two DataFrames."
     ]
    },
    {
     "cell_type": "code",
     "collapsed": false,
     "input": [
      "pd.concat([mb1, mb2], axis=0).index.is_unique"
     ],
     "language": "python",
     "metadata": {},
     "outputs": []
    },
    {
     "cell_type": "code",
     "collapsed": false,
     "input": [
      "pd.concat([mb1, mb2], axis=1).shape"
     ],
     "language": "python",
     "metadata": {},
     "outputs": []
    },
    {
     "cell_type": "code",
     "collapsed": false,
     "input": [
      "pd.concat([mb1, mb2], axis=1).head()"
     ],
     "language": "python",
     "metadata": {},
     "outputs": []
    },
    {
     "cell_type": "code",
     "collapsed": false,
     "input": [
      "pd.concat([mb1, mb2], axis=1).values[:5]"
     ],
     "language": "python",
     "metadata": {},
     "outputs": []
    },
    {
     "cell_type": "markdown",
     "metadata": {},
     "source": [
      "If we are only interested in taxa that are included in both DataFrames, we can specify a join=inner argument."
     ]
    },
    {
     "cell_type": "code",
     "collapsed": false,
     "input": [
      "pd.concat([mb1, mb2], axis=1, join='inner').head()"
     ],
     "language": "python",
     "metadata": {},
     "outputs": []
    },
    {
     "cell_type": "code",
     "collapsed": false,
     "input": [
      "mb1.combine_first(mb2).head()"
     ],
     "language": "python",
     "metadata": {},
     "outputs": []
    },
    {
     "cell_type": "markdown",
     "metadata": {},
     "source": [
      "Alternatively, you can pass keys to the concatenation by supplying the DataFrames (or Series) as a dict."
     ]
    },
    {
     "cell_type": "code",
     "collapsed": false,
     "input": [
      "pd.concat(dict(patient1=mb1, patient2=mb2), axis=1).head()"
     ],
     "language": "python",
     "metadata": {},
     "outputs": []
    },
    {
     "cell_type": "markdown",
     "metadata": {},
     "source": [
      "If you want concat to work like numpy.concatanate, you may provide the ignore_index=True argument."
     ]
    },
    {
     "cell_type": "heading",
     "level": 3,
     "metadata": {},
     "source": [
      "Reshaping DataFrame objects"
     ]
    },
    {
     "cell_type": "markdown",
     "metadata": {},
     "source": [
      "In the context of a single DataFrame, we are often interested in re-arranging the layout of our data. \n",
      "\n",
      "This dataset in from Table 6.9 of [Statistical Methods for the Analysis of Repeated Measurements](http://www.amazon.com/Statistical-Methods-Analysis-Repeated-Measurements/dp/0387953701) by Charles S. Davis, pp. 161-163 (Springer, 2002). These data are from a multicenter, randomized controlled trial of botulinum toxin type B (BotB) in patients with cervical dystonia from nine U.S. sites.\n",
      "\n",
      "* Randomized to placebo (N=36), 5000 units of BotB (N=36), 10,000 units of BotB (N=37)\n",
      "* Response variable: total score on Toronto Western Spasmodic Torticollis Rating Scale (TWSTRS), measuring severity, pain, and disability of cervical dystonia (high scores mean more impairment)\n",
      "* TWSTRS measured at baseline (week 0) and weeks 2, 4, 8, 12, 16 after treatment began"
     ]
    },
    {
     "cell_type": "code",
     "collapsed": false,
     "input": [
      "!curl https://raw.githubusercontent.com/fonnesbeck/pytenn2014_tutorial/master/data/cdystonia.csv > ../data/cdystonia.csv\n",
      "cdystonia = pd.read_csv(\"../data/cdystonia.csv\", index_col=None)"
     ],
     "language": "python",
     "metadata": {},
     "outputs": []
    },
    {
     "cell_type": "code",
     "collapsed": false,
     "input": [
      "cdystonia.head()"
     ],
     "language": "python",
     "metadata": {},
     "outputs": []
    },
    {
     "cell_type": "markdown",
     "metadata": {},
     "source": [
      "This dataset includes repeated measurements of the same individuals (longitudinal data). Its possible to present such information in (at least) two ways: showing each repeated measurement in their own row, or in multiple columns representing mutliple measurements.\n",
      "\n",
      "The `stack` method rotates the data frame so that columns are represented in rows:"
     ]
    },
    {
     "cell_type": "code",
     "collapsed": false,
     "input": [
      "stacked = cdystonia.stack()\n",
      "stacked"
     ],
     "language": "python",
     "metadata": {},
     "outputs": []
    },
    {
     "cell_type": "markdown",
     "metadata": {},
     "source": [
      "To complement this, `unstack` pivots from rows back to columns."
     ]
    },
    {
     "cell_type": "code",
     "collapsed": false,
     "input": [
      "stacked.unstack().head()"
     ],
     "language": "python",
     "metadata": {},
     "outputs": []
    },
    {
     "cell_type": "markdown",
     "metadata": {},
     "source": [
      "For this dataset, it makes sense to create a hierarchical index based on the patient and observation:"
     ]
    },
    {
     "cell_type": "code",
     "collapsed": false,
     "input": [
      "cdystonia2 = cdystonia.set_index(['patient','obs'])\n",
      "cdystonia2.head()"
     ],
     "language": "python",
     "metadata": {},
     "outputs": []
    },
    {
     "cell_type": "code",
     "collapsed": false,
     "input": [
      "cdystonia2.index.is_unique"
     ],
     "language": "python",
     "metadata": {},
     "outputs": []
    },
    {
     "cell_type": "markdown",
     "metadata": {},
     "source": [
      "If we want to transform this data so that repeated measurements are in columns, we can `unstack` the `twstrs` measurements according to `obs`."
     ]
    },
    {
     "cell_type": "code",
     "collapsed": false,
     "input": [
      "twstrs_wide = cdystonia2['twstrs'].unstack('obs')\n",
      "twstrs_wide.head()"
     ],
     "language": "python",
     "metadata": {},
     "outputs": []
    },
    {
     "cell_type": "code",
     "collapsed": false,
     "input": [
      "cdystonia_long = cdystonia[['patient','site','id','treat','age','sex']].drop_duplicates().merge(\n",
      "                    twstrs_wide, right_index=True, left_on='patient', how='inner').head()\n",
      "cdystonia_long"
     ],
     "language": "python",
     "metadata": {},
     "outputs": []
    },
    {
     "cell_type": "markdown",
     "metadata": {},
     "source": [
      "A slightly cleaner way of doing this is to set the patient-level information as an index before unstacking:"
     ]
    },
    {
     "cell_type": "code",
     "collapsed": false,
     "input": [
      "cdystonia.set_index(['patient','site','id','treat','age','sex','week'])['twstrs'].unstack('week').head()"
     ],
     "language": "python",
     "metadata": {},
     "outputs": []
    },
    {
     "cell_type": "markdown",
     "metadata": {},
     "source": [
      "To convert our \"wide\" format back to long, we can use the `melt` function, appropriately parameterized:"
     ]
    },
    {
     "cell_type": "code",
     "collapsed": false,
     "input": [
      "pd.melt(cdystonia_long, id_vars=['patient','site','id','treat','age','sex'], \n",
      "        var_name='obs', value_name='twsters').head()"
     ],
     "language": "python",
     "metadata": {},
     "outputs": []
    },
    {
     "cell_type": "markdown",
     "metadata": {},
     "source": [
      "This illustrates the two formats for longitudinal data: **long** and **wide** formats. Its typically better to store data in long format because additional data can be included as additional rows in the database, while wide format requires that the entire database schema be altered by adding columns to every row as data are collected.\n",
      "\n",
      "The preferable format for analysis depends entirely on what is planned for the data, so it is imporant to be able to move easily between them."
     ]
    },
    {
     "cell_type": "heading",
     "level": 3,
     "metadata": {},
     "source": [
      "Data transformation"
     ]
    },
    {
     "cell_type": "markdown",
     "metadata": {},
     "source": [
      "There are a slew of additional operations for DataFrames that we would collectively refer to as \"transformations\" that include tasks such as removing duplicate values, replacing values, and grouping values."
     ]
    },
    {
     "cell_type": "heading",
     "level": 4,
     "metadata": {},
     "source": [
      "Dealing with duplicates"
     ]
    },
    {
     "cell_type": "markdown",
     "metadata": {},
     "source": [
      "We can easily identify and remove duplicate values from `DataFrame` objects. For example, say we want to removed ships from our `vessels` dataset that have the same name:"
     ]
    },
    {
     "cell_type": "code",
     "collapsed": false,
     "input": [
      "vessels.duplicated(cols='names')"
     ],
     "language": "python",
     "metadata": {},
     "outputs": []
    },
    {
     "cell_type": "code",
     "collapsed": false,
     "input": [
      "vessels.drop_duplicates(['names'])"
     ],
     "language": "python",
     "metadata": {},
     "outputs": []
    },
    {
     "cell_type": "heading",
     "level": 4,
     "metadata": {},
     "source": [
      "Value Replacement"
     ]
    },
    {
     "cell_type": "markdown",
     "metadata": {},
     "source": [
      "Frequently, we get data columns that are encoded as strings that we wish to represent numerically for the purposes of including it in a quantitative analysis. For example, consider the treatment variable in the cervical dystonia dataset:"
     ]
    },
    {
     "cell_type": "code",
     "collapsed": false,
     "input": [
      "cdystonia.treat.value_counts()"
     ],
     "language": "python",
     "metadata": {},
     "outputs": []
    },
    {
     "cell_type": "markdown",
     "metadata": {},
     "source": [
      "A logical way to specify these numerically is to change them to integer values, perhaps using \"Placebo\" as a baseline value. If we create a dict with the original values as keys and the replacements as values, we can pass it to the `map` method to implement the changes."
     ]
    },
    {
     "cell_type": "code",
     "collapsed": false,
     "input": [
      "treatment_map = {'Placebo': 0, '5000U': 1, '10000U': 2}"
     ],
     "language": "python",
     "metadata": {},
     "outputs": []
    },
    {
     "cell_type": "code",
     "collapsed": false,
     "input": [
      "cdystonia['treatment'] = cdystonia.treat.map(treatment_map)\n",
      "cdystonia.treatment"
     ],
     "language": "python",
     "metadata": {},
     "outputs": []
    },
    {
     "cell_type": "markdown",
     "metadata": {},
     "source": [
      "Alternately, if we simply want to replace particular values in a `Series` or `DataFrame`, we can use the `replace` method. "
     ]
    },
    {
     "cell_type": "code",
     "collapsed": false,
     "input": [
      "cdystonia2.treat.replace({'Placebo': 0, '5000U': 1, '10000U': 2})"
     ],
     "language": "python",
     "metadata": {},
     "outputs": []
    },
    {
     "cell_type": "heading",
     "level": 3,
     "metadata": {},
     "source": [
      "Data aggregation and GroupBy operations"
     ]
    },
    {
     "cell_type": "markdown",
     "metadata": {},
     "source": [
      "For aggregation tasks, the `groupby` function is the most useful method in pandas. When performing a `groupby` operation, we may different goals:\n",
      "\n",
      "* Perform an **aggregation**, like computing the sum of mean of each group. Functionally this means applying a function to each group and putting the aggregated results into a DataFrame\n",
      "* **Slicing** the DataFrame into chunks (groups) and then doing something with the slices\n",
      "* Performing a **transformation**, like standardizing each group (computing the zscore)"
     ]
    },
    {
     "cell_type": "markdown",
     "metadata": {},
     "source": [
      "So there are two tasks: first, grouping the data; second, doing something with the grouped data. As far as grouping\n"
     ]
    },
    {
     "cell_type": "code",
     "collapsed": false,
     "input": [
      "cdystonia_grouped = cdystonia.groupby(cdystonia.patient)\n",
      "cdystonia_grouped"
     ],
     "language": "python",
     "metadata": {},
     "outputs": []
    },
    {
     "cell_type": "markdown",
     "metadata": {},
     "source": [
      "This returns an object of type GroupBy - making it hard to visualise. However, the grouping is only an intermediate step; for example, we may want to **iterate** over each of the patient groups:With this object. You can do a lot of things including: **iteration**, **aggregation**, or **transformation**. So we could iterate like so:"
     ]
    },
    {
     "cell_type": "heading",
     "level": 4,
     "metadata": {},
     "source": [
      "Iteration"
     ]
    },
    {
     "cell_type": "code",
     "collapsed": false,
     "input": [
      "for patient, group in cdystonia_grouped:\n",
      "    print patient\n",
      "    print group\n",
      "    print"
     ],
     "language": "python",
     "metadata": {},
     "outputs": []
    },
    {
     "cell_type": "markdown",
     "metadata": {},
     "source": [
      "A common data analysis procedure is the **split-apply-combine** operation, which groups subsets of data together, applies a function to each of the groups, then recombines them into a new data table.\n",
      "\n",
      "For example, we may want to aggregate our data with with some function.\n",
      "\n",
      "![split-apply-combine](http://f.cl.ly/items/0s0Z252j0X0c3k3P1M47/Screen%20Shot%202013-06-02%20at%203.04.04%20PM.png)\n",
      "\n",
      "<div align=\"right\">*(Source: \"Python for Data Analysis\", p.251)*</div>"
     ]
    },
    {
     "cell_type": "heading",
     "level": 4,
     "metadata": {},
     "source": [
      "Aggregation"
     ]
    },
    {
     "cell_type": "markdown",
     "metadata": {},
     "source": [
      "We can aggregate in Pandas using the `aggregate` (or `agg`, for short) method:mm"
     ]
    },
    {
     "cell_type": "code",
     "collapsed": false,
     "input": [
      "cdystonia_grouped.agg(np.mean).head()"
     ],
     "language": "python",
     "metadata": {},
     "outputs": []
    },
    {
     "cell_type": "markdown",
     "metadata": {},
     "source": [
      "Notice that the `treat` and `sex` variables are not included in the aggregation. Since it does not make sense to aggregate non-string variables, these columns are simply ignored by the method.\n",
      "\n",
      "Some aggregation functions are so common that Pandas has a convenience method for them, such as `mean`:"
     ]
    },
    {
     "cell_type": "code",
     "collapsed": false,
     "input": [
      "cdystonia_grouped.mean().head()"
     ],
     "language": "python",
     "metadata": {},
     "outputs": []
    },
    {
     "cell_type": "markdown",
     "metadata": {},
     "source": [
      "The `add_prefix` and `add_suffix` methods can be used to give the columns of the resulting table labels that reflect the transformation:"
     ]
    },
    {
     "cell_type": "code",
     "collapsed": false,
     "input": [
      "cdystonia_grouped.mean().add_suffix('_mean').head()"
     ],
     "language": "python",
     "metadata": {},
     "outputs": []
    },
    {
     "cell_type": "code",
     "collapsed": false,
     "input": [
      "# The median of the `twstrs` variable\n",
      "cdystonia_grouped['twstrs'].quantile(0.5)"
     ],
     "language": "python",
     "metadata": {},
     "outputs": []
    },
    {
     "cell_type": "markdown",
     "metadata": {},
     "source": [
      "If we wish, we can easily aggregate according to multiple keys:"
     ]
    },
    {
     "cell_type": "code",
     "collapsed": false,
     "input": [
      "cdystonia.groupby(['week','site']).mean().head()"
     ],
     "language": "python",
     "metadata": {},
     "outputs": []
    },
    {
     "cell_type": "heading",
     "level": 4,
     "metadata": {},
     "source": [
      "Transform"
     ]
    },
    {
     "cell_type": "markdown",
     "metadata": {},
     "source": [
      "Alternately, we can **transform** the data, using a function of our choice with the `transform` method:"
     ]
    },
    {
     "cell_type": "code",
     "collapsed": false,
     "input": [
      "normalize = lambda x: (x - x.mean())/x.std()\n",
      "\n",
      "cdystonia_grouped.transform(normalize).head()"
     ],
     "language": "python",
     "metadata": {},
     "outputs": []
    },
    {
     "cell_type": "markdown",
     "metadata": {},
     "source": [
      "It is easy to do column selection within `groupby` operations, if we are only interested split-apply-combine operations on a subset of columns:"
     ]
    },
    {
     "cell_type": "code",
     "collapsed": false,
     "input": [
      "cdystonia_grouped['twstrs'].mean().head()"
     ],
     "language": "python",
     "metadata": {},
     "outputs": []
    },
    {
     "cell_type": "markdown",
     "metadata": {},
     "source": [
      "If you simply want to divide your DataFrame into chunks for later use, its easy to convert them into a dict so that they can be easily indexed out as needed:"
     ]
    },
    {
     "cell_type": "code",
     "collapsed": false,
     "input": [
      "chunks = dict(list(cdystonia_grouped))\n",
      "chunks[4]"
     ],
     "language": "python",
     "metadata": {},
     "outputs": []
    },
    {
     "cell_type": "markdown",
     "metadata": {},
     "source": [
      "By default, `groupby` groups by row, but we can specify the `axis` argument to change this. For example, we can group our columns by type this way:"
     ]
    },
    {
     "cell_type": "code",
     "collapsed": false,
     "input": [
      "dict(list(cdystonia.groupby(cdystonia.dtypes, axis=1)))"
     ],
     "language": "python",
     "metadata": {},
     "outputs": []
    },
    {
     "cell_type": "heading",
     "level": 4,
     "metadata": {},
     "source": [
      "Apply"
     ]
    },
    {
     "cell_type": "markdown",
     "metadata": {},
     "source": [
      "We can generalize the split-apply-combine methodology by using `apply` function. This allows us to invoke any function we wish on a grouped dataset and recombine them into a DataFrame.\n",
      "\n",
      "The function below takes a DataFrame and a column name, sorts by the column, and takes the `n` largest values of that column. We can use this with `apply` to return the largest values from every group in a DataFrame in a single call. "
     ]
    },
    {
     "cell_type": "code",
     "collapsed": false,
     "input": [
      "def top(df, column, n=5):\n",
      "    return df.sort_index(by=column, ascending=False)[:n]"
     ],
     "language": "python",
     "metadata": {},
     "outputs": []
    },
    {
     "cell_type": "markdown",
     "metadata": {},
     "source": [
      "To see this in action, consider the vessel transit segments dataset (which we merged with the vessel information to yield `segments_merged`). Say we wanted to return the 3 longest segments travelled by each ship:"
     ]
    },
    {
     "cell_type": "code",
     "collapsed": false,
     "input": [
      "# This one is a little slow\n",
      "top3segments = segments_m.groupby('mmsi').apply(top, column='seg_length', n=3)[['names', 'seg_length']]\n",
      "top3segments"
     ],
     "language": "python",
     "metadata": {},
     "outputs": []
    },
    {
     "cell_type": "markdown",
     "metadata": {},
     "source": [
      "Notice that additional arguments for the applied function can be passed via `apply` after the function name. It assumes that the DataFrame is the first argument."
     ]
    },
    {
     "cell_type": "code",
     "collapsed": false,
     "input": [
      "top3segments.head(20)"
     ],
     "language": "python",
     "metadata": {},
     "outputs": []
    },
    {
     "cell_type": "markdown",
     "metadata": {},
     "source": [
      "![break](assets/resources.svg)"
     ]
    },
    {
     "cell_type": "markdown",
     "metadata": {},
     "source": [
      "This section is based off of the following resources \n",
      "* [Group By: split-apply-combine](http://pandas.pydata.org/pandas-docs/version/0.13.1/groupby.html)\n",
      "* [GroupBy-fu: improvements in grouping and aggregating data in pandas](http://wesmckinney.com/blog/?p=125)\n",
      "* [Data Wrangling with Pandas](http://nbviewer.ipython.org/urls/gist.github.com/fonnesbeck/5850413/raw/3a9406c73365480bc58d5e75bc80f7962243ba17/2.+Data+Wrangling+with+Pandas.ipynb)\n",
      "\n"
     ]
    }
   ],
   "metadata": {}
  }
 ]
}