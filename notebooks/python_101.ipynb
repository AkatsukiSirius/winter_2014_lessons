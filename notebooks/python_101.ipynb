{
 "metadata": {
  "name": "",
  "signature": "sha256:6207205eff6de5aa0c32377f29c9d134ff3a6d795819ce04917ccdc4e816694c"
 },
 "nbformat": 3,
 "nbformat_minor": 0,
 "worksheets": [
  {
   "cells": [
    {
     "cell_type": "markdown",
     "metadata": {},
     "source": [
      "# Types and Assignment\n",
      "\n",
      "The most basic data structure is the None type. This is the equivalent of NULL in other languages.\n",
      "\n",
      "There are four numeric types: \n",
      "> **int**, **float**, **bool**, **complex**."
     ]
    },
    {
     "cell_type": "code",
     "collapsed": false,
     "input": [
      "None is None"
     ],
     "language": "python",
     "metadata": {},
     "outputs": [
      {
       "metadata": {},
       "output_type": "pyout",
       "prompt_number": 13,
       "text": [
        "True"
       ]
      }
     ],
     "prompt_number": 13
    },
    {
     "cell_type": "markdown",
     "metadata": {
      "slideshow": {
       "slide_type": "slide"
      }
     },
     "source": [
      "#### Numeric Types"
     ]
    },
    {
     "cell_type": "code",
     "collapsed": false,
     "input": [
      "print type(1)\n",
      "print type(2.5)\n",
      "print type(True)\n",
      "print type(2+3j)"
     ],
     "language": "python",
     "metadata": {},
     "outputs": [
      {
       "output_type": "stream",
       "stream": "stdout",
       "text": [
        "<type 'int'>\n",
        "<type 'float'>\n",
        "<type 'bool'>\n",
        "<type 'complex'>\n"
       ]
      }
     ],
     "prompt_number": 68
    },
    {
     "cell_type": "markdown",
     "metadata": {
      "slideshow": {
       "slide_type": "slide"
      }
     },
     "source": [
      "#### Lists"
     ]
    },
    {
     "cell_type": "markdown",
     "metadata": {},
     "source": [
      "The next basic data type is the Python list.\n",
      "\n",
      "> A list is an ordered collection of elements, and these elements can be of arbitrary type. Lists are mutable, meaning they can be changed in-place."
     ]
    },
    {
     "cell_type": "code",
     "collapsed": false,
     "input": [
      "k = [1, 'b', True]\n",
      "print k[2]\n",
      "\n",
      "k[1] = 'a'\n",
      "print k"
     ],
     "language": "python",
     "metadata": {},
     "outputs": [
      {
       "output_type": "stream",
       "stream": "stdout",
       "text": [
        "True\n",
        "[1, 'a', True]\n"
       ]
      }
     ],
     "prompt_number": 47
    },
    {
     "cell_type": "markdown",
     "metadata": {
      "slideshow": {
       "slide_type": "slide"
      }
     },
     "source": [
      "#### Tuples"
     ]
    },
    {
     "cell_type": "markdown",
     "metadata": {},
     "source": [
      "> tuples are immutable arrays of arbitrary elements."
     ]
    },
    {
     "cell_type": "code",
     "collapsed": false,
     "input": [
      "x = (1, 'a', 2.5)\n",
      "print x\n",
      "\n",
      "print x[0]\n",
      "x[1] = 'b'"
     ],
     "language": "python",
     "metadata": {},
     "outputs": [
      {
       "output_type": "stream",
       "stream": "stdout",
       "text": [
        "(1, 'a', 2.5)\n",
        "1\n"
       ]
      },
      {
       "ename": "TypeError",
       "evalue": "'tuple' object does not support item assignment",
       "output_type": "pyerr",
       "traceback": [
        "\u001b[0;31m---------------------------------------------------------------------------\u001b[0m\n\u001b[0;31mTypeError\u001b[0m                                 Traceback (most recent call last)",
        "\u001b[0;32m<ipython-input-4-73405f0c691c>\u001b[0m in \u001b[0;36m<module>\u001b[0;34m()\u001b[0m\n\u001b[1;32m      3\u001b[0m \u001b[0;34m\u001b[0m\u001b[0m\n\u001b[1;32m      4\u001b[0m \u001b[0;32mprint\u001b[0m \u001b[0mx\u001b[0m\u001b[0;34m[\u001b[0m\u001b[0;36m0\u001b[0m\u001b[0;34m]\u001b[0m\u001b[0;34m\u001b[0m\u001b[0m\n\u001b[0;32m----> 5\u001b[0;31m \u001b[0mx\u001b[0m\u001b[0;34m[\u001b[0m\u001b[0;36m1\u001b[0m\u001b[0;34m]\u001b[0m \u001b[0;34m=\u001b[0m \u001b[0;34m'b'\u001b[0m\u001b[0;34m\u001b[0m\u001b[0m\n\u001b[0m",
        "\u001b[0;31mTypeError\u001b[0m: 'tuple' object does not support item assignment"
       ]
      }
     ],
     "prompt_number": 4
    },
    {
     "cell_type": "markdown",
     "metadata": {},
     "source": [
      "Tuples are frequently used behind the scenes in a special type of variable assignment called tuple packing/unpacking."
     ]
    },
    {
     "cell_type": "markdown",
     "metadata": {
      "slideshow": {
       "slide_type": "slide"
      }
     },
     "source": [
      "#### Strings"
     ]
    },
    {
     "cell_type": "markdown",
     "metadata": {
      "slideshow": {
       "slide_type": "-"
      }
     },
     "source": [
      "The string type in Python represents an immutable ordered array of characters (note there is no char type).\n",
      "\n",
      "> Strings support slicing and indexing operations like arrays, and have many other string-specific functions as well. \n",
      "\n",
      "String processing is one area where Python excels.\n"
     ]
    },
    {
     "cell_type": "code",
     "collapsed": false,
     "input": [
      "name = \"Mart van de Ven\"\n",
      "name"
     ],
     "language": "python",
     "metadata": {},
     "outputs": [
      {
       "metadata": {},
       "output_type": "pyout",
       "prompt_number": 56,
       "text": [
        "'Mart van de Ven'"
       ]
      }
     ],
     "prompt_number": 56
    },
    {
     "cell_type": "markdown",
     "metadata": {
      "slideshow": {
       "slide_type": "slide"
      }
     },
     "source": [
      "#### Dictionaries"
     ]
    },
    {
     "cell_type": "markdown",
     "metadata": {},
     "source": [
      "Associative arrays (or hash tables) are implemented in Python as the dictionary type."
     ]
    },
    {
     "cell_type": "code",
     "collapsed": false,
     "input": [
      "ds_hk_3 = {\n",
      "    'subject':'data science',\n",
      "    'instrutor': 'Mart',\n",
      "    'ta': 'Freda',\n",
      "    'time': 1900,\n",
      "    'is_amazing' : True}\n",
      "\n",
      "print 'We are taking ' + ds_hk_3['subject']\n",
      "print ds_hk_3['is_amazing']"
     ],
     "language": "python",
     "metadata": {},
     "outputs": [
      {
       "output_type": "stream",
       "stream": "stdout",
       "text": [
        "We are taking data science\n",
        "True\n"
       ]
      }
     ],
     "prompt_number": 14
    },
    {
     "cell_type": "markdown",
     "metadata": {},
     "source": [
      "> Dictionaries are unordered collections of key-value pairs, and dictionary keys must be immutable.\n"
     ]
    },
    {
     "cell_type": "markdown",
     "metadata": {
      "slideshow": {
       "slide_type": "slide"
      }
     },
     "source": [
      "#### Sets"
     ]
    },
    {
     "cell_type": "markdown",
     "metadata": {},
     "source": [
      "Another basic Python data type is the set. Sets are unordered mutable collections of distinct elements."
     ]
    },
    {
     "cell_type": "code",
     "collapsed": false,
     "input": [
      "y = set([1,2,3,3,3,2,1,6,7,8])\n",
      "y"
     ],
     "language": "python",
     "metadata": {},
     "outputs": [
      {
       "metadata": {},
       "output_type": "pyout",
       "prompt_number": 13,
       "text": [
        "{1, 2, 3, 6, 7, 8}"
       ]
      }
     ],
     "prompt_number": 13
    },
    {
     "cell_type": "markdown",
     "metadata": {},
     "source": [
      "These are particularly useful for checking membership of an element and for ensuring element uniqueness."
     ]
    },
    {
     "cell_type": "markdown",
     "metadata": {},
     "source": [
      "# Operators\n",
      "## String"
     ]
    },
    {
     "cell_type": "code",
     "collapsed": false,
     "input": [
      "# This is a comment!\n",
      "# Storing a string to the variable s\n",
      "s = \"Hello world, world\"\n",
      "# printing the type. It shows 'str' which means it is a string type\n",
      "print type(s)\n",
      "# printing the number of characters in the string.\n",
      "print len(s)\n",
      "# Python gave me an error below! I guess we can't change individual parts of a string this way.\n",
      "s[0] = 'h'\n",
      "# from here continue writing a comment for each line explaining what the following line does.\n",
      "s2 = s.replace(\"world\", \"python\")\n",
      "s3 = s2.replace(\"Hello\",\"monty\")\n",
      "print s\n",
      "print s2\n",
      "print s3\n",
      "print s[6:11]\n",
      "print s[6:]\n",
      "print s[-2:]\n",
      "s4 = s + ' ' + s3\n",
      "print s4\n",
      "print s4.find('world')\n",
      "print 'A string with value {0} and {1}'.format(10,20.3)\n",
      "help(str)"
     ],
     "language": "python",
     "metadata": {},
     "outputs": [
      {
       "output_type": "stream",
       "stream": "stdout",
       "text": [
        "<type 'str'>\n",
        "18\n"
       ]
      },
      {
       "ename": "TypeError",
       "evalue": "'str' object does not support item assignment",
       "output_type": "pyerr",
       "traceback": [
        "\u001b[0;31m---------------------------------------------------------------------------\u001b[0m\n\u001b[0;31mTypeError\u001b[0m                                 Traceback (most recent call last)",
        "\u001b[0;32m<ipython-input-12-fa408bcc966b>\u001b[0m in \u001b[0;36m<module>\u001b[0;34m()\u001b[0m\n\u001b[1;32m      7\u001b[0m \u001b[0;32mprint\u001b[0m \u001b[0mlen\u001b[0m\u001b[0;34m(\u001b[0m\u001b[0ms\u001b[0m\u001b[0;34m)\u001b[0m\u001b[0;34m\u001b[0m\u001b[0m\n\u001b[1;32m      8\u001b[0m \u001b[0;31m# Python gave me an error below! I guess we can't change individual parts of a string this way.\u001b[0m\u001b[0;34m\u001b[0m\u001b[0;34m\u001b[0m\u001b[0m\n\u001b[0;32m----> 9\u001b[0;31m \u001b[0ms\u001b[0m\u001b[0;34m[\u001b[0m\u001b[0;36m0\u001b[0m\u001b[0;34m]\u001b[0m \u001b[0;34m=\u001b[0m \u001b[0;34m'h'\u001b[0m\u001b[0;34m\u001b[0m\u001b[0m\n\u001b[0m\u001b[1;32m     10\u001b[0m \u001b[0;31m# from here continue writing a comment for each line explaining what the following line does.\u001b[0m\u001b[0;34m\u001b[0m\u001b[0;34m\u001b[0m\u001b[0m\n\u001b[1;32m     11\u001b[0m \u001b[0ms2\u001b[0m \u001b[0;34m=\u001b[0m \u001b[0ms\u001b[0m\u001b[0;34m.\u001b[0m\u001b[0mreplace\u001b[0m\u001b[0;34m(\u001b[0m\u001b[0;34m\"world\"\u001b[0m\u001b[0;34m,\u001b[0m \u001b[0;34m\"python\"\u001b[0m\u001b[0;34m)\u001b[0m\u001b[0;34m\u001b[0m\u001b[0m\n",
        "\u001b[0;31mTypeError\u001b[0m: 'str' object does not support item assignment"
       ]
      }
     ],
     "prompt_number": 12
    },
    {
     "cell_type": "markdown",
     "metadata": {},
     "source": [
      "## Lists"
     ]
    },
    {
     "cell_type": "code",
     "collapsed": false,
     "input": [
      "values = ['1',2,3.0,False]\n",
      "print len(values)\n",
      "print type(values)\n",
      "print values\n",
      "print values[1]\n",
      "print values[:3]\n",
      "print values[2:]\n",
      "l = []\n",
      "l.append(8)\n",
      "l.append(10)\n",
      "l.append(10)\n",
      "l.append(12)\n",
      "print l\n",
      "l.remove(10)\n",
      "print l\n",
      "l.remove(l[0])\n",
      "print l\n",
      "l = range(0,10,2)\n",
      "print l\n",
      "l = range(-5,5)\n",
      "print l\n",
      "line = \"This is a    \\t list -      \\t of strings\"\n",
      "print len(line.split('\\t'))\n",
      "print line.split('\\t')\n",
      "print ['add another field' for i in range(10)]\n",
      "l = range(-5,5)\n",
      "print l\n",
      "print l.sort(reverse=True)\n",
      "print l"
     ],
     "language": "python",
     "metadata": {},
     "outputs": []
    },
    {
     "cell_type": "markdown",
     "metadata": {},
     "source": [
      "# Dictionaries"
     ]
    },
    {
     "cell_type": "code",
     "collapsed": false,
     "input": [
      "data = {}\n",
      "data['k1'] = True\n",
      "data['x2'] = 2\n",
      "data[100] = 3.0\n",
      "print data\n",
      "print len(data), type(data)\n",
      "data['k4'] = 100\n",
      "data = {'number': 10, 1:'string'}\n",
      "data['c'] = [1,2,3,4]\n",
      "print data\n",
      "print data[1]\n",
      "print data['c'][3]\n",
      "print data['number']"
     ],
     "language": "python",
     "metadata": {},
     "outputs": [
      {
       "output_type": "stream",
       "stream": "stdout",
       "text": [
        "{'x2': 2, 'k1': True, 100: 3.0}\n",
        "3 <type 'dict'>\n",
        "{1: 'string', 'c': [1, 2, 3, 4], 'number': 10}\n",
        "string\n",
        "4\n",
        "10\n"
       ]
      }
     ],
     "prompt_number": 13
    },
    {
     "cell_type": "markdown",
     "metadata": {},
     "source": [
      "# Control Flow\n",
      "## If Statements"
     ]
    },
    {
     "cell_type": "code",
     "collapsed": false,
     "input": [
      "x = int(raw_input(\"Please enter an integer: \"))\n",
      "\n",
      "if x < 0:\n",
      "    x = 0\n",
      "    print 'Negative changed to zero'\n",
      "elif x == 0:\n",
      "    print 'Zero'\n",
      "elif x == 1:\n",
      "    print 'Single'\n",
      "else:\n",
      "    print 'More'"
     ],
     "language": "python",
     "metadata": {},
     "outputs": [
      {
       "name": "stdout",
       "output_type": "stream",
       "stream": "stdout",
       "text": [
        "Please enter an integer: 2\n"
       ]
      },
      {
       "output_type": "stream",
       "stream": "stdout",
       "text": [
        "More\n"
       ]
      }
     ],
     "prompt_number": 2
    },
    {
     "cell_type": "markdown",
     "metadata": {},
     "source": [
      "# For Loop"
     ]
    },
    {
     "cell_type": "code",
     "collapsed": false,
     "input": [
      "# the basic for loop\n",
      "for i in [1, 2, 3]:\n",
      "    print i"
     ],
     "language": "python",
     "metadata": {},
     "outputs": [
      {
       "output_type": "stream",
       "stream": "stdout",
       "text": [
        "0\n",
        "1\n",
        "2\n",
        "3\n"
       ]
      }
     ],
     "prompt_number": 6
    },
    {
     "cell_type": "code",
     "collapsed": false,
     "input": [
      "# Iterating through a list\n",
      "for_list = [\"a\", \"b\", \"c\", \"d\"]\n",
      "for element in for_list:\n",
      "    print element"
     ],
     "language": "python",
     "metadata": {},
     "outputs": [
      {
       "output_type": "stream",
       "stream": "stdout",
       "text": [
        "a\n",
        "b\n",
        "c\n",
        "d\n"
       ]
      }
     ],
     "prompt_number": 8
    },
    {
     "cell_type": "code",
     "collapsed": false,
     "input": [
      "for_list = [\"a\", \"b\", \"c\", \"d\"]\n",
      "for i, element in enumerate(for_list):\n",
      "    print i, element"
     ],
     "language": "python",
     "metadata": {},
     "outputs": [
      {
       "output_type": "stream",
       "stream": "stdout",
       "text": [
        "0 a\n",
        "1 b\n",
        "2 c\n",
        "3 d\n"
       ]
      }
     ],
     "prompt_number": 9
    },
    {
     "cell_type": "markdown",
     "metadata": {},
     "source": [
      "# Math Quiz\n",
      "\n",
      "## Description\n",
      "\n",
      "The following program runs a math quiz consisting of 10 multiplication problems involving operands between 1 and 10:\n",
      "\n",
      "from random import randint \n",
      "\n",
      "correct = 0\n",
      "\n",
      "for i in range(10):\n",
      "    n1 = randint(1, 10)\n",
      "    n2 = randint(1, 10)\n",
      "    prod = n1 * n2\n",
      "    \n",
      "    ans = input(\"What's %d times %d? \" % (n1, n2))\n",
      "    if ans == prod:\n",
      "        print \"That's right -- well done.\\n\"\n",
      "        correct = correct + 1\n",
      "    else:\n",
      "        print \"No, I'm afraid the answer is %d.\\n\" % prod\n",
      "\n",
      "print \"\\nI asked you 10 questions.  You got %d of them right.\" % correct\n",
      "print \"Well done!\"\n",
      "Your mission will be to do the following:\n",
      "\n",
      "Modify the program so that the user can choose how many questions they will be asked.\n",
      "\n",
      "Add levels to the program:\n",
      "Beginner - with operands between 1 and 10\n",
      "Intermediate - with operands between 1 and 25\n",
      "Advanced - with operands between 1 and 100\n",
      "\n",
      "Modify the message at the end so that it says:\n",
      "Well done!: if the user answered more than 2/3 of the questions correctly.\n",
      "You need more practice: if they get between 1/3 and 2/3 of the questions correct.\n",
      "Please ask your math teacher for help!: if they get less than 1/3 of the questions correct.\n",
      "\n",
      "Allow the user to start another quiz without restarting the program. \n",
      "\n",
      "Let the user choose the question type: addition, subtraction, multiplication, or mixed.\n",
      "\n",
      "## Extra for Experts:\n",
      "\n",
      "Add division as a question type, but only generate questions which have integral solutions. \n",
      "\n",
      "Maintain session totals for each type of question (the total number of questions, and the total answered correctly; the total number of addition, subtraction, multiplication, and division questions and the total correct for each of these question types)."
     ]
    },
    {
     "cell_type": "markdown",
     "metadata": {},
     "source": [
      "# Classes"
     ]
    },
    {
     "cell_type": "code",
     "collapsed": false,
     "input": [
      "class Car():\n",
      "    have_wheels = True\n",
      "    def __init__(self, model='Ford'):\n",
      "        self.model = model\n",
      "        self.running = False\n",
      "    def start(self):\n",
      "        if self.running != True:\n",
      "            print 'The car started!'\n",
      "            self.running = True\n",
      "        else:\n",
      "            print 'The car is already running!'\n",
      "    def stop(self):\n",
      "        if self.running == True:\n",
      "            print 'The car stopped!'\n",
      "            self.running = False\n",
      "        else:\n",
      "            print 'The car was not running!'\n",
      "\n",
      "Car.have_wheels\n",
      "ford = Car()\n",
      "nissan = Car(model = 'Nissan')\n",
      "ford.running\n",
      "ford.start()\n",
      "ford.running\n",
      "nissan.running\n",
      "nissan.stop()"
     ],
     "language": "python",
     "metadata": {},
     "outputs": [
      {
       "output_type": "stream",
       "stream": "stdout",
       "text": [
        "The car started!\n",
        "The car was not running!\n"
       ]
      },
      {
       "metadata": {},
       "output_type": "pyout",
       "prompt_number": 33,
       "text": [
        "True"
       ]
      }
     ],
     "prompt_number": 33
    },
    {
     "cell_type": "code",
     "collapsed": false,
     "input": [
      "def hi_mom(message=\"Hi Mom\"):\n",
      "    \"\"\"A good function always has a doc string\"\"\"\n",
      "    return message\n",
      "\n",
      "hi_mom()"
     ],
     "language": "python",
     "metadata": {},
     "outputs": [
      {
       "output_type": "stream",
       "stream": "stdout",
       "text": [
        "Hi Mom\n",
        "<type 'NoneType'>\n"
       ]
      }
     ],
     "prompt_number": 36
    },
    {
     "cell_type": "markdown",
     "metadata": {},
     "source": [
      "1. Find a data science link you want to share with the class. This can be a blog, paper worth reading, or article you found.\n",
      "\n",
      "**NEXT CLASS SUBJECT: Pandas Intro**\n",
      "\n"
     ]
    }
   ],
   "metadata": {}
  }
 ]
}